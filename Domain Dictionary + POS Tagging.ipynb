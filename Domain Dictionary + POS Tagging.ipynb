{
 "cells": [
  {
   "cell_type": "code",
   "execution_count": 1,
   "id": "af4876a0",
   "metadata": {},
   "outputs": [],
   "source": [
    "import pandas as pd\n",
    "import numpy as np\n",
    "import nltk\n",
    "from nltk.corpus import stopwords\n",
    "from nltk.stem.porter import *\n",
    "from nltk.stem import WordNetLemmatizer\n",
    "from nltk.stem import SnowballStemmer\n",
    "from nltk.corpus import wordnet\n",
    "from nltk.tokenize import word_tokenize\n",
    "import gensim\n",
    "from gensim import corpora, models"
   ]
  },
  {
   "cell_type": "code",
   "execution_count": null,
   "id": "00928adb",
   "metadata": {},
   "outputs": [],
   "source": [
    "import os\n",
    "# os.environ['JAVAHOME'] = 'C:/Program Files/Java/jdk-17.0.1/bin'\n",
    "# os.environ['STANFORD_PARSER'] = 'C:/stanford-corenlp-4.5.3'\n",
    "# os.environ['STANFORD_MODELS'] = 'C:/stanford-corenlp-4.5.3'\n",
    "\n",
    "os.environ['JAVAHOME'] = 'C:/Program Files/Java/jdk1.8.0_361/bin'\n",
    "os.environ['STANFORD_PARSER'] = 'C:/Program Files/stanford-corenlp-4.5.2/'\n",
    "os.environ['STANFORD_MODELS'] = 'C:/Program Files/stanford-corenlp-4.5.2/'\n",
    "\n"
   ]
  },
  {
   "cell_type": "code",
   "execution_count": null,
   "id": "59f3942b",
   "metadata": {},
   "outputs": [],
   "source": [
    "from nltk.parse import CoreNLPParser\n",
    "\n",
    "pos_tagger = CoreNLPParser(url='http://localhost:9000', tagtype='pos')"
   ]
  },
  {
   "cell_type": "markdown",
   "id": "52dbe238",
   "metadata": {},
   "source": [
    "### Domain Dictionary"
   ]
  },
  {
   "cell_type": "code",
   "execution_count": null,
   "id": "e75d8c5e",
   "metadata": {},
   "outputs": [],
   "source": [
    "dict1 = pd.read_csv(\"suicidal_indicator.csv\", header=None).T\n",
    "dict2 = pd.read_csv(\"suicidal_ideation.csv\", header=None).T\n",
    "dict3 = pd.read_csv(\"suicidal_behavior.csv\", header=None).T\n",
    "dict4 = pd.read_csv(\"suicidal_attempt.csv\", header=None).T\n"
   ]
  },
  {
   "cell_type": "code",
   "execution_count": null,
   "id": "289291e2",
   "metadata": {},
   "outputs": [],
   "source": [
    "###combined dictionary into 1\n",
    "domain_dict = pd.concat([dict1, dict2, dict3,dict4], ignore_index=True)\n",
    "domain_dict = domain_dict.rename(columns={0: 'lexicons'})\n",
    "domain_dict.head()"
   ]
  },
  {
   "cell_type": "code",
   "execution_count": null,
   "id": "400cd5c0",
   "metadata": {},
   "outputs": [],
   "source": [
    "def lower_text(text):\n",
    "    text = str(text).lower()\n",
    "    return text"
   ]
  },
  {
   "cell_type": "code",
   "execution_count": null,
   "id": "c89450e5",
   "metadata": {},
   "outputs": [],
   "source": [
    "domain_dict['lexicons'] = domain_dict['lexicons'].apply(lower_text)"
   ]
  },
  {
   "cell_type": "code",
   "execution_count": null,
   "id": "3da51321",
   "metadata": {},
   "outputs": [],
   "source": [
    "domain_dict"
   ]
  },
  {
   "cell_type": "code",
   "execution_count": null,
   "id": "96aed1e2",
   "metadata": {},
   "outputs": [],
   "source": [
    "domain_dict = domain_dict.drop(domain_dict.index[1521]).reset_index(drop=True)"
   ]
  },
  {
   "cell_type": "code",
   "execution_count": null,
   "id": "1b30c16d",
   "metadata": {},
   "outputs": [],
   "source": [
    "def stem_preprocess_text(sentence):\n",
    "    stop_words = set(stopwords.words('english'))\n",
    "    stemmer = SnowballStemmer('english')\n",
    "    sentence = str(sentence)\n",
    "    words = nltk.word_tokenize(sentence.lower())\n",
    "    tagged_words = pos_tagger.tag(words)\n",
    "    tagged_words = [(stemmer.stem(word), tag) for word, tag in tagged_words if word not in stop_words]\n",
    "    return tagged_words"
   ]
  },
  {
   "cell_type": "code",
   "execution_count": null,
   "id": "daf6cbee",
   "metadata": {},
   "outputs": [],
   "source": [
    "domain_dict[\"stem\"] = domain_dict[\"lexicons\"].apply(stem_preprocess_text)"
   ]
  },
  {
   "cell_type": "code",
   "execution_count": null,
   "id": "121b889c",
   "metadata": {},
   "outputs": [],
   "source": [
    "def lem_preprocess_text(sentence):\n",
    "    stop_words = set(stopwords.words('english'))\n",
    "#     stemmer = PorterStemmer()\n",
    "    lemmatizer = WordNetLemmatizer()\n",
    "    sentence = str(sentence)\n",
    "    words = nltk.word_tokenize(sentence.lower())\n",
    "    tagged_words = pos_tagger.tag(words)\n",
    "    tagged_words = [(lemmatizer.lemmatize(word), tag) for word, tag in tagged_words if word not in stop_words]\n",
    "    return tagged_words"
   ]
  },
  {
   "cell_type": "code",
   "execution_count": null,
   "id": "5f5464dc",
   "metadata": {},
   "outputs": [],
   "source": [
    "domain_dict[\"lem\"] = domain_dict[\"lexicons\"].apply(lem_preprocess_text)"
   ]
  },
  {
   "cell_type": "code",
   "execution_count": null,
   "id": "7fee2012",
   "metadata": {},
   "outputs": [],
   "source": [
    "domain_dict"
   ]
  },
  {
   "cell_type": "code",
   "execution_count": null,
   "id": "cc4f7172",
   "metadata": {},
   "outputs": [],
   "source": [
    "def nested_list_to_string(nested_list):\n",
    "    return ' '.join(['_'.join(tup) for tup in nested_list])"
   ]
  },
  {
   "cell_type": "code",
   "execution_count": null,
   "id": "682e6cbf",
   "metadata": {},
   "outputs": [],
   "source": [
    "domain_dict[\"stem\"] = domain_dict[\"stem\"].apply(nested_list_to_string)\n",
    "domain_dict[\"lem\"] = domain_dict[\"lem\"].apply(nested_list_to_string)\n",
    "domain_dict"
   ]
  },
  {
   "cell_type": "code",
   "execution_count": null,
   "id": "dec94099",
   "metadata": {},
   "outputs": [],
   "source": [
    "## get list of domain dictionary that are stemmed\n",
    "list_of_stem = []\n",
    "for i in range (len(domain_dict[\"stem\"])):\n",
    "    list_of_stem.append(domain_dict[\"stem\"].iloc[i])\n",
    "len(list_of_stem)"
   ]
  },
  {
   "cell_type": "code",
   "execution_count": null,
   "id": "38ee2fec",
   "metadata": {},
   "outputs": [],
   "source": [
    "## get list of domain dictionary that are lemmatized\n",
    "list_of_lem = []\n",
    "for j in range (len(domain_dict[\"lem\"])):\n",
    "    list_of_lem.append(domain_dict[\"lem\"].iloc[j])\n",
    "len(list_of_lem)"
   ]
  },
  {
   "cell_type": "code",
   "execution_count": null,
   "id": "9f8e710c",
   "metadata": {},
   "outputs": [],
   "source": [
    "with open(\"domain_dict_postag_lem.txt\", \"w\") as file:\n",
    "    for item in list_of_lem:\n",
    "        file.write(\"%s\\n\" % item)"
   ]
  },
  {
   "cell_type": "markdown",
   "id": "a8d97387",
   "metadata": {},
   "source": [
    "### POS Tagging\n"
   ]
  },
  {
   "cell_type": "code",
   "execution_count": null,
   "id": "c6bb402c",
   "metadata": {},
   "outputs": [],
   "source": [
    "data = pd.read_csv(\"preprocessed_data_new.csv\")\n",
    "data.head()"
   ]
  },
  {
   "cell_type": "code",
   "execution_count": null,
   "id": "ef373a62",
   "metadata": {},
   "outputs": [],
   "source": [
    "data.info()"
   ]
  },
  {
   "cell_type": "code",
   "execution_count": null,
   "id": "b6b2fb47",
   "metadata": {},
   "outputs": [],
   "source": [
    "#drop stemmed_processed_text column\n",
    "data.drop(columns = [\"stemmed_processed_text\"], inplace = True)"
   ]
  },
  {
   "cell_type": "code",
   "execution_count": null,
   "id": "8cf3134c",
   "metadata": {},
   "outputs": [],
   "source": [
    "#clean and tokenize lemmatized_processed_text as it is intepreted as an entire string \n",
    "def clean_and_tokenize(text):\n",
    "    # Remove the brackets and commas using a regular expression\n",
    "    cleaned_text = re.sub(r\"[\\[\\],']\", \"\", text)\n",
    "    # Tokenize the string using word_tokenize\n",
    "    tokens = word_tokenize(cleaned_text)\n",
    "    return tokens"
   ]
  },
  {
   "cell_type": "code",
   "execution_count": null,
   "id": "0f51c459",
   "metadata": {},
   "outputs": [],
   "source": [
    "# Apply the function to the 'lemmatized_processed_text' column of the DataFrame\n",
    "data['tokens'] = data['lemmatized_processed_text'].apply(clean_and_tokenize)"
   ]
  },
  {
   "cell_type": "code",
   "execution_count": null,
   "id": "7fb87977",
   "metadata": {},
   "outputs": [],
   "source": [
    "# Define a function to add POS tags to a list of tokens\n",
    "def add_pos_tags(tokens):\n",
    "    tagged_tokens = []\n",
    "    for token in tokens:\n",
    "        pos_tag = pos_tagger.tag([token])[0][1]\n",
    "        tagged_token = f\"{token}_{pos_tag}\"\n",
    "        tagged_tokens.append(tagged_token)\n",
    "    return tagged_tokens\n",
    "\n",
    "# Apply the function to the 'tokens' column of the DataFrame\n",
    "data['tagged_tokens'] = data['tokens'].map(add_pos_tags)\n"
   ]
  },
  {
   "cell_type": "code",
   "execution_count": null,
   "id": "f3041afc",
   "metadata": {},
   "outputs": [],
   "source": [
    "data.head()"
   ]
  },
  {
   "cell_type": "code",
   "execution_count": null,
   "id": "bbc2b407",
   "metadata": {},
   "outputs": [],
   "source": [
    "data.to_csv('pos_tagged.csv', index=False)"
   ]
  },
  {
   "cell_type": "markdown",
   "id": "41e50180",
   "metadata": {},
   "source": [
    "### combining domain dictionary + POS and creating TF-IDF model\n"
   ]
  },
  {
   "cell_type": "code",
   "execution_count": 2,
   "id": "4b94b13f",
   "metadata": {},
   "outputs": [],
   "source": [
    "data = pd.read_csv(\"pos_tagged_new.csv\")\n",
    "data.dropna(inplace=True)"
   ]
  },
  {
   "cell_type": "code",
   "execution_count": 3,
   "id": "d2284363",
   "metadata": {},
   "outputs": [],
   "source": [
    "#make a copy of data\n",
    "data_text = data[\"text\"].copy()"
   ]
  },
  {
   "cell_type": "code",
   "execution_count": 4,
   "id": "1ae981be",
   "metadata": {},
   "outputs": [
    {
     "data": {
      "text/html": [
       "<div>\n",
       "<style scoped>\n",
       "    .dataframe tbody tr th:only-of-type {\n",
       "        vertical-align: middle;\n",
       "    }\n",
       "\n",
       "    .dataframe tbody tr th {\n",
       "        vertical-align: top;\n",
       "    }\n",
       "\n",
       "    .dataframe thead th {\n",
       "        text-align: right;\n",
       "    }\n",
       "</style>\n",
       "<table border=\"1\" class=\"dataframe\">\n",
       "  <thead>\n",
       "    <tr style=\"text-align: right;\">\n",
       "      <th></th>\n",
       "      <th>text</th>\n",
       "      <th>class</th>\n",
       "      <th>lemmatized_processed_text</th>\n",
       "      <th>tokens</th>\n",
       "      <th>tagged_tokens</th>\n",
       "    </tr>\n",
       "  </thead>\n",
       "  <tbody>\n",
       "    <tr>\n",
       "      <th>0</th>\n",
       "      <td>ex wife threatening suicide recently i left my...</td>\n",
       "      <td>suicide</td>\n",
       "      <td>['ex', 'wife', 'threatening', 'suicide', 'rece...</td>\n",
       "      <td>['ex', 'wife', 'threatening', 'suicide', 'rece...</td>\n",
       "      <td>['ex_NN', 'wife_NN', 'threatening_VBG', 'suici...</td>\n",
       "    </tr>\n",
       "    <tr>\n",
       "      <th>1</th>\n",
       "      <td>am i weird i do not get affected by compliment...</td>\n",
       "      <td>non-suicide</td>\n",
       "      <td>['weird', 'get', 'affected', 'compliment', 'co...</td>\n",
       "      <td>['weird', 'get', 'affected', 'compliment', 'co...</td>\n",
       "      <td>['weird_JJ', 'get_VB', 'affected_VBN', 'compli...</td>\n",
       "    </tr>\n",
       "    <tr>\n",
       "      <th>2</th>\n",
       "      <td>finally is almost over so i can never hear has...</td>\n",
       "      <td>non-suicide</td>\n",
       "      <td>['finally', 'almost', 'never', 'hear', 'bad', ...</td>\n",
       "      <td>['finally', 'almost', 'never', 'hear', 'bad', ...</td>\n",
       "      <td>['finally_RB', 'almost_RB', 'never_RB', 'hear_...</td>\n",
       "    </tr>\n",
       "    <tr>\n",
       "      <th>3</th>\n",
       "      <td>i need help just help me i am crying so hard</td>\n",
       "      <td>suicide</td>\n",
       "      <td>['need', 'help', 'help', 'cry', 'hard']</td>\n",
       "      <td>['need', 'help', 'help', 'cry', 'hard']</td>\n",
       "      <td>['need_NN', 'help_NN', 'help_NN', 'cry_NN', 'h...</td>\n",
       "    </tr>\n",
       "    <tr>\n",
       "      <th>4</th>\n",
       "      <td>i m so lost hello my name is adam and i ve bee...</td>\n",
       "      <td>suicide</td>\n",
       "      <td>['lost', 'hello', 'name', 'adam', 'struggling'...</td>\n",
       "      <td>['lost', 'hello', 'name', 'adam', 'struggling'...</td>\n",
       "      <td>['lost_VBN', 'hello_UH', 'name_NN', 'adam_NN',...</td>\n",
       "    </tr>\n",
       "    <tr>\n",
       "      <th>...</th>\n",
       "      <td>...</td>\n",
       "      <td>...</td>\n",
       "      <td>...</td>\n",
       "      <td>...</td>\n",
       "      <td>...</td>\n",
       "    </tr>\n",
       "    <tr>\n",
       "      <th>232069</th>\n",
       "      <td>if you do not like rock then your not going to...</td>\n",
       "      <td>non-suicide</td>\n",
       "      <td>['like', 'rock', 'going', 'get', 'anything', '...</td>\n",
       "      <td>['like', 'rock', 'going', 'get', 'anything', '...</td>\n",
       "      <td>['like_UH', 'rock_NN', 'going_VBG', 'get_VB', ...</td>\n",
       "    </tr>\n",
       "    <tr>\n",
       "      <th>232070</th>\n",
       "      <td>you how you can tell i have so many friends an...</td>\n",
       "      <td>non-suicide</td>\n",
       "      <td>['tell', 'many', 'friend', 'lonely', 'everythi...</td>\n",
       "      <td>['tell', 'many', 'friend', 'lonely', 'everythi...</td>\n",
       "      <td>['tell_VB', 'many_JJ', 'friend_NN', 'lonely_JJ...</td>\n",
       "    </tr>\n",
       "    <tr>\n",
       "      <th>232071</th>\n",
       "      <td>pee probably tastes like salty tea can someone...</td>\n",
       "      <td>non-suicide</td>\n",
       "      <td>['pee', 'probably', 'taste', 'like', 'salty', ...</td>\n",
       "      <td>['pee', 'probably', 'taste', 'like', 'salty', ...</td>\n",
       "      <td>['pee_VB', 'probably_RB', 'taste_NN', 'like_UH...</td>\n",
       "    </tr>\n",
       "    <tr>\n",
       "      <th>232072</th>\n",
       "      <td>the usual stuff you find here i'm not posting ...</td>\n",
       "      <td>suicide</td>\n",
       "      <td>['usual', 'stuff', 'find', \"'m\", 'posting', 's...</td>\n",
       "      <td>['usual', 'stuff', 'find', '``', 'm', \"''\", 'p...</td>\n",
       "      <td>['usual_JJ', 'stuff_NN', 'find_VB', '``_``', '...</td>\n",
       "    </tr>\n",
       "    <tr>\n",
       "      <th>232073</th>\n",
       "      <td>i still have not beaten the first boss in holl...</td>\n",
       "      <td>non-suicide</td>\n",
       "      <td>['still', 'beaten', 'first', 'bos', 'hollow', ...</td>\n",
       "      <td>['still', 'beaten', 'first', 'bos', 'hollow', ...</td>\n",
       "      <td>['still_RB', 'beaten_VBN', 'first_RB', 'bos_NN...</td>\n",
       "    </tr>\n",
       "  </tbody>\n",
       "</table>\n",
       "<p>232017 rows × 5 columns</p>\n",
       "</div>"
      ],
      "text/plain": [
       "                                                     text        class  \\\n",
       "0       ex wife threatening suicide recently i left my...      suicide   \n",
       "1       am i weird i do not get affected by compliment...  non-suicide   \n",
       "2       finally is almost over so i can never hear has...  non-suicide   \n",
       "3            i need help just help me i am crying so hard      suicide   \n",
       "4       i m so lost hello my name is adam and i ve bee...      suicide   \n",
       "...                                                   ...          ...   \n",
       "232069  if you do not like rock then your not going to...  non-suicide   \n",
       "232070  you how you can tell i have so many friends an...  non-suicide   \n",
       "232071  pee probably tastes like salty tea can someone...  non-suicide   \n",
       "232072  the usual stuff you find here i'm not posting ...      suicide   \n",
       "232073  i still have not beaten the first boss in holl...  non-suicide   \n",
       "\n",
       "                                lemmatized_processed_text  \\\n",
       "0       ['ex', 'wife', 'threatening', 'suicide', 'rece...   \n",
       "1       ['weird', 'get', 'affected', 'compliment', 'co...   \n",
       "2       ['finally', 'almost', 'never', 'hear', 'bad', ...   \n",
       "3                 ['need', 'help', 'help', 'cry', 'hard']   \n",
       "4       ['lost', 'hello', 'name', 'adam', 'struggling'...   \n",
       "...                                                   ...   \n",
       "232069  ['like', 'rock', 'going', 'get', 'anything', '...   \n",
       "232070  ['tell', 'many', 'friend', 'lonely', 'everythi...   \n",
       "232071  ['pee', 'probably', 'taste', 'like', 'salty', ...   \n",
       "232072  ['usual', 'stuff', 'find', \"'m\", 'posting', 's...   \n",
       "232073  ['still', 'beaten', 'first', 'bos', 'hollow', ...   \n",
       "\n",
       "                                                   tokens  \\\n",
       "0       ['ex', 'wife', 'threatening', 'suicide', 'rece...   \n",
       "1       ['weird', 'get', 'affected', 'compliment', 'co...   \n",
       "2       ['finally', 'almost', 'never', 'hear', 'bad', ...   \n",
       "3                 ['need', 'help', 'help', 'cry', 'hard']   \n",
       "4       ['lost', 'hello', 'name', 'adam', 'struggling'...   \n",
       "...                                                   ...   \n",
       "232069  ['like', 'rock', 'going', 'get', 'anything', '...   \n",
       "232070  ['tell', 'many', 'friend', 'lonely', 'everythi...   \n",
       "232071  ['pee', 'probably', 'taste', 'like', 'salty', ...   \n",
       "232072  ['usual', 'stuff', 'find', '``', 'm', \"''\", 'p...   \n",
       "232073  ['still', 'beaten', 'first', 'bos', 'hollow', ...   \n",
       "\n",
       "                                            tagged_tokens  \n",
       "0       ['ex_NN', 'wife_NN', 'threatening_VBG', 'suici...  \n",
       "1       ['weird_JJ', 'get_VB', 'affected_VBN', 'compli...  \n",
       "2       ['finally_RB', 'almost_RB', 'never_RB', 'hear_...  \n",
       "3       ['need_NN', 'help_NN', 'help_NN', 'cry_NN', 'h...  \n",
       "4       ['lost_VBN', 'hello_UH', 'name_NN', 'adam_NN',...  \n",
       "...                                                   ...  \n",
       "232069  ['like_UH', 'rock_NN', 'going_VBG', 'get_VB', ...  \n",
       "232070  ['tell_VB', 'many_JJ', 'friend_NN', 'lonely_JJ...  \n",
       "232071  ['pee_VB', 'probably_RB', 'taste_NN', 'like_UH...  \n",
       "232072  ['usual_JJ', 'stuff_NN', 'find_VB', '``_``', '...  \n",
       "232073  ['still_RB', 'beaten_VBN', 'first_RB', 'bos_NN...  \n",
       "\n",
       "[232017 rows x 5 columns]"
      ]
     },
     "execution_count": 4,
     "metadata": {},
     "output_type": "execute_result"
    }
   ],
   "source": [
    "data"
   ]
  },
  {
   "cell_type": "code",
   "execution_count": 5,
   "id": "fcb962ae",
   "metadata": {},
   "outputs": [],
   "source": [
    "import ast\n",
    "data['tagged_tokens'] = data['tagged_tokens'].apply(lambda x: [str(i) for i in ast.literal_eval(x)])\n"
   ]
  },
  {
   "cell_type": "code",
   "execution_count": 6,
   "id": "7d240a78",
   "metadata": {},
   "outputs": [
    {
     "data": {
      "text/html": [
       "<div>\n",
       "<style scoped>\n",
       "    .dataframe tbody tr th:only-of-type {\n",
       "        vertical-align: middle;\n",
       "    }\n",
       "\n",
       "    .dataframe tbody tr th {\n",
       "        vertical-align: top;\n",
       "    }\n",
       "\n",
       "    .dataframe thead th {\n",
       "        text-align: right;\n",
       "    }\n",
       "</style>\n",
       "<table border=\"1\" class=\"dataframe\">\n",
       "  <thead>\n",
       "    <tr style=\"text-align: right;\">\n",
       "      <th></th>\n",
       "      <th>class</th>\n",
       "      <th>tagged_tokens</th>\n",
       "    </tr>\n",
       "  </thead>\n",
       "  <tbody>\n",
       "    <tr>\n",
       "      <th>0</th>\n",
       "      <td>suicide</td>\n",
       "      <td>[ex_NN, wife_NN, threatening_VBG, suicide_NN, ...</td>\n",
       "    </tr>\n",
       "    <tr>\n",
       "      <th>1</th>\n",
       "      <td>non-suicide</td>\n",
       "      <td>[weird_JJ, get_VB, affected_VBN, compliment_NN...</td>\n",
       "    </tr>\n",
       "    <tr>\n",
       "      <th>2</th>\n",
       "      <td>non-suicide</td>\n",
       "      <td>[finally_RB, almost_RB, never_RB, hear_VB, bad...</td>\n",
       "    </tr>\n",
       "    <tr>\n",
       "      <th>3</th>\n",
       "      <td>suicide</td>\n",
       "      <td>[need_NN, help_NN, help_NN, cry_NN, hard_RB]</td>\n",
       "    </tr>\n",
       "    <tr>\n",
       "      <th>4</th>\n",
       "      <td>suicide</td>\n",
       "      <td>[lost_VBN, hello_UH, name_NN, adam_NN, struggl...</td>\n",
       "    </tr>\n",
       "    <tr>\n",
       "      <th>...</th>\n",
       "      <td>...</td>\n",
       "      <td>...</td>\n",
       "    </tr>\n",
       "    <tr>\n",
       "      <th>232069</th>\n",
       "      <td>non-suicide</td>\n",
       "      <td>[like_UH, rock_NN, going_VBG, get_VB, anything...</td>\n",
       "    </tr>\n",
       "    <tr>\n",
       "      <th>232070</th>\n",
       "      <td>non-suicide</td>\n",
       "      <td>[tell_VB, many_JJ, friend_NN, lonely_JJ, every...</td>\n",
       "    </tr>\n",
       "    <tr>\n",
       "      <th>232071</th>\n",
       "      <td>non-suicide</td>\n",
       "      <td>[pee_VB, probably_RB, taste_NN, like_UH, salty...</td>\n",
       "    </tr>\n",
       "    <tr>\n",
       "      <th>232072</th>\n",
       "      <td>suicide</td>\n",
       "      <td>[usual_JJ, stuff_NN, find_VB, ``_``, m_NN, ''_...</td>\n",
       "    </tr>\n",
       "    <tr>\n",
       "      <th>232073</th>\n",
       "      <td>non-suicide</td>\n",
       "      <td>[still_RB, beaten_VBN, first_RB, bos_NNS, holl...</td>\n",
       "    </tr>\n",
       "  </tbody>\n",
       "</table>\n",
       "<p>232017 rows × 2 columns</p>\n",
       "</div>"
      ],
      "text/plain": [
       "              class                                      tagged_tokens\n",
       "0           suicide  [ex_NN, wife_NN, threatening_VBG, suicide_NN, ...\n",
       "1       non-suicide  [weird_JJ, get_VB, affected_VBN, compliment_NN...\n",
       "2       non-suicide  [finally_RB, almost_RB, never_RB, hear_VB, bad...\n",
       "3           suicide       [need_NN, help_NN, help_NN, cry_NN, hard_RB]\n",
       "4           suicide  [lost_VBN, hello_UH, name_NN, adam_NN, struggl...\n",
       "...             ...                                                ...\n",
       "232069  non-suicide  [like_UH, rock_NN, going_VBG, get_VB, anything...\n",
       "232070  non-suicide  [tell_VB, many_JJ, friend_NN, lonely_JJ, every...\n",
       "232071  non-suicide  [pee_VB, probably_RB, taste_NN, like_UH, salty...\n",
       "232072      suicide  [usual_JJ, stuff_NN, find_VB, ``_``, m_NN, ''_...\n",
       "232073  non-suicide  [still_RB, beaten_VBN, first_RB, bos_NNS, holl...\n",
       "\n",
       "[232017 rows x 2 columns]"
      ]
     },
     "execution_count": 6,
     "metadata": {},
     "output_type": "execute_result"
    }
   ],
   "source": [
    "data.drop(columns = [\"text\",\"lemmatized_processed_text\",\"tokens\"], inplace = True)\n",
    "data"
   ]
  },
  {
   "cell_type": "code",
   "execution_count": 7,
   "id": "3ef07350",
   "metadata": {},
   "outputs": [
    {
     "data": {
      "text/html": [
       "<div>\n",
       "<style scoped>\n",
       "    .dataframe tbody tr th:only-of-type {\n",
       "        vertical-align: middle;\n",
       "    }\n",
       "\n",
       "    .dataframe tbody tr th {\n",
       "        vertical-align: top;\n",
       "    }\n",
       "\n",
       "    .dataframe thead th {\n",
       "        text-align: right;\n",
       "    }\n",
       "</style>\n",
       "<table border=\"1\" class=\"dataframe\">\n",
       "  <thead>\n",
       "    <tr style=\"text-align: right;\">\n",
       "      <th></th>\n",
       "      <th>class</th>\n",
       "      <th>tagged_tokens</th>\n",
       "    </tr>\n",
       "  </thead>\n",
       "  <tbody>\n",
       "    <tr>\n",
       "      <th>0</th>\n",
       "      <td>suicide</td>\n",
       "      <td>ex_NN wife_NN threatening_VBG suicide_NN recen...</td>\n",
       "    </tr>\n",
       "    <tr>\n",
       "      <th>1</th>\n",
       "      <td>non-suicide</td>\n",
       "      <td>weird_JJ get_VB affected_VBN compliment_NN com...</td>\n",
       "    </tr>\n",
       "    <tr>\n",
       "      <th>2</th>\n",
       "      <td>non-suicide</td>\n",
       "      <td>finally_RB almost_RB never_RB hear_VB bad_JJ y...</td>\n",
       "    </tr>\n",
       "    <tr>\n",
       "      <th>3</th>\n",
       "      <td>suicide</td>\n",
       "      <td>need_NN help_NN help_NN cry_NN hard_RB</td>\n",
       "    </tr>\n",
       "    <tr>\n",
       "      <th>4</th>\n",
       "      <td>suicide</td>\n",
       "      <td>lost_VBN hello_UH name_NN adam_NN struggling_V...</td>\n",
       "    </tr>\n",
       "  </tbody>\n",
       "</table>\n",
       "</div>"
      ],
      "text/plain": [
       "         class                                      tagged_tokens\n",
       "0      suicide  ex_NN wife_NN threatening_VBG suicide_NN recen...\n",
       "1  non-suicide  weird_JJ get_VB affected_VBN compliment_NN com...\n",
       "2  non-suicide  finally_RB almost_RB never_RB hear_VB bad_JJ y...\n",
       "3      suicide             need_NN help_NN help_NN cry_NN hard_RB\n",
       "4      suicide  lost_VBN hello_UH name_NN adam_NN struggling_V..."
      ]
     },
     "execution_count": 7,
     "metadata": {},
     "output_type": "execute_result"
    }
   ],
   "source": [
    "data[\"tagged_tokens\"] = data[\"tagged_tokens\"].apply(lambda x: \" \".join(x))\n",
    "data.head()"
   ]
  },
  {
   "cell_type": "code",
   "execution_count": 8,
   "id": "fc90503f",
   "metadata": {},
   "outputs": [],
   "source": [
    "#importing libraries\n",
    "import numpy as np \n",
    "import pandas as pd\n",
    "from sklearn.feature_extraction.text import TfidfVectorizer\n",
    "from sklearn import metrics\n",
    "import nltk\n",
    "import re\n",
    "import string\n",
    "from nltk.stem import WordNetLemmatizer\n",
    "from nltk.tokenize import word_tokenize\n",
    "from nltk.corpus import stopwords\n",
    "\n",
    "\n",
    "from sklearn.model_selection import train_test_split\n",
    "from sklearn.naive_bayes import MultinomialNB\n",
    "from sklearn.preprocessing import LabelEncoder\n",
    "from sklearn.linear_model import LogisticRegression\n",
    "from sklearn.svm import LinearSVC\n",
    "from sklearn.metrics import accuracy_score\n",
    "\n",
    "import seaborn as sns\n",
    "import matplotlib.pyplot as plt"
   ]
  },
  {
   "cell_type": "code",
   "execution_count": 9,
   "id": "011f536c",
   "metadata": {},
   "outputs": [],
   "source": [
    "train_X, test_X, train_y, test_y = train_test_split(data['tagged_tokens'],data['class'],test_size=0.3, random_state = 42)"
   ]
  },
  {
   "cell_type": "code",
   "execution_count": 10,
   "id": "080a436c",
   "metadata": {},
   "outputs": [
    {
     "data": {
      "text/plain": [
       "13686     losing_VBG grip_NN parent_NN gave_VBD old_JJ n...\n",
       "60022     hey_UH yy_NNP mean_VB got_VBD sent_VBN right_U...\n",
       "179581    people_NNS hate_NN much_RB commit_VB die_VB wo...\n",
       "117440    failing_VBG school_NN might_MD right_UH place_...\n",
       "90275     like_UH parent_NN ``_`` ''_'' door_NN locked_V...\n",
       "                                ...                        \n",
       "119913    get_VB random_JJ fact_NN day_NN decided_VBN ma...\n",
       "103725                                         situation_NN\n",
       "131967    know_VB else_RB turn_NN recently_RB got_VBD di...\n",
       "146907    would_MD like_UH share_NN something_NN watch_N...\n",
       "121992    every_DT move_NN mistake_NN panic_NN attack_NN...\n",
       "Name: tagged_tokens, Length: 162411, dtype: object"
      ]
     },
     "execution_count": 10,
     "metadata": {},
     "output_type": "execute_result"
    }
   ],
   "source": [
    "train_X"
   ]
  },
  {
   "cell_type": "code",
   "execution_count": 11,
   "id": "ebc6d5fd",
   "metadata": {},
   "outputs": [
    {
     "data": {
      "text/plain": [
       "162411"
      ]
     },
     "execution_count": 11,
     "metadata": {},
     "output_type": "execute_result"
    }
   ],
   "source": [
    "## get all words from the document with pos_tag\n",
    "\n",
    "tagged_tokens_list = []\n",
    "for index, value in train_X.iteritems():\n",
    "    tagged_tokens_list.append(value)\n",
    "len(tagged_tokens_list)"
   ]
  },
  {
   "cell_type": "code",
   "execution_count": 12,
   "id": "296d5cb4",
   "metadata": {},
   "outputs": [],
   "source": [
    "##reading the domain dict from the text file\n",
    "with open(\"domain_dict_postag_lem.txt\", \"r\") as file:\n",
    "    list_of_lem = [line.strip() for line in file]"
   ]
  },
  {
   "cell_type": "code",
   "execution_count": 13,
   "id": "c58669b4",
   "metadata": {},
   "outputs": [
    {
     "data": {
      "text/plain": [
       "164687"
      ]
     },
     "execution_count": 13,
     "metadata": {},
     "output_type": "execute_result"
    }
   ],
   "source": [
    "# combining the document and dictionary\n",
    "tagged_tokens_list.extend(list_of_lem)\n",
    "len(tagged_tokens_list)"
   ]
  },
  {
   "cell_type": "markdown",
   "id": "9c5ba26c",
   "metadata": {},
   "source": [
    "### TF-IDF vectorisation"
   ]
  },
  {
   "cell_type": "code",
   "execution_count": 14,
   "id": "0595cf5a",
   "metadata": {},
   "outputs": [],
   "source": [
    "from sklearn.feature_extraction.text import TfidfVectorizer\n",
    "\n",
    "tf_idf = TfidfVectorizer()\n",
    "tfidf_vector = tf_idf.fit(tagged_tokens_list)"
   ]
  },
  {
   "cell_type": "code",
   "execution_count": 15,
   "id": "62b5e7ae",
   "metadata": {},
   "outputs": [],
   "source": [
    "# Encoder = LabelEncoder()\n",
    "# train_y = Encoder.fit_transform(train_y)\n",
    "# test_y = Encoder.fit_transform(test_y)"
   ]
  },
  {
   "cell_type": "code",
   "execution_count": 16,
   "id": "86e0014a",
   "metadata": {},
   "outputs": [
    {
     "name": "stdout",
     "output_type": "stream",
     "text": [
      "n_samples: 162411, n_features: 44823\n"
     ]
    }
   ],
   "source": [
    "X_train_tf = tfidf_vector.transform(train_X)\n",
    "#print dimension of data\n",
    "print(\"n_samples: %d, n_features: %d\" % X_train_tf.shape)"
   ]
  },
  {
   "cell_type": "code",
   "execution_count": 17,
   "id": "5d19887d",
   "metadata": {},
   "outputs": [
    {
     "name": "stdout",
     "output_type": "stream",
     "text": [
      "n_samples: 69606, n_features: 44823\n"
     ]
    }
   ],
   "source": [
    "#transforming test data into tf-idf matrix\n",
    "X_test_tf = tfidf_vector.transform(test_X)\n",
    "\n",
    "#print dimension of data\n",
    "print(\"n_samples: %d, n_features: %d\" % X_test_tf.shape)"
   ]
  },
  {
   "cell_type": "markdown",
   "id": "ddef4263",
   "metadata": {},
   "source": [
    "### Word2Vec Vectorisation\n"
   ]
  },
  {
   "cell_type": "code",
   "execution_count": 18,
   "id": "826cff10",
   "metadata": {},
   "outputs": [],
   "source": [
    "import gensim\n",
    "# Tokenize the text into individual words and create a list for each sentence\n",
    "sentences = [tagged_tokens.split() for tagged_tokens in tagged_tokens_list]\n",
    "\n",
    "from gensim.models import Word2Vec\n",
    "model = Word2Vec(sentences, min_count=1, vector_size=200)\n",
    "\n",
    "model.save('word2vec.model')\n",
    "\n",
    "def get_embeddings(text):\n",
    "    embeddings = []\n",
    "    tokens = text.split()\n",
    "    for word in tokens:\n",
    "        if word in model.wv.key_to_index:\n",
    "            embeddings.append(model.wv.get_vector(word))\n",
    "    if len(embeddings) > 0:\n",
    "        return np.mean(embeddings, axis=0)\n",
    "    else:\n",
    "        # Return a vector of zeros if no embeddings are found\n",
    "        return np.zeros(model.vector_size)\n",
    "\n",
    "\n",
    "X_train_w2v = train_X.apply(get_embeddings)\n",
    "X_train_w2v = np.stack(X_train_w2v.to_numpy())\n",
    "\n",
    "X_test_w2v = test_X.apply(get_embeddings)\n",
    "X_test_w2v = np.stack(X_test_w2v.to_numpy())"
   ]
  },
  {
   "cell_type": "markdown",
   "id": "f3199c38",
   "metadata": {},
   "source": [
    "### sklearn Naive Bayes"
   ]
  },
  {
   "cell_type": "code",
   "execution_count": 19,
   "id": "77b21f60",
   "metadata": {},
   "outputs": [],
   "source": [
    "#Naive Bayes Classifier\n",
    "naive_bayes_classifier = MultinomialNB()\n",
    "naive_bayes_classifier.fit(X_train_tf, train_y)\n",
    "#predicted y\n",
    "y_pred_nb = naive_bayes_classifier.predict(X_test_tf)"
   ]
  },
  {
   "cell_type": "code",
   "execution_count": 20,
   "id": "6b058420",
   "metadata": {},
   "outputs": [
    {
     "name": "stdout",
     "output_type": "stream",
     "text": [
      "              precision    recall  f1-score   support\n",
      "\n",
      " Non-Suicide       0.95      0.83      0.88     34757\n",
      "     Suicide       0.85      0.95      0.90     34849\n",
      "\n",
      "    accuracy                           0.89     69606\n",
      "   macro avg       0.90      0.89      0.89     69606\n",
      "weighted avg       0.90      0.89      0.89     69606\n",
      "\n"
     ]
    }
   ],
   "source": [
    "print(metrics.classification_report(test_y, y_pred_nb, target_names=['Non-Suicide', 'Suicide']))"
   ]
  },
  {
   "cell_type": "code",
   "execution_count": 21,
   "id": "715ad751",
   "metadata": {},
   "outputs": [
    {
     "name": "stdout",
     "output_type": "stream",
     "text": [
      "Naive Bayes Accuracy Score ->  89.11588081487228\n"
     ]
    }
   ],
   "source": [
    "nb_accuracy = accuracy_score(y_pred_nb, test_y)\n",
    "print(\"Naive Bayes Accuracy Score -> \", nb_accuracy * 100)"
   ]
  },
  {
   "cell_type": "code",
   "execution_count": 22,
   "id": "f4bf81b4",
   "metadata": {},
   "outputs": [
    {
     "name": "stdout",
     "output_type": "stream",
     "text": [
      "Naive Bayes Confusion Matrix:\n",
      "[[28776  5981]\n",
      " [ 1595 33254]]\n"
     ]
    }
   ],
   "source": [
    "#Naive Bayes Confusion Matrix\n",
    "print(\"Naive Bayes Confusion Matrix:\")\n",
    "print(metrics.confusion_matrix(test_y, y_pred_nb))"
   ]
  },
  {
   "cell_type": "code",
   "execution_count": 23,
   "id": "1a46fe8e",
   "metadata": {},
   "outputs": [
    {
     "data": {
      "image/png": "[encoded data removed]",
      "text/plain": [
       "<Figure size 640x480 with 2 Axes>"
      ]
     },
     "metadata": {},
     "output_type": "display_data"
    }
   ],
   "source": [
    "nb_confusion_matrix = metrics.confusion_matrix(test_y, y_pred_nb)\n",
    "\n",
    "nb_cm_display = metrics.ConfusionMatrixDisplay(confusion_matrix = nb_confusion_matrix, display_labels = [\"Non-Suicide\", \"Suicide\"])\n",
    "\n",
    "nb_cm_display.plot()\n",
    "plt.show()"
   ]
  },
  {
   "cell_type": "code",
   "execution_count": 24,
   "id": "0052c677",
   "metadata": {},
   "outputs": [
    {
     "data": {
      "image/png": "[encoded data removed]",
      "text/plain": [
       "<Figure size 640x480 with 1 Axes>"
      ]
     },
     "metadata": {},
     "output_type": "display_data"
    }
   ],
   "source": [
    "sns.set(style=\"darkgrid\")\n",
    "ax = sns.countplot(x=test_y)\n",
    "\n",
    "for p in ax.patches:\n",
    "    ax.annotate(format(p.get_height()), (p.get_x() + p.get_width() / 2., p.get_height()), ha = 'center', va = 'center', xytext = (0, 10), textcoords = 'offset points')\n",
    "\n",
    "plt.show()\n"
   ]
  },
  {
   "cell_type": "code",
   "execution_count": 25,
   "id": "9d5a8212",
   "metadata": {},
   "outputs": [
    {
     "name": "stdout",
     "output_type": "stream",
     "text": [
      "7576\n"
     ]
    }
   ],
   "source": [
    "# convert test_y and y_pred_logreg to numpy arrays\n",
    "test_y = test_y.to_numpy()\n",
    "y_pred_nb = np.array(y_pred_nb)\n",
    "\n",
    "# find misclassified samples\n",
    "nb_misclassified_indices = [i for i in range(len(test_y)) if test_y[i] != y_pred_nb[i]]\n",
    "print(len(nb_misclassified_indices))"
   ]
  },
  {
   "cell_type": "code",
   "execution_count": 26,
   "id": "5d06f476",
   "metadata": {},
   "outputs": [],
   "source": [
    "# create a dataframe with test_X and their true and predicted labels\n",
    "df_test_nb = pd.DataFrame({'text': test_X, 'true_label': test_y, 'predicted_label': y_pred_nb})\n",
    "\n",
    "nb_misclassified_df = df_test_nb.iloc[nb_misclassified_indices]"
   ]
  },
  {
   "cell_type": "code",
   "execution_count": 27,
   "id": "0a745f8b",
   "metadata": {},
   "outputs": [
    {
     "data": {
      "text/html": [
       "<div>\n",
       "<style scoped>\n",
       "    .dataframe tbody tr th:only-of-type {\n",
       "        vertical-align: middle;\n",
       "    }\n",
       "\n",
       "    .dataframe tbody tr th {\n",
       "        vertical-align: top;\n",
       "    }\n",
       "\n",
       "    .dataframe thead th {\n",
       "        text-align: right;\n",
       "    }\n",
       "</style>\n",
       "<table border=\"1\" class=\"dataframe\">\n",
       "  <thead>\n",
       "    <tr style=\"text-align: right;\">\n",
       "      <th></th>\n",
       "      <th>text</th>\n",
       "      <th>true_label</th>\n",
       "      <th>predicted_label</th>\n",
       "    </tr>\n",
       "  </thead>\n",
       "  <tbody>\n",
       "    <tr>\n",
       "      <th>28247</th>\n",
       "      <td>depressed_JJ definitely_RB ok_UH recently_RB f...</td>\n",
       "      <td>non-suicide</td>\n",
       "      <td>suicide</td>\n",
       "    </tr>\n",
       "    <tr>\n",
       "      <th>25193</th>\n",
       "      <td>help_NN someone_NN killed_VBN themself_RB meg_...</td>\n",
       "      <td>suicide</td>\n",
       "      <td>non-suicide</td>\n",
       "    </tr>\n",
       "    <tr>\n",
       "      <th>194706</th>\n",
       "      <td>please_UH think_VB say_UH something_NN online_...</td>\n",
       "      <td>non-suicide</td>\n",
       "      <td>suicide</td>\n",
       "    </tr>\n",
       "    <tr>\n",
       "      <th>213094</th>\n",
       "      <td>gain_NN confidence_NN around_RB people_NNS kno...</td>\n",
       "      <td>non-suicide</td>\n",
       "      <td>suicide</td>\n",
       "    </tr>\n",
       "    <tr>\n",
       "      <th>25688</th>\n",
       "      <td>professor_NN pulled_VBN aside_RB class_NN toda...</td>\n",
       "      <td>non-suicide</td>\n",
       "      <td>suicide</td>\n",
       "    </tr>\n",
       "  </tbody>\n",
       "</table>\n",
       "</div>"
      ],
      "text/plain": [
       "                                                     text   true_label  \\\n",
       "28247   depressed_JJ definitely_RB ok_UH recently_RB f...  non-suicide   \n",
       "25193   help_NN someone_NN killed_VBN themself_RB meg_...      suicide   \n",
       "194706  please_UH think_VB say_UH something_NN online_...  non-suicide   \n",
       "213094  gain_NN confidence_NN around_RB people_NNS kno...  non-suicide   \n",
       "25688   professor_NN pulled_VBN aside_RB class_NN toda...  non-suicide   \n",
       "\n",
       "       predicted_label  \n",
       "28247          suicide  \n",
       "25193      non-suicide  \n",
       "194706         suicide  \n",
       "213094         suicide  \n",
       "25688          suicide  "
      ]
     },
     "execution_count": 27,
     "metadata": {},
     "output_type": "execute_result"
    }
   ],
   "source": [
    "nb_misclassified_df.head()"
   ]
  },
  {
   "cell_type": "code",
   "execution_count": 28,
   "id": "dddcdf42",
   "metadata": {},
   "outputs": [],
   "source": [
    "# merge misclassified_df with data based on the index\n",
    "nb_misclassified_merged = pd.merge(nb_misclassified_df, data_text, left_index=True, right_index=True)\n",
    "\n",
    "# print the misclassified texts, true labels, and predicted labels\n",
    "nb_misclassified_merged_df = pd.DataFrame(nb_misclassified_merged[['text_y', 'true_label', 'predicted_label']])"
   ]
  },
  {
   "cell_type": "code",
   "execution_count": 29,
   "id": "bbe9981a",
   "metadata": {},
   "outputs": [],
   "source": [
    "nb_misclassified_merged_df.to_csv(\"misclassified_naive_bayes.csv\")"
   ]
  },
  {
   "cell_type": "markdown",
   "id": "4055449d",
   "metadata": {},
   "source": [
    "### Logistic Regression"
   ]
  },
  {
   "cell_type": "code",
   "execution_count": 30,
   "id": "3e0b457a",
   "metadata": {},
   "outputs": [],
   "source": [
    "# fit the training dataset on the Logistic Regression classifier\n",
    "logreg = LogisticRegression(max_iter=200)\n",
    "logreg.fit(X_train_tf,train_y)\n",
    "# predict the labels on validation dataset\n",
    "y_pred_logreg = logreg.predict(X_test_tf)"
   ]
  },
  {
   "cell_type": "code",
   "execution_count": 31,
   "id": "79881593",
   "metadata": {},
   "outputs": [
    {
     "name": "stdout",
     "output_type": "stream",
     "text": [
      "              precision    recall  f1-score   support\n",
      "\n",
      " Non-Suicide       0.93      0.95      0.94     34757\n",
      "     Suicide       0.95      0.93      0.94     34849\n",
      "\n",
      "    accuracy                           0.94     69606\n",
      "   macro avg       0.94      0.94      0.94     69606\n",
      "weighted avg       0.94      0.94      0.94     69606\n",
      "\n"
     ]
    }
   ],
   "source": [
    "print(metrics.classification_report(test_y, y_pred_logreg, target_names=['Non-Suicide', 'Suicide']))"
   ]
  },
  {
   "cell_type": "code",
   "execution_count": 32,
   "id": "c5992fc4",
   "metadata": {},
   "outputs": [
    {
     "name": "stdout",
     "output_type": "stream",
     "text": [
      "Logistic Regression Accuracy Score ->  93.73329885354711\n"
     ]
    }
   ],
   "source": [
    "logreg_accuracy = accuracy_score(y_pred_logreg, test_y)\n",
    "print(\"Logistic Regression Accuracy Score -> \", logreg_accuracy * 100)"
   ]
  },
  {
   "cell_type": "code",
   "execution_count": 33,
   "id": "1b5bb9a0",
   "metadata": {},
   "outputs": [
    {
     "name": "stdout",
     "output_type": "stream",
     "text": [
      "Logistic Regression Confusion Matrix:\n",
      "[[32919  1838]\n",
      " [ 2524 32325]]\n"
     ]
    }
   ],
   "source": [
    "#Log Reg Confusion Matrix\n",
    "print(\"Logistic Regression Confusion Matrix:\")\n",
    "print(metrics.confusion_matrix(test_y, y_pred_logreg))"
   ]
  },
  {
   "cell_type": "code",
   "execution_count": 34,
   "id": "dcadb43c",
   "metadata": {},
   "outputs": [
    {
     "data": {
      "image/png": "[encoded data removed]",
      "text/plain": [
       "<Figure size 640x480 with 2 Axes>"
      ]
     },
     "metadata": {},
     "output_type": "display_data"
    }
   ],
   "source": [
    "logreg_confusion_matrix = metrics.confusion_matrix(test_y, y_pred_logreg)\n",
    "\n",
    "logreg_cm_display = metrics.ConfusionMatrixDisplay(confusion_matrix = logreg_confusion_matrix, display_labels = [\"Non-Suicide\", \"Suicide\"])\n",
    "\n",
    "logreg_cm_display.plot()\n",
    "plt.show()"
   ]
  },
  {
   "cell_type": "code",
   "execution_count": 35,
   "id": "fc96838c",
   "metadata": {},
   "outputs": [
    {
     "name": "stdout",
     "output_type": "stream",
     "text": [
      "4362\n"
     ]
    }
   ],
   "source": [
    "# convert test_y and y_pred_logreg to numpy arrays\n",
    "y_pred_logreg = np.array(y_pred_logreg)\n",
    "\n",
    "# find misclassified samples\n",
    "logreg_misclassified_indices = [i for i in range(len(test_y)) if test_y[i] != y_pred_logreg[i]]\n",
    "print(len(logreg_misclassified_indices))"
   ]
  },
  {
   "cell_type": "code",
   "execution_count": 36,
   "id": "6c94f262",
   "metadata": {},
   "outputs": [],
   "source": [
    "# create a dataframe with test_X and their true and predicted labels\n",
    "df_test_logreg = pd.DataFrame({'text': test_X, 'true_label': test_y, 'predicted_label': y_pred_logreg})\n",
    "\n",
    "logreg_misclassified_df = df_test_logreg.iloc[logreg_misclassified_indices]"
   ]
  },
  {
   "cell_type": "code",
   "execution_count": 37,
   "id": "dc3f3185",
   "metadata": {},
   "outputs": [
    {
     "data": {
      "text/html": [
       "<div>\n",
       "<style scoped>\n",
       "    .dataframe tbody tr th:only-of-type {\n",
       "        vertical-align: middle;\n",
       "    }\n",
       "\n",
       "    .dataframe tbody tr th {\n",
       "        vertical-align: top;\n",
       "    }\n",
       "\n",
       "    .dataframe thead th {\n",
       "        text-align: right;\n",
       "    }\n",
       "</style>\n",
       "<table border=\"1\" class=\"dataframe\">\n",
       "  <thead>\n",
       "    <tr style=\"text-align: right;\">\n",
       "      <th></th>\n",
       "      <th>text</th>\n",
       "      <th>true_label</th>\n",
       "      <th>predicted_label</th>\n",
       "    </tr>\n",
       "  </thead>\n",
       "  <tbody>\n",
       "    <tr>\n",
       "      <th>25193</th>\n",
       "      <td>help_NN someone_NN killed_VBN themself_RB meg_...</td>\n",
       "      <td>suicide</td>\n",
       "      <td>non-suicide</td>\n",
       "    </tr>\n",
       "    <tr>\n",
       "      <th>194706</th>\n",
       "      <td>please_UH think_VB say_UH something_NN online_...</td>\n",
       "      <td>non-suicide</td>\n",
       "      <td>suicide</td>\n",
       "    </tr>\n",
       "    <tr>\n",
       "      <th>664</th>\n",
       "      <td>adopt_VB mep_NN l_NN</td>\n",
       "      <td>suicide</td>\n",
       "      <td>non-suicide</td>\n",
       "    </tr>\n",
       "    <tr>\n",
       "      <th>44196</th>\n",
       "      <td>know_VB need_NN help_NN trust_NN anyone_NN exp...</td>\n",
       "      <td>suicide</td>\n",
       "      <td>non-suicide</td>\n",
       "    </tr>\n",
       "    <tr>\n",
       "      <th>169038</th>\n",
       "      <td>anyone_NN else_RB think_VB deserve_VB live_RB</td>\n",
       "      <td>non-suicide</td>\n",
       "      <td>suicide</td>\n",
       "    </tr>\n",
       "  </tbody>\n",
       "</table>\n",
       "</div>"
      ],
      "text/plain": [
       "                                                     text   true_label  \\\n",
       "25193   help_NN someone_NN killed_VBN themself_RB meg_...      suicide   \n",
       "194706  please_UH think_VB say_UH something_NN online_...  non-suicide   \n",
       "664                                  adopt_VB mep_NN l_NN      suicide   \n",
       "44196   know_VB need_NN help_NN trust_NN anyone_NN exp...      suicide   \n",
       "169038      anyone_NN else_RB think_VB deserve_VB live_RB  non-suicide   \n",
       "\n",
       "       predicted_label  \n",
       "25193      non-suicide  \n",
       "194706         suicide  \n",
       "664        non-suicide  \n",
       "44196      non-suicide  \n",
       "169038         suicide  "
      ]
     },
     "execution_count": 37,
     "metadata": {},
     "output_type": "execute_result"
    }
   ],
   "source": [
    "logreg_misclassified_df.head()"
   ]
  },
  {
   "cell_type": "code",
   "execution_count": 38,
   "id": "b04c0720",
   "metadata": {},
   "outputs": [],
   "source": [
    "# merge misclassified_df with data based on the index\n",
    "logreg_misclassified_merged = pd.merge(logreg_misclassified_df, data_text, left_index=True, right_index=True)\n",
    "\n",
    "# print the misclassified texts, true labels, and predicted labels\n",
    "logreg_misclassified_merged_df = pd.DataFrame(logreg_misclassified_merged[['text_y', 'true_label', 'predicted_label']])"
   ]
  },
  {
   "cell_type": "code",
   "execution_count": 39,
   "id": "0e6aee19",
   "metadata": {},
   "outputs": [],
   "source": [
    "logreg_misclassified_merged_df.to_csv(\"misclassified_logistic_regression.csv\")"
   ]
  },
  {
   "cell_type": "markdown",
   "id": "41e7f4d9",
   "metadata": {},
   "source": [
    "#### Word2Vec"
   ]
  },
  {
   "cell_type": "code",
   "execution_count": 40,
   "id": "c5ddde92",
   "metadata": {},
   "outputs": [],
   "source": [
    "# fit the training dataset on the Logistic Regression classifier\n",
    "logreg_w2v = LogisticRegression(max_iter=200)\n",
    "logreg_w2v.fit(X_train_w2v,train_y)\n",
    "# predict the labels on validation dataset\n",
    "y_pred_logreg_w2v = logreg_w2v.predict(X_test_w2v)"
   ]
  },
  {
   "cell_type": "code",
   "execution_count": 41,
   "id": "5a0c3f36",
   "metadata": {},
   "outputs": [
    {
     "name": "stdout",
     "output_type": "stream",
     "text": [
      "              precision    recall  f1-score   support\n",
      "\n",
      " Non-Suicide       0.92      0.90      0.91     34757\n",
      "     Suicide       0.90      0.93      0.91     34849\n",
      "\n",
      "    accuracy                           0.91     69606\n",
      "   macro avg       0.91      0.91      0.91     69606\n",
      "weighted avg       0.91      0.91      0.91     69606\n",
      "\n"
     ]
    }
   ],
   "source": [
    "print(metrics.classification_report(test_y, y_pred_logreg_w2v, target_names=['Non-Suicide', 'Suicide']))"
   ]
  },
  {
   "cell_type": "code",
   "execution_count": 42,
   "id": "7f7aa9a6",
   "metadata": {},
   "outputs": [
    {
     "name": "stdout",
     "output_type": "stream",
     "text": [
      "Logistic Regression for Word2Vec Accuracy Score ->  91.28379737378962\n"
     ]
    }
   ],
   "source": [
    "logreg_accuracy_w2v = accuracy_score(y_pred_logreg_w2v, test_y)\n",
    "print(\"Logistic Regression for Word2Vec Accuracy Score -> \", logreg_accuracy_w2v * 100)"
   ]
  },
  {
   "cell_type": "markdown",
   "id": "0eff813e",
   "metadata": {},
   "source": [
    "### SVM"
   ]
  },
  {
   "cell_type": "code",
   "execution_count": 43,
   "id": "c21efbfd",
   "metadata": {},
   "outputs": [],
   "source": [
    "# fit the training dataset on the SVM classifier\n",
    "linearSVC = LinearSVC()\n",
    "linearSVC.fit(X_train_tf,train_y)\n",
    "# predict the labels on validation dataset\n",
    "y_pred_SVC = linearSVC.predict(X_test_tf)\n"
   ]
  },
  {
   "cell_type": "code",
   "execution_count": 44,
   "id": "1e8d3952",
   "metadata": {},
   "outputs": [
    {
     "name": "stdout",
     "output_type": "stream",
     "text": [
      "              precision    recall  f1-score   support\n",
      "\n",
      " Non-Suicide       0.93      0.94      0.94     34757\n",
      "     Suicide       0.94      0.93      0.94     34849\n",
      "\n",
      "    accuracy                           0.94     69606\n",
      "   macro avg       0.94      0.94      0.94     69606\n",
      "weighted avg       0.94      0.94      0.94     69606\n",
      "\n"
     ]
    }
   ],
   "source": [
    "print(metrics.classification_report(test_y, y_pred_SVC, target_names=['Non-Suicide', 'Suicide']))"
   ]
  },
  {
   "cell_type": "code",
   "execution_count": 45,
   "id": "e30722d3",
   "metadata": {},
   "outputs": [
    {
     "name": "stdout",
     "output_type": "stream",
     "text": [
      "SVM Accuracy Score ->  93.61118294399908\n"
     ]
    }
   ],
   "source": [
    "svc_accuracy = accuracy_score(y_pred_SVC, test_y)\n",
    "print(\"SVM Accuracy Score -> \",svc_accuracy*100)"
   ]
  },
  {
   "cell_type": "code",
   "execution_count": 46,
   "id": "2826e918",
   "metadata": {},
   "outputs": [
    {
     "name": "stdout",
     "output_type": "stream",
     "text": [
      "SVM Confusion Matrix:\n",
      "[[32782  1975]\n",
      " [ 2472 32377]]\n"
     ]
    }
   ],
   "source": [
    "#SVM Confusion Matrix\n",
    "print(\"SVM Confusion Matrix:\")\n",
    "print(metrics.confusion_matrix(test_y, y_pred_SVC))"
   ]
  },
  {
   "cell_type": "code",
   "execution_count": 47,
   "id": "eaaa687d",
   "metadata": {},
   "outputs": [
    {
     "data": {
      "image/png": "[encoded data removed]",
      "text/plain": [
       "<Figure size 640x480 with 2 Axes>"
      ]
     },
     "metadata": {},
     "output_type": "display_data"
    }
   ],
   "source": [
    "svc_confusion_matrix = metrics.confusion_matrix(test_y, y_pred_SVC)\n",
    "\n",
    "svc_cm_display = metrics.ConfusionMatrixDisplay(confusion_matrix = svc_confusion_matrix, display_labels = [\"Non-Suicide\", \"Suicide\"])\n",
    "\n",
    "svc_cm_display.plot()\n",
    "plt.show()"
   ]
  },
  {
   "cell_type": "code",
   "execution_count": 48,
   "id": "81cdf42d",
   "metadata": {},
   "outputs": [
    {
     "name": "stdout",
     "output_type": "stream",
     "text": [
      "4447\n"
     ]
    }
   ],
   "source": [
    "# convert test_y and y_pred_logreg to numpy arrays\n",
    "y_pred_SVC = np.array(y_pred_SVC)\n",
    "\n",
    "# find misclassified samples\n",
    "svc_misclassified_indices = [i for i in range(len(test_y)) if test_y[i] != y_pred_SVC[i]]\n",
    "print(len(svc_misclassified_indices))"
   ]
  },
  {
   "cell_type": "code",
   "execution_count": 49,
   "id": "11064517",
   "metadata": {},
   "outputs": [],
   "source": [
    "# create a dataframe with test_X and their true and predicted labels\n",
    "df_test_SVC = pd.DataFrame({'text': test_X, 'true_label': test_y, 'predicted_label': y_pred_SVC})\n",
    "\n",
    "SVC_misclassified_df = df_test_SVC.iloc[svc_misclassified_indices]"
   ]
  },
  {
   "cell_type": "code",
   "execution_count": 50,
   "id": "9adf8531",
   "metadata": {},
   "outputs": [
    {
     "data": {
      "text/html": [
       "<div>\n",
       "<style scoped>\n",
       "    .dataframe tbody tr th:only-of-type {\n",
       "        vertical-align: middle;\n",
       "    }\n",
       "\n",
       "    .dataframe tbody tr th {\n",
       "        vertical-align: top;\n",
       "    }\n",
       "\n",
       "    .dataframe thead th {\n",
       "        text-align: right;\n",
       "    }\n",
       "</style>\n",
       "<table border=\"1\" class=\"dataframe\">\n",
       "  <thead>\n",
       "    <tr style=\"text-align: right;\">\n",
       "      <th></th>\n",
       "      <th>text</th>\n",
       "      <th>true_label</th>\n",
       "      <th>predicted_label</th>\n",
       "    </tr>\n",
       "  </thead>\n",
       "  <tbody>\n",
       "    <tr>\n",
       "      <th>25193</th>\n",
       "      <td>help_NN someone_NN killed_VBN themself_RB meg_...</td>\n",
       "      <td>suicide</td>\n",
       "      <td>non-suicide</td>\n",
       "    </tr>\n",
       "    <tr>\n",
       "      <th>194706</th>\n",
       "      <td>please_UH think_VB say_UH something_NN online_...</td>\n",
       "      <td>non-suicide</td>\n",
       "      <td>suicide</td>\n",
       "    </tr>\n",
       "    <tr>\n",
       "      <th>664</th>\n",
       "      <td>adopt_VB mep_NN l_NN</td>\n",
       "      <td>suicide</td>\n",
       "      <td>non-suicide</td>\n",
       "    </tr>\n",
       "    <tr>\n",
       "      <th>44196</th>\n",
       "      <td>know_VB need_NN help_NN trust_NN anyone_NN exp...</td>\n",
       "      <td>suicide</td>\n",
       "      <td>non-suicide</td>\n",
       "    </tr>\n",
       "    <tr>\n",
       "      <th>169038</th>\n",
       "      <td>anyone_NN else_RB think_VB deserve_VB live_RB</td>\n",
       "      <td>non-suicide</td>\n",
       "      <td>suicide</td>\n",
       "    </tr>\n",
       "  </tbody>\n",
       "</table>\n",
       "</div>"
      ],
      "text/plain": [
       "                                                     text   true_label  \\\n",
       "25193   help_NN someone_NN killed_VBN themself_RB meg_...      suicide   \n",
       "194706  please_UH think_VB say_UH something_NN online_...  non-suicide   \n",
       "664                                  adopt_VB mep_NN l_NN      suicide   \n",
       "44196   know_VB need_NN help_NN trust_NN anyone_NN exp...      suicide   \n",
       "169038      anyone_NN else_RB think_VB deserve_VB live_RB  non-suicide   \n",
       "\n",
       "       predicted_label  \n",
       "25193      non-suicide  \n",
       "194706         suicide  \n",
       "664        non-suicide  \n",
       "44196      non-suicide  \n",
       "169038         suicide  "
      ]
     },
     "execution_count": 50,
     "metadata": {},
     "output_type": "execute_result"
    }
   ],
   "source": [
    "SVC_misclassified_df.head()"
   ]
  },
  {
   "cell_type": "code",
   "execution_count": 51,
   "id": "0d5f884b",
   "metadata": {},
   "outputs": [],
   "source": [
    "# merge misclassified_df with data based on the index\n",
    "SVC_misclassified_merged = pd.merge(SVC_misclassified_df, data_text, left_index=True, right_index=True)\n",
    "\n",
    "# print the misclassified texts, true labels, and predicted labels\n",
    "SVC_misclassified_merged_df = pd.DataFrame(SVC_misclassified_merged[['text_y', 'true_label', 'predicted_label']])"
   ]
  },
  {
   "cell_type": "code",
   "execution_count": 52,
   "id": "62fb2b55",
   "metadata": {},
   "outputs": [],
   "source": [
    "SVC_misclassified_merged_df.to_csv(\"misclassified_SVM.csv\")"
   ]
  },
  {
   "cell_type": "markdown",
   "id": "a625b34e",
   "metadata": {},
   "source": [
    "#### Word2Vec"
   ]
  },
  {
   "cell_type": "code",
   "execution_count": 62,
   "id": "2b116e22",
   "metadata": {},
   "outputs": [],
   "source": [
    "# fit the training dataset on the SVM classifier\n",
    "linearSVC_w2v = LinearSVC(dual=False)\n",
    "linearSVC_w2v.fit(X_train_w2v,train_y)\n",
    "# predict the labels on validation dataset\n",
    "y_pred_SVC_w2v = linearSVC_w2v.predict(X_test_w2v)\n"
   ]
  },
  {
   "cell_type": "code",
   "execution_count": 63,
   "id": "0565e6f8",
   "metadata": {},
   "outputs": [
    {
     "name": "stdout",
     "output_type": "stream",
     "text": [
      "              precision    recall  f1-score   support\n",
      "\n",
      " Non-Suicide       0.93      0.89      0.91     34757\n",
      "     Suicide       0.90      0.93      0.91     34849\n",
      "\n",
      "    accuracy                           0.91     69606\n",
      "   macro avg       0.91      0.91      0.91     69606\n",
      "weighted avg       0.91      0.91      0.91     69606\n",
      "\n"
     ]
    }
   ],
   "source": [
    "print(metrics.classification_report(test_y, y_pred_SVC_w2v, target_names=['Non-Suicide', 'Suicide']))"
   ]
  },
  {
   "cell_type": "code",
   "execution_count": 64,
   "id": "66165ef9",
   "metadata": {},
   "outputs": [
    {
     "name": "stdout",
     "output_type": "stream",
     "text": [
      "SVM for Word2Vec Accuracy Score ->  91.12145504697871\n"
     ]
    }
   ],
   "source": [
    "svc_accuracy_w2v = accuracy_score(y_pred_SVC_w2v, test_y)\n",
    "print(\"SVM for Word2Vec Accuracy Score -> \",svc_accuracy_w2v*100)"
   ]
  },
  {
   "cell_type": "markdown",
   "id": "6761779c",
   "metadata": {},
   "source": [
    "### Compare the Models"
   ]
  },
  {
   "cell_type": "code",
   "execution_count": 65,
   "id": "ba724601",
   "metadata": {},
   "outputs": [],
   "source": [
    "from sklearn.metrics import classification_report\n",
    "\n",
    "# Assuming y_true and y_pred contain the true and predicted labels\n",
    "nb_report_dict = metrics.classification_report(test_y, y_pred_nb, target_names=['Non-Suicide', 'Suicide'], output_dict=True)\n",
    "logreg_report_dict = metrics.classification_report(test_y, y_pred_logreg, target_names=['Non-Suicide', 'Suicide'], output_dict=True)\n",
    "svc_report_dict = metrics.classification_report(test_y, y_pred_SVC, target_names=['Non-Suicide', 'Suicide'], output_dict=True)\n",
    "\n",
    "\n",
    "# Extract precision, recall, and f1-score for the \"Suicide\" class i each dictionary\n",
    "nb_precision = nb_report_dict['Suicide']['precision']\n",
    "nb_recall = nb_report_dict['Suicide']['recall']\n",
    "nb_f1_score = nb_report_dict['Suicide']['f1-score']\n",
    "\n",
    "logreg_precision = logreg_report_dict['Suicide']['precision']\n",
    "logreg_recall = logreg_report_dict['Suicide']['recall']\n",
    "logreg_f1_score = logreg_report_dict['Suicide']['f1-score']\n",
    "\n",
    "svc_precision = svc_report_dict['Suicide']['precision']\n",
    "svc_recall = svc_report_dict['Suicide']['recall']\n",
    "svc_f1_score = svc_report_dict['Suicide']['f1-score']\n",
    "\n",
    "\n"
   ]
  },
  {
   "cell_type": "code",
   "execution_count": 66,
   "id": "f847f368",
   "metadata": {},
   "outputs": [],
   "source": [
    "#put all the values into a dictionary\n",
    "\n",
    "suicide_scores = {\n",
    "    'Naive Bayes': {\n",
    "        'precision': nb_precision,\n",
    "        'recall':nb_recall,\n",
    "        'f1_score': nb_f1_score,\n",
    "        'accuracy': nb_accuracy\n",
    "    },\n",
    "    'Logistic Regression': {\n",
    "        'precision': logreg_precision,\n",
    "        'recall': logreg_recall,\n",
    "        'f1_score': logreg_f1_score,\n",
    "        'accuracy': logreg_accuracy\n",
    "    },\n",
    "    'Support Vector Machine': {\n",
    "        'precision': svc_precision,\n",
    "        'recall': svc_recall,\n",
    "        'f1_score': svc_f1_score,\n",
    "        'accuracy': svc_accuracy\n",
    "    }\n",
    "}\n"
   ]
  },
  {
   "cell_type": "code",
   "execution_count": 67,
   "id": "0e08f353",
   "metadata": {},
   "outputs": [
    {
     "data": {
      "text/plain": [
       "{'Naive Bayes': {'precision': 0.85,\n",
       "  'recall': 0.95,\n",
       "  'f1_score': 0.9,\n",
       "  'accuracy': 0.89},\n",
       " 'Logistic Regression': {'precision': 0.95,\n",
       "  'recall': 0.93,\n",
       "  'f1_score': 0.94,\n",
       "  'accuracy': 0.94},\n",
       " 'Support Vector Machine': {'precision': 0.94,\n",
       "  'recall': 0.93,\n",
       "  'f1_score': 0.94,\n",
       "  'accuracy': 0.94}}"
      ]
     },
     "execution_count": 67,
     "metadata": {},
     "output_type": "execute_result"
    }
   ],
   "source": [
    "suicide_scores = {\n",
    "    model: {metric: round(score, 2) for metric, score in scores.items()} \n",
    "    for model, scores in suicide_scores.items()\n",
    "}\n",
    "\n",
    "suicide_scores\n"
   ]
  },
  {
   "cell_type": "code",
   "execution_count": 68,
   "id": "22d3eba0",
   "metadata": {},
   "outputs": [
    {
     "data": {
      "image/png": "[encoded data removed]",
      "text/plain": [
       "<Figure size 1000x600 with 1 Axes>"
      ]
     },
     "metadata": {},
     "output_type": "display_data"
    }
   ],
   "source": [
    "import matplotlib.pyplot as plt\n",
    "\n",
    "# Set the figure size\n",
    "plt.figure(figsize=(10, 6))\n",
    "\n",
    "# Create a list of the model names\n",
    "model_names = ['Naive Bayes', 'Logistic Regression', 'Support Vector Machine']\n",
    "\n",
    "# Create a list of the precision scores\n",
    "precision_scores = [suicide_scores[model]['precision'] for model in model_names]\n",
    "\n",
    "# Create a list of the recall scores\n",
    "recall_scores = [suicide_scores[model]['recall'] for model in model_names]\n",
    "\n",
    "# Create a list of the F1-scores\n",
    "f1_scores = [suicide_scores[model]['f1_score'] for model in model_names]\n",
    "\n",
    "# Create a list of the accuracy scores\n",
    "accuracy_scores = [suicide_scores[model]['accuracy'] for model in model_names]\n",
    "\n",
    "# Sort the model names and scores by accuracy\n",
    "sorted_scores = sorted(zip(model_names, precision_scores, recall_scores, f1_scores, accuracy_scores), key=lambda x: x[4], reverse=True)\n",
    "model_names, precision_scores, recall_scores, f1_scores, accuracy_scores = zip(*sorted_scores)\n",
    "\n",
    "# Set the width of the bars\n",
    "bar_width = 0.2\n",
    "\n",
    "# Set the x-axis positions for the bars\n",
    "r1 = range(len(precision_scores))\n",
    "r2 = [x + bar_width for x in r1]\n",
    "r3 = [x + bar_width for x in r2]\n",
    "r4 = [x + bar_width for x in r3]\n",
    "\n",
    "# Plot the bars for precision, recall, F1-score, and accuracy\n",
    "# Plot the bars for precision, recall, F1-score, and accuracy\n",
    "plt.bar(r1, precision_scores, color='orange', width=bar_width, edgecolor='black', label='Precision')\n",
    "plt.bar(r2, recall_scores, color='navy', width=bar_width, edgecolor='black', label='Recall')\n",
    "plt.bar(r3, f1_scores, color='salmon', width=bar_width, edgecolor='black', label='F1-score')\n",
    "plt.bar(r4, accuracy_scores, color='green', width=bar_width, edgecolor='black', label='Accuracy')\n",
    "\n",
    "# Add data labels above each bar\n",
    "for i, score in enumerate(zip(precision_scores, recall_scores, f1_scores, accuracy_scores)):\n",
    "    plt.text(r1[i]-0.05, score[0]+0.01, round(score[0],2), fontsize=10)\n",
    "    plt.text(r2[i]-0.05, score[1]+0.01, round(score[1],2), fontsize=10)\n",
    "    plt.text(r3[i]-0.05, score[2]+0.01, round(score[2],2), fontsize=10)\n",
    "    plt.text(r4[i]-0.05, score[3]+0.01, round(score[3],2), fontsize=10)\n",
    "\n",
    "# Set the x-axis labels and tick positions\n",
    "plt.xticks([r + bar_width for r in range(len(precision_scores))], model_names)\n",
    "\n",
    "plt.title(\"Comparison of Models\")\n",
    "\n",
    "\n",
    "# Add a legend and set the y-axis label\n",
    "plt.legend(bbox_to_anchor=(1.05, 1), loc='upper left')\n",
    "plt.ylabel('Score')\n",
    "\n",
    "# Show the plot\n",
    "plt.show()\n"
   ]
  },
  {
   "cell_type": "markdown",
   "id": "e9c73e43",
   "metadata": {},
   "source": [
    "### Test Sample Prediction"
   ]
  },
  {
   "cell_type": "code",
   "execution_count": 69,
   "id": "294d13a1",
   "metadata": {},
   "outputs": [],
   "source": [
    "#sample prediction\n",
    "test = ['i want to die. cannot live any longer. help']"
   ]
  },
  {
   "cell_type": "code",
   "execution_count": 70,
   "id": "51b70441",
   "metadata": {},
   "outputs": [],
   "source": [
    "review = re.sub('[^a-zA-Z]', ' ', test[0])\n",
    "review = review.lower()\n",
    "review = review.split()\n",
    "stop_list = stopwords.words('english')\n",
    "lemmatizer = WordNetLemmatizer()\n",
    "review = [lemmatizer.lemmatize(word) for word in review if not word in stop_list]"
   ]
  },
  {
   "cell_type": "code",
   "execution_count": 71,
   "id": "be6feebf",
   "metadata": {},
   "outputs": [
    {
     "name": "stdout",
     "output_type": "stream",
     "text": [
      "['want_NN', 'die_NN', 'can_MD not_RB', 'live_JJ', 'longer_NN', 'help_NN']\n"
     ]
    }
   ],
   "source": [
    "# Create a function to add POS tags in the form of word_POS\n",
    "def add_pos_tag(sentences):\n",
    "    tagged_sentences = []\n",
    "    for sentence in sentences:\n",
    "        # Tokenize sentence into words\n",
    "        words = nltk.word_tokenize(sentence)\n",
    "        # Get POS tags for words\n",
    "        pos_tags = nltk.pos_tag(words)\n",
    "        # Join word and POS tag into word_POS format\n",
    "        tagged_words = [f\"{word}_{pos}\" for word, pos in pos_tags]\n",
    "        # Join tagged words into sentence\n",
    "        tagged_sentence = \" \".join(tagged_words)\n",
    "        # Add tagged sentence to list\n",
    "        tagged_sentences.append(tagged_sentence)\n",
    "    return tagged_sentences\n",
    "\n",
    "test_tagged = add_pos_tag(review)\n",
    "print(test_tagged)"
   ]
  },
  {
   "cell_type": "code",
   "execution_count": 72,
   "id": "76c8bfac",
   "metadata": {},
   "outputs": [
    {
     "data": {
      "text/plain": [
       "['want_NN die_NN can_MD not_RB live_JJ longer_NN help_NN']"
      ]
     },
     "execution_count": 72,
     "metadata": {},
     "output_type": "execute_result"
    }
   ],
   "source": [
    "test_processed =[ ' '.join(test_tagged)]\n",
    "test_processed"
   ]
  },
  {
   "cell_type": "code",
   "execution_count": 73,
   "id": "e7cea873",
   "metadata": {},
   "outputs": [
    {
     "data": {
      "text/plain": [
       "(1, 44823)"
      ]
     },
     "execution_count": 73,
     "metadata": {},
     "output_type": "execute_result"
    }
   ],
   "source": [
    "test_input = tf_idf.transform(test_processed)\n",
    "test_input.shape"
   ]
  },
  {
   "cell_type": "code",
   "execution_count": 74,
   "id": "231bb057",
   "metadata": {},
   "outputs": [
    {
     "data": {
      "text/plain": [
       "'suicide'"
      ]
     },
     "execution_count": 74,
     "metadata": {},
     "output_type": "execute_result"
    }
   ],
   "source": [
    "#sklearn Naive Bayes\n",
    "nb_result = naive_bayes_classifier.predict(test_input)[0]\n",
    "nb_result"
   ]
  },
  {
   "cell_type": "code",
   "execution_count": 75,
   "id": "b251d4e6",
   "metadata": {},
   "outputs": [
    {
     "data": {
      "text/plain": [
       "'suicide'"
      ]
     },
     "execution_count": 75,
     "metadata": {},
     "output_type": "execute_result"
    }
   ],
   "source": [
    "#LogReg\n",
    "logreg_result = logreg.predict(test_input)[0]\n",
    "logreg_result"
   ]
  },
  {
   "cell_type": "code",
   "execution_count": 76,
   "id": "9da514a0",
   "metadata": {},
   "outputs": [
    {
     "data": {
      "text/plain": [
       "'suicide'"
      ]
     },
     "execution_count": 76,
     "metadata": {},
     "output_type": "execute_result"
    }
   ],
   "source": [
    "#SVM\n",
    "SVC_result = linearSVC.predict(test_input)[0]\n",
    "SVC_result"
   ]
  },
  {
   "cell_type": "code",
   "execution_count": null,
   "id": "855f1e88",
   "metadata": {},
   "outputs": [],
   "source": []
  }
 ],
 "metadata": {
  "kernelspec": {
   "display_name": "Python 3 (ipykernel)",
   "language": "python",
   "name": "python3"
  },
  "language_info": {
   "codemirror_mode": {
    "name": "ipython",
    "version": 3
   },
   "file_extension": ".py",
   "mimetype": "text/x-python",
   "name": "python",
   "nbconvert_exporter": "python",
   "pygments_lexer": "ipython3",
   "version": "3.9.12"
  }
 },
 "nbformat": 4,
 "nbformat_minor": 5
}
