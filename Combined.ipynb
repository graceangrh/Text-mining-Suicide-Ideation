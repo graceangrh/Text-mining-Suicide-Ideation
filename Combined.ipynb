{
 "cells": [
  {
   "cell_type": "code",
   "execution_count": 1,
   "id": "41ab2112",
   "metadata": {},
   "outputs": [],
   "source": [
    "import pandas as pd\n",
    "import numpy as np\n",
    "import nltk\n",
    "from nltk.corpus import stopwords\n",
    "from nltk.stem.porter import *\n",
    "from nltk.stem import WordNetLemmatizer\n",
    "from nltk.stem import SnowballStemmer\n",
    "from nltk.corpus import wordnet\n",
    "from nltk.tokenize import word_tokenize\n",
    "import gensim\n",
    "from gensim import corpora, models\n",
    "import string\n",
    "from sklearn.feature_extraction.text import CountVectorizer\n",
    "import ast\n",
    "from nrclex import NRCLex\n",
    "from sklearn.feature_extraction.text import TfidfVectorizer\n",
    "from sklearn.model_selection import train_test_split\n",
    "from sklearn.naive_bayes import MultinomialNB\n",
    "from sklearn.preprocessing import LabelEncoder\n",
    "from sklearn.linear_model import LogisticRegression\n",
    "from sklearn.svm import LinearSVC\n",
    "from sklearn import svm \n",
    "from sklearn import metrics\n",
    "from sklearn.metrics import confusion_matrix, accuracy_score\n",
    "from matplotlib.colors import ListedColormap\n",
    "import seaborn as sns\n",
    "import matplotlib.pyplot as plt\n",
    "from sklearn.model_selection import RepeatedStratifiedKFold\n",
    "from sklearn.model_selection import GridSearchCV\n",
    "from sklearn.model_selection import RandomizedSearchCV\n",
    "from scipy.stats import uniform\n",
    "from scipy.stats import loguniform\n",
    "import contractions\n",
    "import wordninja\n",
    "import pickle"
   ]
  },
  {
   "cell_type": "markdown",
   "id": "58faf40e",
   "metadata": {},
   "source": [
    "### Feature Engineering Sentiment Analysis"
   ]
  },
  {
   "cell_type": "code",
   "execution_count": 90,
   "id": "01101f6a",
   "metadata": {},
   "outputs": [],
   "source": [
    "df = pd.read_csv(\"preprocessed_data_new_negation.csv\")"
   ]
  },
  {
   "cell_type": "code",
   "execution_count": 3,
   "id": "e9d27a05",
   "metadata": {},
   "outputs": [],
   "source": [
    "df[\"lemmatized_processed_text\"] = df[\"lemmatized_processed_text\"].apply(lambda x: ast.literal_eval(x))"
   ]
  },
  {
   "cell_type": "code",
   "execution_count": 4,
   "id": "e420b80d",
   "metadata": {},
   "outputs": [],
   "source": [
    "df['clean_lemmatized_processed_text'] = [' '.join(map(str, l)) for l in df['lemmatized_processed_text']]"
   ]
  },
  {
   "cell_type": "code",
   "execution_count": 5,
   "id": "e8573475",
   "metadata": {},
   "outputs": [],
   "source": [
    "df['emotions'] = df['clean_lemmatized_processed_text'].apply(lambda x: NRCLex(x).affect_frequencies)"
   ]
  },
  {
   "cell_type": "code",
   "execution_count": 6,
   "id": "2254268a",
   "metadata": {},
   "outputs": [],
   "source": [
    "df = pd.concat([df.drop(['emotions'], axis = 1), df['emotions'].apply(pd.Series)], axis = 1)\n"
   ]
  },
  {
   "cell_type": "code",
   "execution_count": 7,
   "id": "fd475a56",
   "metadata": {},
   "outputs": [],
   "source": [
    "df = df.fillna(0)"
   ]
  },
  {
   "cell_type": "code",
   "execution_count": 8,
   "id": "c5688975",
   "metadata": {},
   "outputs": [
    {
     "data": {
      "text/html": [
       "<div>\n",
       "<style scoped>\n",
       "    .dataframe tbody tr th:only-of-type {\n",
       "        vertical-align: middle;\n",
       "    }\n",
       "\n",
       "    .dataframe tbody tr th {\n",
       "        vertical-align: top;\n",
       "    }\n",
       "\n",
       "    .dataframe thead th {\n",
       "        text-align: right;\n",
       "    }\n",
       "</style>\n",
       "<table border=\"1\" class=\"dataframe\">\n",
       "  <thead>\n",
       "    <tr style=\"text-align: right;\">\n",
       "      <th></th>\n",
       "      <th>text</th>\n",
       "      <th>class</th>\n",
       "      <th>stemmed_processed_text</th>\n",
       "      <th>lemmatized_processed_text</th>\n",
       "      <th>clean_lemmatized_processed_text</th>\n",
       "      <th>fear</th>\n",
       "      <th>anger</th>\n",
       "      <th>anticip</th>\n",
       "      <th>trust</th>\n",
       "      <th>surprise</th>\n",
       "      <th>positive</th>\n",
       "      <th>negative</th>\n",
       "      <th>sadness</th>\n",
       "      <th>disgust</th>\n",
       "      <th>joy</th>\n",
       "      <th>anticipation</th>\n",
       "    </tr>\n",
       "  </thead>\n",
       "  <tbody>\n",
       "    <tr>\n",
       "      <th>0</th>\n",
       "      <td>ex wife threatening suicide recently i left my...</td>\n",
       "      <td>suicide</td>\n",
       "      <td>['ex', 'wife', 'threaten', 'suicid', 'recent',...</td>\n",
       "      <td>[ex, wife, threatening, suicide, recently, lef...</td>\n",
       "      <td>ex wife threatening suicide recently left wife...</td>\n",
       "      <td>0.125000</td>\n",
       "      <td>0.125000</td>\n",
       "      <td>0.0</td>\n",
       "      <td>0.078125</td>\n",
       "      <td>0.078125</td>\n",
       "      <td>0.078125</td>\n",
       "      <td>0.171875</td>\n",
       "      <td>0.093750</td>\n",
       "      <td>0.062500</td>\n",
       "      <td>0.078125</td>\n",
       "      <td>0.109375</td>\n",
       "    </tr>\n",
       "    <tr>\n",
       "      <th>1</th>\n",
       "      <td>am i weird i do not get affected by compliment...</td>\n",
       "      <td>non-suicide</td>\n",
       "      <td>['weird', 'not', 'get', 'affect', 'compliment'...</td>\n",
       "      <td>[weird, not, get, affected, compliment, coming...</td>\n",
       "      <td>weird not get affected compliment coming someo...</td>\n",
       "      <td>0.066667</td>\n",
       "      <td>0.000000</td>\n",
       "      <td>0.0</td>\n",
       "      <td>0.133333</td>\n",
       "      <td>0.133333</td>\n",
       "      <td>0.133333</td>\n",
       "      <td>0.133333</td>\n",
       "      <td>0.000000</td>\n",
       "      <td>0.066667</td>\n",
       "      <td>0.133333</td>\n",
       "      <td>0.200000</td>\n",
       "    </tr>\n",
       "    <tr>\n",
       "      <th>2</th>\n",
       "      <td>finally is almost over so i can never hear has...</td>\n",
       "      <td>non-suicide</td>\n",
       "      <td>['final', 'almost', 'never', 'hear', 'bad', 'y...</td>\n",
       "      <td>[finally, almost, never, hear, bad, year, ever...</td>\n",
       "      <td>finally almost never hear bad year ever swear ...</td>\n",
       "      <td>0.100000</td>\n",
       "      <td>0.100000</td>\n",
       "      <td>0.0</td>\n",
       "      <td>0.150000</td>\n",
       "      <td>0.050000</td>\n",
       "      <td>0.150000</td>\n",
       "      <td>0.100000</td>\n",
       "      <td>0.050000</td>\n",
       "      <td>0.100000</td>\n",
       "      <td>0.100000</td>\n",
       "      <td>0.100000</td>\n",
       "    </tr>\n",
       "    <tr>\n",
       "      <th>3</th>\n",
       "      <td>i need help just help me i am crying so hard</td>\n",
       "      <td>suicide</td>\n",
       "      <td>['need', 'help', 'help', 'cri', 'hard']</td>\n",
       "      <td>[need, help, help, cry, hard]</td>\n",
       "      <td>need help help cry hard</td>\n",
       "      <td>0.000000</td>\n",
       "      <td>0.000000</td>\n",
       "      <td>0.0</td>\n",
       "      <td>0.000000</td>\n",
       "      <td>0.000000</td>\n",
       "      <td>0.000000</td>\n",
       "      <td>0.500000</td>\n",
       "      <td>0.500000</td>\n",
       "      <td>0.000000</td>\n",
       "      <td>0.000000</td>\n",
       "      <td>0.000000</td>\n",
       "    </tr>\n",
       "    <tr>\n",
       "      <th>4</th>\n",
       "      <td>i m so lost hello my name is adam and i ve bee...</td>\n",
       "      <td>suicide</td>\n",
       "      <td>['lost', 'hello', 'name', 'adam', 'struggl', '...</td>\n",
       "      <td>[lost, hello, name, adam, struggling, year, af...</td>\n",
       "      <td>lost hello name adam struggling year afraid pa...</td>\n",
       "      <td>0.146226</td>\n",
       "      <td>0.103774</td>\n",
       "      <td>0.0</td>\n",
       "      <td>0.066038</td>\n",
       "      <td>0.037736</td>\n",
       "      <td>0.075472</td>\n",
       "      <td>0.198113</td>\n",
       "      <td>0.146226</td>\n",
       "      <td>0.061321</td>\n",
       "      <td>0.042453</td>\n",
       "      <td>0.122642</td>\n",
       "    </tr>\n",
       "  </tbody>\n",
       "</table>\n",
       "</div>"
      ],
      "text/plain": [
       "                                                text        class  \\\n",
       "0  ex wife threatening suicide recently i left my...      suicide   \n",
       "1  am i weird i do not get affected by compliment...  non-suicide   \n",
       "2  finally is almost over so i can never hear has...  non-suicide   \n",
       "3       i need help just help me i am crying so hard      suicide   \n",
       "4  i m so lost hello my name is adam and i ve bee...      suicide   \n",
       "\n",
       "                              stemmed_processed_text  \\\n",
       "0  ['ex', 'wife', 'threaten', 'suicid', 'recent',...   \n",
       "1  ['weird', 'not', 'get', 'affect', 'compliment'...   \n",
       "2  ['final', 'almost', 'never', 'hear', 'bad', 'y...   \n",
       "3            ['need', 'help', 'help', 'cri', 'hard']   \n",
       "4  ['lost', 'hello', 'name', 'adam', 'struggl', '...   \n",
       "\n",
       "                           lemmatized_processed_text  \\\n",
       "0  [ex, wife, threatening, suicide, recently, lef...   \n",
       "1  [weird, not, get, affected, compliment, coming...   \n",
       "2  [finally, almost, never, hear, bad, year, ever...   \n",
       "3                      [need, help, help, cry, hard]   \n",
       "4  [lost, hello, name, adam, struggling, year, af...   \n",
       "\n",
       "                     clean_lemmatized_processed_text      fear     anger  \\\n",
       "0  ex wife threatening suicide recently left wife...  0.125000  0.125000   \n",
       "1  weird not get affected compliment coming someo...  0.066667  0.000000   \n",
       "2  finally almost never hear bad year ever swear ...  0.100000  0.100000   \n",
       "3                            need help help cry hard  0.000000  0.000000   \n",
       "4  lost hello name adam struggling year afraid pa...  0.146226  0.103774   \n",
       "\n",
       "   anticip     trust  surprise  positive  negative   sadness   disgust  \\\n",
       "0      0.0  0.078125  0.078125  0.078125  0.171875  0.093750  0.062500   \n",
       "1      0.0  0.133333  0.133333  0.133333  0.133333  0.000000  0.066667   \n",
       "2      0.0  0.150000  0.050000  0.150000  0.100000  0.050000  0.100000   \n",
       "3      0.0  0.000000  0.000000  0.000000  0.500000  0.500000  0.000000   \n",
       "4      0.0  0.066038  0.037736  0.075472  0.198113  0.146226  0.061321   \n",
       "\n",
       "        joy  anticipation  \n",
       "0  0.078125      0.109375  \n",
       "1  0.133333      0.200000  \n",
       "2  0.100000      0.100000  \n",
       "3  0.000000      0.000000  \n",
       "4  0.042453      0.122642  "
      ]
     },
     "execution_count": 8,
     "metadata": {},
     "output_type": "execute_result"
    }
   ],
   "source": [
    "df.head()"
   ]
  },
  {
   "cell_type": "code",
   "execution_count": 9,
   "id": "a57500f9",
   "metadata": {},
   "outputs": [],
   "source": [
    "df.to_csv(\"df_emotions.csv\")"
   ]
  },
  {
   "cell_type": "markdown",
   "id": "db38bb42",
   "metadata": {},
   "source": [
    "### Feature Engineering Sentiment Analysis"
   ]
  },
  {
   "cell_type": "code",
   "execution_count": null,
   "id": "776dd5ae",
   "metadata": {},
   "outputs": [],
   "source": [
    "from vaderSentiment.vaderSentiment import SentimentIntensityAnalyzer\n"
   ]
  },
  {
   "cell_type": "code",
   "execution_count": null,
   "id": "aa3e8197",
   "metadata": {},
   "outputs": [],
   "source": [
    "df = pd.read_csv(\"preprocessed_data_new_negation.csv\")"
   ]
  },
  {
   "cell_type": "code",
   "execution_count": null,
   "id": "d715ac4f",
   "metadata": {},
   "outputs": [],
   "source": [
    "df[\"lemmatized_processed_text\"] = df[\"lemmatized_processed_text\"].apply(lambda x: ast.literal_eval(x))"
   ]
  },
  {
   "cell_type": "code",
   "execution_count": null,
   "id": "6f7feeef",
   "metadata": {},
   "outputs": [],
   "source": [
    "df['clean_lemmatized_processed_text'] = [' '.join(map(str, l)) for l in df['lemmatized_processed_text']]"
   ]
  },
  {
   "cell_type": "code",
   "execution_count": null,
   "id": "510a81ee",
   "metadata": {},
   "outputs": [],
   "source": [
    "analyzer = SentimentIntensityAnalyzer()\n",
    "df[\"emotions\"] = df['clean_lemmatized_processed_text'].apply(lambda x: analyzer.polarity_scores(x))"
   ]
  },
  {
   "cell_type": "code",
   "execution_count": null,
   "id": "d8f1b4f5",
   "metadata": {},
   "outputs": [],
   "source": [
    "df = pd.concat([df.drop(['emotions'], axis = 1), df['emotions'].apply(pd.Series)], axis = 1)\n"
   ]
  },
  {
   "cell_type": "code",
   "execution_count": null,
   "id": "18a6b39e",
   "metadata": {},
   "outputs": [],
   "source": [
    "df.head()"
   ]
  },
  {
   "cell_type": "code",
   "execution_count": null,
   "id": "5745632b",
   "metadata": {},
   "outputs": [],
   "source": [
    "df.to_csv(\"lexicon_approach2.csv\")"
   ]
  },
  {
   "cell_type": "markdown",
   "id": "268c9eb6",
   "metadata": {},
   "source": [
    "### Feature Engineering Dictionary + POS_Tagging"
   ]
  },
  {
   "cell_type": "code",
   "execution_count": 2,
   "id": "00928adb",
   "metadata": {},
   "outputs": [],
   "source": [
    "import os\n",
    "# os.environ['JAVAHOME'] = 'C:/Program Files/Java/jdk-17.0.1/bin'\n",
    "# os.environ['STANFORD_PARSER'] = 'C:/stanford-corenlp-4.5.3'\n",
    "# os.environ['STANFORD_MODELS'] = 'C:/stanford-corenlp-4.5.3'\n",
    "\n",
    "os.environ['JAVAHOME'] = 'C:/Program Files/Java/jdk1.8.0_361/bin'\n",
    "os.environ['STANFORD_PARSER'] = 'C:/Program Files/stanford-corenlp-4.5.2/'\n",
    "os.environ['STANFORD_MODELS'] = 'C:/Program Files/stanford-corenlp-4.5.2/'\n",
    "\n"
   ]
  },
  {
   "cell_type": "code",
   "execution_count": 3,
   "id": "59f3942b",
   "metadata": {},
   "outputs": [],
   "source": [
    "from nltk.parse import CoreNLPParser\n",
    "\n",
    "pos_tagger = CoreNLPParser(url='http://localhost:9000', tagtype='pos')"
   ]
  },
  {
   "cell_type": "markdown",
   "id": "52dbe238",
   "metadata": {},
   "source": [
    "### Domain Dictionary"
   ]
  },
  {
   "cell_type": "code",
   "execution_count": null,
   "id": "e75d8c5e",
   "metadata": {},
   "outputs": [],
   "source": [
    "dict1 = pd.read_csv(\"suicidal_indicator.csv\", header=None).T\n",
    "dict2 = pd.read_csv(\"suicidal_ideation.csv\", header=None).T\n",
    "dict3 = pd.read_csv(\"suicidal_behavior.csv\", header=None).T\n",
    "dict4 = pd.read_csv(\"suicidal_attempt.csv\", header=None).T\n"
   ]
  },
  {
   "cell_type": "code",
   "execution_count": null,
   "id": "289291e2",
   "metadata": {},
   "outputs": [],
   "source": [
    "###combined dictionary into 1\n",
    "domain_dict = pd.concat([dict1, dict2, dict3,dict4], ignore_index=True)\n",
    "domain_dict = domain_dict.rename(columns={0: 'lexicons'})\n",
    "domain_dict.head()"
   ]
  },
  {
   "cell_type": "code",
   "execution_count": null,
   "id": "400cd5c0",
   "metadata": {},
   "outputs": [],
   "source": [
    "def lower_text(text):\n",
    "    text = str(text).lower()\n",
    "    return text"
   ]
  },
  {
   "cell_type": "code",
   "execution_count": null,
   "id": "c89450e5",
   "metadata": {},
   "outputs": [],
   "source": [
    "domain_dict['lexicons'] = domain_dict['lexicons'].apply(lower_text)"
   ]
  },
  {
   "cell_type": "code",
   "execution_count": null,
   "id": "3da51321",
   "metadata": {},
   "outputs": [],
   "source": [
    "domain_dict"
   ]
  },
  {
   "cell_type": "code",
   "execution_count": null,
   "id": "96aed1e2",
   "metadata": {},
   "outputs": [],
   "source": [
    "domain_dict = domain_dict.drop(domain_dict.index[1521]).reset_index(drop=True)"
   ]
  },
  {
   "cell_type": "code",
   "execution_count": null,
   "id": "1b30c16d",
   "metadata": {},
   "outputs": [],
   "source": [
    "def stem_preprocess_text(sentence):\n",
    "    stop_words = set(stopwords.words('english'))\n",
    "    stemmer = SnowballStemmer('english')\n",
    "    sentence = str(sentence)\n",
    "    words = nltk.word_tokenize(sentence.lower())\n",
    "    tagged_words = pos_tagger.tag(words)\n",
    "    tagged_words = [(stemmer.stem(word), tag) for word, tag in tagged_words if word not in stop_words]\n",
    "    return tagged_words"
   ]
  },
  {
   "cell_type": "code",
   "execution_count": null,
   "id": "daf6cbee",
   "metadata": {},
   "outputs": [],
   "source": [
    "domain_dict[\"stem\"] = domain_dict[\"lexicons\"].apply(stem_preprocess_text)"
   ]
  },
  {
   "cell_type": "code",
   "execution_count": null,
   "id": "121b889c",
   "metadata": {},
   "outputs": [],
   "source": [
    "def lem_preprocess_text(sentence):\n",
    "    stop_words = set(stopwords.words('english'))\n",
    "#     stemmer = PorterStemmer()\n",
    "    lemmatizer = WordNetLemmatizer()\n",
    "    sentence = str(sentence)\n",
    "    words = nltk.word_tokenize(sentence.lower())\n",
    "    tagged_words = pos_tagger.tag(words)\n",
    "    tagged_words = [(lemmatizer.lemmatize(word), tag) for word, tag in tagged_words if word not in stop_words]\n",
    "    return tagged_words"
   ]
  },
  {
   "cell_type": "code",
   "execution_count": null,
   "id": "5f5464dc",
   "metadata": {},
   "outputs": [],
   "source": [
    "domain_dict[\"lem\"] = domain_dict[\"lexicons\"].apply(lem_preprocess_text)"
   ]
  },
  {
   "cell_type": "code",
   "execution_count": null,
   "id": "7fee2012",
   "metadata": {},
   "outputs": [],
   "source": [
    "domain_dict"
   ]
  },
  {
   "cell_type": "code",
   "execution_count": null,
   "id": "cc4f7172",
   "metadata": {},
   "outputs": [],
   "source": [
    "def nested_list_to_string(nested_list):\n",
    "    return ' '.join(['_'.join(tup) for tup in nested_list])"
   ]
  },
  {
   "cell_type": "code",
   "execution_count": null,
   "id": "682e6cbf",
   "metadata": {},
   "outputs": [],
   "source": [
    "domain_dict[\"stem\"] = domain_dict[\"stem\"].apply(nested_list_to_string)\n",
    "domain_dict[\"lem\"] = domain_dict[\"lem\"].apply(nested_list_to_string)\n",
    "domain_dict"
   ]
  },
  {
   "cell_type": "code",
   "execution_count": null,
   "id": "dec94099",
   "metadata": {},
   "outputs": [],
   "source": [
    "## get list of domain dictionary that are stemmed\n",
    "list_of_stem = []\n",
    "for i in range (len(domain_dict[\"stem\"])):\n",
    "    list_of_stem.append(domain_dict[\"stem\"].iloc[i])\n",
    "len(list_of_stem)"
   ]
  },
  {
   "cell_type": "code",
   "execution_count": null,
   "id": "38ee2fec",
   "metadata": {},
   "outputs": [],
   "source": [
    "## get list of domain dictionary that are lemmatized\n",
    "list_of_lem = []\n",
    "for j in range (len(domain_dict[\"lem\"])):\n",
    "    list_of_lem.append(domain_dict[\"lem\"].iloc[j])\n",
    "len(list_of_lem)"
   ]
  },
  {
   "cell_type": "code",
   "execution_count": null,
   "id": "9f8e710c",
   "metadata": {},
   "outputs": [],
   "source": [
    "with open(\"domain_dict_postag_lem.txt\", \"w\") as file:\n",
    "    for item in list_of_lem:\n",
    "        file.write(\"%s\\n\" % item)"
   ]
  },
  {
   "cell_type": "markdown",
   "id": "a8d97387",
   "metadata": {},
   "source": [
    "### POS Tagging\n"
   ]
  },
  {
   "cell_type": "code",
   "execution_count": 5,
   "id": "c6bb402c",
   "metadata": {},
   "outputs": [
    {
     "data": {
      "text/html": [
       "<div>\n",
       "<style scoped>\n",
       "    .dataframe tbody tr th:only-of-type {\n",
       "        vertical-align: middle;\n",
       "    }\n",
       "\n",
       "    .dataframe tbody tr th {\n",
       "        vertical-align: top;\n",
       "    }\n",
       "\n",
       "    .dataframe thead th {\n",
       "        text-align: right;\n",
       "    }\n",
       "</style>\n",
       "<table border=\"1\" class=\"dataframe\">\n",
       "  <thead>\n",
       "    <tr style=\"text-align: right;\">\n",
       "      <th></th>\n",
       "      <th>text</th>\n",
       "      <th>class</th>\n",
       "      <th>stemmed_processed_text</th>\n",
       "      <th>lemmatized_processed_text</th>\n",
       "    </tr>\n",
       "  </thead>\n",
       "  <tbody>\n",
       "    <tr>\n",
       "      <th>0</th>\n",
       "      <td>ex wife threatening suicide recently i left my...</td>\n",
       "      <td>suicide</td>\n",
       "      <td>['ex', 'wife', 'threaten', 'suicid', 'recent',...</td>\n",
       "      <td>['ex', 'wife', 'threatening', 'suicide', 'rece...</td>\n",
       "    </tr>\n",
       "    <tr>\n",
       "      <th>1</th>\n",
       "      <td>am i weird i do not get affected by compliment...</td>\n",
       "      <td>non-suicide</td>\n",
       "      <td>['weird', 'not', 'get', 'affect', 'compliment'...</td>\n",
       "      <td>['weird', 'not', 'get', 'affected', 'complimen...</td>\n",
       "    </tr>\n",
       "    <tr>\n",
       "      <th>2</th>\n",
       "      <td>finally is almost over so i can never hear has...</td>\n",
       "      <td>non-suicide</td>\n",
       "      <td>['final', 'almost', 'never', 'hear', 'bad', 'y...</td>\n",
       "      <td>['finally', 'almost', 'never', 'hear', 'bad', ...</td>\n",
       "    </tr>\n",
       "    <tr>\n",
       "      <th>3</th>\n",
       "      <td>i need help just help me i am crying so hard</td>\n",
       "      <td>suicide</td>\n",
       "      <td>['need', 'help', 'help', 'cri', 'hard']</td>\n",
       "      <td>['need', 'help', 'help', 'cry', 'hard']</td>\n",
       "    </tr>\n",
       "    <tr>\n",
       "      <th>4</th>\n",
       "      <td>i m so lost hello my name is adam and i ve bee...</td>\n",
       "      <td>suicide</td>\n",
       "      <td>['lost', 'hello', 'name', 'adam', 'struggl', '...</td>\n",
       "      <td>['lost', 'hello', 'name', 'adam', 'struggling'...</td>\n",
       "    </tr>\n",
       "  </tbody>\n",
       "</table>\n",
       "</div>"
      ],
      "text/plain": [
       "                                                text        class  \\\n",
       "0  ex wife threatening suicide recently i left my...      suicide   \n",
       "1  am i weird i do not get affected by compliment...  non-suicide   \n",
       "2  finally is almost over so i can never hear has...  non-suicide   \n",
       "3       i need help just help me i am crying so hard      suicide   \n",
       "4  i m so lost hello my name is adam and i ve bee...      suicide   \n",
       "\n",
       "                              stemmed_processed_text  \\\n",
       "0  ['ex', 'wife', 'threaten', 'suicid', 'recent',...   \n",
       "1  ['weird', 'not', 'get', 'affect', 'compliment'...   \n",
       "2  ['final', 'almost', 'never', 'hear', 'bad', 'y...   \n",
       "3            ['need', 'help', 'help', 'cri', 'hard']   \n",
       "4  ['lost', 'hello', 'name', 'adam', 'struggl', '...   \n",
       "\n",
       "                           lemmatized_processed_text  \n",
       "0  ['ex', 'wife', 'threatening', 'suicide', 'rece...  \n",
       "1  ['weird', 'not', 'get', 'affected', 'complimen...  \n",
       "2  ['finally', 'almost', 'never', 'hear', 'bad', ...  \n",
       "3            ['need', 'help', 'help', 'cry', 'hard']  \n",
       "4  ['lost', 'hello', 'name', 'adam', 'struggling'...  "
      ]
     },
     "execution_count": 5,
     "metadata": {},
     "output_type": "execute_result"
    }
   ],
   "source": [
    "data = pd.read_csv(\"preprocessed_data_new_negation.csv\")\n",
    "data.head()"
   ]
  },
  {
   "cell_type": "code",
   "execution_count": null,
   "id": "ef373a62",
   "metadata": {},
   "outputs": [],
   "source": [
    "data.info()"
   ]
  },
  {
   "cell_type": "code",
   "execution_count": null,
   "id": "b6b2fb47",
   "metadata": {},
   "outputs": [],
   "source": [
    "#drop stemmed_processed_text column\n",
    "data.drop(columns = [\"stemmed_processed_text\"], inplace = True)"
   ]
  },
  {
   "cell_type": "code",
   "execution_count": null,
   "id": "8cf3134c",
   "metadata": {},
   "outputs": [],
   "source": [
    "#clean and tokenize lemmatized_processed_text as it is intepreted as an entire string \n",
    "def clean_and_tokenize(text):\n",
    "    # Remove the brackets and commas using a regular expression\n",
    "    cleaned_text = re.sub(r\"[\\[\\],']\", \"\", text)\n",
    "    # Tokenize the string using word_tokenize\n",
    "    tokens = word_tokenize(cleaned_text)\n",
    "    return tokens"
   ]
  },
  {
   "cell_type": "code",
   "execution_count": null,
   "id": "0f51c459",
   "metadata": {},
   "outputs": [],
   "source": [
    "# Apply the function to the 'lemmatized_processed_text' column of the DataFrame\n",
    "data['tokens'] = data['lemmatized_processed_text'].apply(clean_and_tokenize)"
   ]
  },
  {
   "cell_type": "code",
   "execution_count": null,
   "id": "7fb87977",
   "metadata": {},
   "outputs": [],
   "source": [
    "# Define a function to add POS tags to a list of tokens\n",
    "def add_pos_tags(tokens):\n",
    "    tagged_tokens = []\n",
    "    for token in tokens:\n",
    "        pos_tag = pos_tagger.tag([token])[0][1]\n",
    "        tagged_token = f\"{token}_{pos_tag}\"\n",
    "        tagged_tokens.append(tagged_token)\n",
    "    return tagged_tokens\n",
    "\n",
    "# Apply the function to the 'tokens' column of the DataFrame\n",
    "data['tagged_tokens'] = data['tokens'].map(add_pos_tags)\n"
   ]
  },
  {
   "cell_type": "code",
   "execution_count": null,
   "id": "f3041afc",
   "metadata": {},
   "outputs": [],
   "source": [
    "data.head()"
   ]
  },
  {
   "cell_type": "code",
   "execution_count": null,
   "id": "bbc2b407",
   "metadata": {},
   "outputs": [],
   "source": [
    "data.to_csv('pos_tagged_new_negation.csv', index=False)"
   ]
  },
  {
   "cell_type": "markdown",
   "id": "0de2858d",
   "metadata": {},
   "source": [
    "### Combining All FE"
   ]
  },
  {
   "cell_type": "code",
   "execution_count": 2,
   "id": "7d4fa64f",
   "metadata": {},
   "outputs": [],
   "source": [
    "pos_df = pd.read_csv('pos_tagged_new_negation.csv')"
   ]
  },
  {
   "cell_type": "code",
   "execution_count": 3,
   "id": "92ff6f6c",
   "metadata": {},
   "outputs": [],
   "source": [
    "data_text = pos_df[\"text\"].copy()"
   ]
  },
  {
   "cell_type": "code",
   "execution_count": 4,
   "id": "9d291a9d",
   "metadata": {},
   "outputs": [],
   "source": [
    "pos_df.dropna(inplace=True)"
   ]
  },
  {
   "cell_type": "code",
   "execution_count": 5,
   "id": "8bd5b200",
   "metadata": {},
   "outputs": [],
   "source": [
    "pos_df['tagged_tokens'] = pos_df['tagged_tokens'].apply(lambda x: [str(i) for i in ast.literal_eval(x)])"
   ]
  },
  {
   "cell_type": "code",
   "execution_count": 6,
   "id": "76502efd",
   "metadata": {},
   "outputs": [
    {
     "data": {
      "text/html": [
       "<div>\n",
       "<style scoped>\n",
       "    .dataframe tbody tr th:only-of-type {\n",
       "        vertical-align: middle;\n",
       "    }\n",
       "\n",
       "    .dataframe tbody tr th {\n",
       "        vertical-align: top;\n",
       "    }\n",
       "\n",
       "    .dataframe thead th {\n",
       "        text-align: right;\n",
       "    }\n",
       "</style>\n",
       "<table border=\"1\" class=\"dataframe\">\n",
       "  <thead>\n",
       "    <tr style=\"text-align: right;\">\n",
       "      <th></th>\n",
       "      <th>class</th>\n",
       "      <th>tagged_tokens</th>\n",
       "    </tr>\n",
       "  </thead>\n",
       "  <tbody>\n",
       "    <tr>\n",
       "      <th>0</th>\n",
       "      <td>suicide</td>\n",
       "      <td>ex_NN wife_NN threatening_VBG suicide_NN recen...</td>\n",
       "    </tr>\n",
       "    <tr>\n",
       "      <th>1</th>\n",
       "      <td>non-suicide</td>\n",
       "      <td>weird_JJ not_RB get_VB affected_VBN compliment...</td>\n",
       "    </tr>\n",
       "    <tr>\n",
       "      <th>2</th>\n",
       "      <td>non-suicide</td>\n",
       "      <td>finally_RB almost_RB never_RB hear_VB bad_JJ y...</td>\n",
       "    </tr>\n",
       "    <tr>\n",
       "      <th>3</th>\n",
       "      <td>suicide</td>\n",
       "      <td>need_NN help_NN help_NN cry_NN hard_RB</td>\n",
       "    </tr>\n",
       "    <tr>\n",
       "      <th>4</th>\n",
       "      <td>suicide</td>\n",
       "      <td>lost_VBN hello_UH name_NN adam_NN struggling_V...</td>\n",
       "    </tr>\n",
       "  </tbody>\n",
       "</table>\n",
       "</div>"
      ],
      "text/plain": [
       "         class                                      tagged_tokens\n",
       "0      suicide  ex_NN wife_NN threatening_VBG suicide_NN recen...\n",
       "1  non-suicide  weird_JJ not_RB get_VB affected_VBN compliment...\n",
       "2  non-suicide  finally_RB almost_RB never_RB hear_VB bad_JJ y...\n",
       "3      suicide             need_NN help_NN help_NN cry_NN hard_RB\n",
       "4      suicide  lost_VBN hello_UH name_NN adam_NN struggling_V..."
      ]
     },
     "execution_count": 6,
     "metadata": {},
     "output_type": "execute_result"
    }
   ],
   "source": [
    "pos_df.drop(columns = [\"text\",\"lemmatized_processed_text\",\"tokens\"], inplace = True)\n",
    "pos_df[\"tagged_tokens\"] = pos_df[\"tagged_tokens\"].apply(lambda x: \" \".join(x))\n",
    "pos_df.head()"
   ]
  },
  {
   "cell_type": "code",
   "execution_count": 7,
   "id": "be754a79",
   "metadata": {},
   "outputs": [
    {
     "data": {
      "text/html": [
       "<div>\n",
       "<style scoped>\n",
       "    .dataframe tbody tr th:only-of-type {\n",
       "        vertical-align: middle;\n",
       "    }\n",
       "\n",
       "    .dataframe tbody tr th {\n",
       "        vertical-align: top;\n",
       "    }\n",
       "\n",
       "    .dataframe thead th {\n",
       "        text-align: right;\n",
       "    }\n",
       "</style>\n",
       "<table border=\"1\" class=\"dataframe\">\n",
       "  <thead>\n",
       "    <tr style=\"text-align: right;\">\n",
       "      <th></th>\n",
       "      <th>Unnamed: 0</th>\n",
       "      <th>text</th>\n",
       "      <th>class</th>\n",
       "      <th>stemmed_processed_text</th>\n",
       "      <th>lemmatized_processed_text</th>\n",
       "      <th>clean_lemmatized_processed_text</th>\n",
       "      <th>fear</th>\n",
       "      <th>anger</th>\n",
       "      <th>anticip</th>\n",
       "      <th>trust</th>\n",
       "      <th>surprise</th>\n",
       "      <th>positive</th>\n",
       "      <th>negative</th>\n",
       "      <th>sadness</th>\n",
       "      <th>disgust</th>\n",
       "      <th>joy</th>\n",
       "      <th>anticipation</th>\n",
       "    </tr>\n",
       "  </thead>\n",
       "  <tbody>\n",
       "    <tr>\n",
       "      <th>0</th>\n",
       "      <td>0</td>\n",
       "      <td>ex wife threatening suicide recently i left my...</td>\n",
       "      <td>suicide</td>\n",
       "      <td>['ex', 'wife', 'threaten', 'suicid', 'recent',...</td>\n",
       "      <td>['ex', 'wife', 'threatening', 'suicide', 'rece...</td>\n",
       "      <td>ex wife threatening suicide recently left wife...</td>\n",
       "      <td>0.125000</td>\n",
       "      <td>0.125000</td>\n",
       "      <td>0.0</td>\n",
       "      <td>0.078125</td>\n",
       "      <td>0.078125</td>\n",
       "      <td>0.078125</td>\n",
       "      <td>0.171875</td>\n",
       "      <td>0.093750</td>\n",
       "      <td>0.062500</td>\n",
       "      <td>0.078125</td>\n",
       "      <td>0.109375</td>\n",
       "    </tr>\n",
       "    <tr>\n",
       "      <th>1</th>\n",
       "      <td>1</td>\n",
       "      <td>am i weird i do not get affected by compliment...</td>\n",
       "      <td>non-suicide</td>\n",
       "      <td>['weird', 'not', 'get', 'affect', 'compliment'...</td>\n",
       "      <td>['weird', 'not', 'get', 'affected', 'complimen...</td>\n",
       "      <td>weird not get affected compliment coming someo...</td>\n",
       "      <td>0.066667</td>\n",
       "      <td>0.000000</td>\n",
       "      <td>0.0</td>\n",
       "      <td>0.133333</td>\n",
       "      <td>0.133333</td>\n",
       "      <td>0.133333</td>\n",
       "      <td>0.133333</td>\n",
       "      <td>0.000000</td>\n",
       "      <td>0.066667</td>\n",
       "      <td>0.133333</td>\n",
       "      <td>0.200000</td>\n",
       "    </tr>\n",
       "    <tr>\n",
       "      <th>2</th>\n",
       "      <td>2</td>\n",
       "      <td>finally is almost over so i can never hear has...</td>\n",
       "      <td>non-suicide</td>\n",
       "      <td>['final', 'almost', 'never', 'hear', 'bad', 'y...</td>\n",
       "      <td>['finally', 'almost', 'never', 'hear', 'bad', ...</td>\n",
       "      <td>finally almost never hear bad year ever swear ...</td>\n",
       "      <td>0.100000</td>\n",
       "      <td>0.100000</td>\n",
       "      <td>0.0</td>\n",
       "      <td>0.150000</td>\n",
       "      <td>0.050000</td>\n",
       "      <td>0.150000</td>\n",
       "      <td>0.100000</td>\n",
       "      <td>0.050000</td>\n",
       "      <td>0.100000</td>\n",
       "      <td>0.100000</td>\n",
       "      <td>0.100000</td>\n",
       "    </tr>\n",
       "    <tr>\n",
       "      <th>3</th>\n",
       "      <td>3</td>\n",
       "      <td>i need help just help me i am crying so hard</td>\n",
       "      <td>suicide</td>\n",
       "      <td>['need', 'help', 'help', 'cri', 'hard']</td>\n",
       "      <td>['need', 'help', 'help', 'cry', 'hard']</td>\n",
       "      <td>need help help cry hard</td>\n",
       "      <td>0.000000</td>\n",
       "      <td>0.000000</td>\n",
       "      <td>0.0</td>\n",
       "      <td>0.000000</td>\n",
       "      <td>0.000000</td>\n",
       "      <td>0.000000</td>\n",
       "      <td>0.500000</td>\n",
       "      <td>0.500000</td>\n",
       "      <td>0.000000</td>\n",
       "      <td>0.000000</td>\n",
       "      <td>0.000000</td>\n",
       "    </tr>\n",
       "    <tr>\n",
       "      <th>4</th>\n",
       "      <td>4</td>\n",
       "      <td>i m so lost hello my name is adam and i ve bee...</td>\n",
       "      <td>suicide</td>\n",
       "      <td>['lost', 'hello', 'name', 'adam', 'struggl', '...</td>\n",
       "      <td>['lost', 'hello', 'name', 'adam', 'struggling'...</td>\n",
       "      <td>lost hello name adam struggling year afraid pa...</td>\n",
       "      <td>0.146226</td>\n",
       "      <td>0.103774</td>\n",
       "      <td>0.0</td>\n",
       "      <td>0.066038</td>\n",
       "      <td>0.037736</td>\n",
       "      <td>0.075472</td>\n",
       "      <td>0.198113</td>\n",
       "      <td>0.146226</td>\n",
       "      <td>0.061321</td>\n",
       "      <td>0.042453</td>\n",
       "      <td>0.122642</td>\n",
       "    </tr>\n",
       "  </tbody>\n",
       "</table>\n",
       "</div>"
      ],
      "text/plain": [
       "   Unnamed: 0                                               text        class  \\\n",
       "0           0  ex wife threatening suicide recently i left my...      suicide   \n",
       "1           1  am i weird i do not get affected by compliment...  non-suicide   \n",
       "2           2  finally is almost over so i can never hear has...  non-suicide   \n",
       "3           3       i need help just help me i am crying so hard      suicide   \n",
       "4           4  i m so lost hello my name is adam and i ve bee...      suicide   \n",
       "\n",
       "                              stemmed_processed_text  \\\n",
       "0  ['ex', 'wife', 'threaten', 'suicid', 'recent',...   \n",
       "1  ['weird', 'not', 'get', 'affect', 'compliment'...   \n",
       "2  ['final', 'almost', 'never', 'hear', 'bad', 'y...   \n",
       "3            ['need', 'help', 'help', 'cri', 'hard']   \n",
       "4  ['lost', 'hello', 'name', 'adam', 'struggl', '...   \n",
       "\n",
       "                           lemmatized_processed_text  \\\n",
       "0  ['ex', 'wife', 'threatening', 'suicide', 'rece...   \n",
       "1  ['weird', 'not', 'get', 'affected', 'complimen...   \n",
       "2  ['finally', 'almost', 'never', 'hear', 'bad', ...   \n",
       "3            ['need', 'help', 'help', 'cry', 'hard']   \n",
       "4  ['lost', 'hello', 'name', 'adam', 'struggling'...   \n",
       "\n",
       "                     clean_lemmatized_processed_text      fear     anger  \\\n",
       "0  ex wife threatening suicide recently left wife...  0.125000  0.125000   \n",
       "1  weird not get affected compliment coming someo...  0.066667  0.000000   \n",
       "2  finally almost never hear bad year ever swear ...  0.100000  0.100000   \n",
       "3                            need help help cry hard  0.000000  0.000000   \n",
       "4  lost hello name adam struggling year afraid pa...  0.146226  0.103774   \n",
       "\n",
       "   anticip     trust  surprise  positive  negative   sadness   disgust  \\\n",
       "0      0.0  0.078125  0.078125  0.078125  0.171875  0.093750  0.062500   \n",
       "1      0.0  0.133333  0.133333  0.133333  0.133333  0.000000  0.066667   \n",
       "2      0.0  0.150000  0.050000  0.150000  0.100000  0.050000  0.100000   \n",
       "3      0.0  0.000000  0.000000  0.000000  0.500000  0.500000  0.000000   \n",
       "4      0.0  0.066038  0.037736  0.075472  0.198113  0.146226  0.061321   \n",
       "\n",
       "        joy  anticipation  \n",
       "0  0.078125      0.109375  \n",
       "1  0.133333      0.200000  \n",
       "2  0.100000      0.100000  \n",
       "3  0.000000      0.000000  \n",
       "4  0.042453      0.122642  "
      ]
     },
     "execution_count": 7,
     "metadata": {},
     "output_type": "execute_result"
    }
   ],
   "source": [
    "emotion_df = pd.read_csv(\"df_emotions.csv\")\n",
    "emotion_df.head()\n"
   ]
  },
  {
   "cell_type": "code",
   "execution_count": 8,
   "id": "5473d640",
   "metadata": {},
   "outputs": [
    {
     "data": {
      "text/html": [
       "<div>\n",
       "<style scoped>\n",
       "    .dataframe tbody tr th:only-of-type {\n",
       "        vertical-align: middle;\n",
       "    }\n",
       "\n",
       "    .dataframe tbody tr th {\n",
       "        vertical-align: top;\n",
       "    }\n",
       "\n",
       "    .dataframe thead th {\n",
       "        text-align: right;\n",
       "    }\n",
       "</style>\n",
       "<table border=\"1\" class=\"dataframe\">\n",
       "  <thead>\n",
       "    <tr style=\"text-align: right;\">\n",
       "      <th></th>\n",
       "      <th>clean_lemmatized_processed_text</th>\n",
       "      <th>fear</th>\n",
       "      <th>anger</th>\n",
       "      <th>anticip</th>\n",
       "      <th>trust</th>\n",
       "      <th>surprise</th>\n",
       "      <th>positive</th>\n",
       "      <th>negative</th>\n",
       "      <th>sadness</th>\n",
       "      <th>disgust</th>\n",
       "      <th>joy</th>\n",
       "      <th>anticipation</th>\n",
       "    </tr>\n",
       "  </thead>\n",
       "  <tbody>\n",
       "    <tr>\n",
       "      <th>0</th>\n",
       "      <td>ex wife threatening suicide recently left wife...</td>\n",
       "      <td>0.125000</td>\n",
       "      <td>0.125000</td>\n",
       "      <td>0.0</td>\n",
       "      <td>0.078125</td>\n",
       "      <td>0.078125</td>\n",
       "      <td>0.078125</td>\n",
       "      <td>0.171875</td>\n",
       "      <td>0.093750</td>\n",
       "      <td>0.062500</td>\n",
       "      <td>0.078125</td>\n",
       "      <td>0.109375</td>\n",
       "    </tr>\n",
       "    <tr>\n",
       "      <th>1</th>\n",
       "      <td>weird not get affected compliment coming someo...</td>\n",
       "      <td>0.066667</td>\n",
       "      <td>0.000000</td>\n",
       "      <td>0.0</td>\n",
       "      <td>0.133333</td>\n",
       "      <td>0.133333</td>\n",
       "      <td>0.133333</td>\n",
       "      <td>0.133333</td>\n",
       "      <td>0.000000</td>\n",
       "      <td>0.066667</td>\n",
       "      <td>0.133333</td>\n",
       "      <td>0.200000</td>\n",
       "    </tr>\n",
       "    <tr>\n",
       "      <th>2</th>\n",
       "      <td>finally almost never hear bad year ever swear ...</td>\n",
       "      <td>0.100000</td>\n",
       "      <td>0.100000</td>\n",
       "      <td>0.0</td>\n",
       "      <td>0.150000</td>\n",
       "      <td>0.050000</td>\n",
       "      <td>0.150000</td>\n",
       "      <td>0.100000</td>\n",
       "      <td>0.050000</td>\n",
       "      <td>0.100000</td>\n",
       "      <td>0.100000</td>\n",
       "      <td>0.100000</td>\n",
       "    </tr>\n",
       "    <tr>\n",
       "      <th>3</th>\n",
       "      <td>need help help cry hard</td>\n",
       "      <td>0.000000</td>\n",
       "      <td>0.000000</td>\n",
       "      <td>0.0</td>\n",
       "      <td>0.000000</td>\n",
       "      <td>0.000000</td>\n",
       "      <td>0.000000</td>\n",
       "      <td>0.500000</td>\n",
       "      <td>0.500000</td>\n",
       "      <td>0.000000</td>\n",
       "      <td>0.000000</td>\n",
       "      <td>0.000000</td>\n",
       "    </tr>\n",
       "    <tr>\n",
       "      <th>4</th>\n",
       "      <td>lost hello name adam struggling year afraid pa...</td>\n",
       "      <td>0.146226</td>\n",
       "      <td>0.103774</td>\n",
       "      <td>0.0</td>\n",
       "      <td>0.066038</td>\n",
       "      <td>0.037736</td>\n",
       "      <td>0.075472</td>\n",
       "      <td>0.198113</td>\n",
       "      <td>0.146226</td>\n",
       "      <td>0.061321</td>\n",
       "      <td>0.042453</td>\n",
       "      <td>0.122642</td>\n",
       "    </tr>\n",
       "  </tbody>\n",
       "</table>\n",
       "</div>"
      ],
      "text/plain": [
       "                     clean_lemmatized_processed_text      fear     anger  \\\n",
       "0  ex wife threatening suicide recently left wife...  0.125000  0.125000   \n",
       "1  weird not get affected compliment coming someo...  0.066667  0.000000   \n",
       "2  finally almost never hear bad year ever swear ...  0.100000  0.100000   \n",
       "3                            need help help cry hard  0.000000  0.000000   \n",
       "4  lost hello name adam struggling year afraid pa...  0.146226  0.103774   \n",
       "\n",
       "   anticip     trust  surprise  positive  negative   sadness   disgust  \\\n",
       "0      0.0  0.078125  0.078125  0.078125  0.171875  0.093750  0.062500   \n",
       "1      0.0  0.133333  0.133333  0.133333  0.133333  0.000000  0.066667   \n",
       "2      0.0  0.150000  0.050000  0.150000  0.100000  0.050000  0.100000   \n",
       "3      0.0  0.000000  0.000000  0.000000  0.500000  0.500000  0.000000   \n",
       "4      0.0  0.066038  0.037736  0.075472  0.198113  0.146226  0.061321   \n",
       "\n",
       "        joy  anticipation  \n",
       "0  0.078125      0.109375  \n",
       "1  0.133333      0.200000  \n",
       "2  0.100000      0.100000  \n",
       "3  0.000000      0.000000  \n",
       "4  0.042453      0.122642  "
      ]
     },
     "execution_count": 8,
     "metadata": {},
     "output_type": "execute_result"
    }
   ],
   "source": [
    "emotion_df.drop(columns = [\"text\",\"lemmatized_processed_text\",\"class\",\"stemmed_processed_text\",\"Unnamed: 0\"],axis=1,inplace=True)\n",
    "emotion_df.head()"
   ]
  },
  {
   "cell_type": "code",
   "execution_count": 9,
   "id": "c3d71071",
   "metadata": {},
   "outputs": [
    {
     "data": {
      "text/html": [
       "<div>\n",
       "<style scoped>\n",
       "    .dataframe tbody tr th:only-of-type {\n",
       "        vertical-align: middle;\n",
       "    }\n",
       "\n",
       "    .dataframe tbody tr th {\n",
       "        vertical-align: top;\n",
       "    }\n",
       "\n",
       "    .dataframe thead th {\n",
       "        text-align: right;\n",
       "    }\n",
       "</style>\n",
       "<table border=\"1\" class=\"dataframe\">\n",
       "  <thead>\n",
       "    <tr style=\"text-align: right;\">\n",
       "      <th></th>\n",
       "      <th>Unnamed: 0</th>\n",
       "      <th>text</th>\n",
       "      <th>class</th>\n",
       "      <th>stemmed_processed_text</th>\n",
       "      <th>lemmatized_processed_text</th>\n",
       "      <th>clean_lemmatized_processed_text</th>\n",
       "      <th>neg</th>\n",
       "      <th>neu</th>\n",
       "      <th>pos</th>\n",
       "      <th>compound</th>\n",
       "    </tr>\n",
       "  </thead>\n",
       "  <tbody>\n",
       "    <tr>\n",
       "      <th>0</th>\n",
       "      <td>0</td>\n",
       "      <td>ex wife threatening suicide recently i left my...</td>\n",
       "      <td>suicide</td>\n",
       "      <td>['ex', 'wife', 'threaten', 'suicid', 'recent',...</td>\n",
       "      <td>['ex', 'wife', 'threatening', 'suicide', 'rece...</td>\n",
       "      <td>ex wife threatening suicide recently left wife...</td>\n",
       "      <td>0.378</td>\n",
       "      <td>0.437</td>\n",
       "      <td>0.186</td>\n",
       "      <td>-0.9655</td>\n",
       "    </tr>\n",
       "    <tr>\n",
       "      <th>1</th>\n",
       "      <td>1</td>\n",
       "      <td>am i weird i do not get affected by compliment...</td>\n",
       "      <td>non-suicide</td>\n",
       "      <td>['weird', 'not', 'get', 'affect', 'compliment'...</td>\n",
       "      <td>['weird', 'not', 'get', 'affected', 'complimen...</td>\n",
       "      <td>weird not get affected compliment coming someo...</td>\n",
       "      <td>0.225</td>\n",
       "      <td>0.529</td>\n",
       "      <td>0.245</td>\n",
       "      <td>0.0984</td>\n",
       "    </tr>\n",
       "    <tr>\n",
       "      <th>2</th>\n",
       "      <td>2</td>\n",
       "      <td>finally is almost over so i can never hear has...</td>\n",
       "      <td>non-suicide</td>\n",
       "      <td>['final', 'almost', 'never', 'hear', 'bad', 'y...</td>\n",
       "      <td>['finally', 'almost', 'never', 'hear', 'bad', ...</td>\n",
       "      <td>finally almost never hear bad year ever swear ...</td>\n",
       "      <td>0.259</td>\n",
       "      <td>0.433</td>\n",
       "      <td>0.308</td>\n",
       "      <td>0.2025</td>\n",
       "    </tr>\n",
       "    <tr>\n",
       "      <th>3</th>\n",
       "      <td>3</td>\n",
       "      <td>i need help just help me i am crying so hard</td>\n",
       "      <td>suicide</td>\n",
       "      <td>['need', 'help', 'help', 'cri', 'hard']</td>\n",
       "      <td>['need', 'help', 'help', 'cry', 'hard']</td>\n",
       "      <td>need help help cry hard</td>\n",
       "      <td>0.413</td>\n",
       "      <td>0.092</td>\n",
       "      <td>0.495</td>\n",
       "      <td>0.2263</td>\n",
       "    </tr>\n",
       "    <tr>\n",
       "      <th>4</th>\n",
       "      <td>4</td>\n",
       "      <td>i m so lost hello my name is adam and i ve bee...</td>\n",
       "      <td>suicide</td>\n",
       "      <td>['lost', 'hello', 'name', 'adam', 'struggl', '...</td>\n",
       "      <td>['lost', 'hello', 'name', 'adam', 'struggling'...</td>\n",
       "      <td>lost hello name adam struggling year afraid pa...</td>\n",
       "      <td>0.368</td>\n",
       "      <td>0.505</td>\n",
       "      <td>0.127</td>\n",
       "      <td>-0.9965</td>\n",
       "    </tr>\n",
       "  </tbody>\n",
       "</table>\n",
       "</div>"
      ],
      "text/plain": [
       "   Unnamed: 0                                               text        class  \\\n",
       "0           0  ex wife threatening suicide recently i left my...      suicide   \n",
       "1           1  am i weird i do not get affected by compliment...  non-suicide   \n",
       "2           2  finally is almost over so i can never hear has...  non-suicide   \n",
       "3           3       i need help just help me i am crying so hard      suicide   \n",
       "4           4  i m so lost hello my name is adam and i ve bee...      suicide   \n",
       "\n",
       "                              stemmed_processed_text  \\\n",
       "0  ['ex', 'wife', 'threaten', 'suicid', 'recent',...   \n",
       "1  ['weird', 'not', 'get', 'affect', 'compliment'...   \n",
       "2  ['final', 'almost', 'never', 'hear', 'bad', 'y...   \n",
       "3            ['need', 'help', 'help', 'cri', 'hard']   \n",
       "4  ['lost', 'hello', 'name', 'adam', 'struggl', '...   \n",
       "\n",
       "                           lemmatized_processed_text  \\\n",
       "0  ['ex', 'wife', 'threatening', 'suicide', 'rece...   \n",
       "1  ['weird', 'not', 'get', 'affected', 'complimen...   \n",
       "2  ['finally', 'almost', 'never', 'hear', 'bad', ...   \n",
       "3            ['need', 'help', 'help', 'cry', 'hard']   \n",
       "4  ['lost', 'hello', 'name', 'adam', 'struggling'...   \n",
       "\n",
       "                     clean_lemmatized_processed_text    neg    neu    pos  \\\n",
       "0  ex wife threatening suicide recently left wife...  0.378  0.437  0.186   \n",
       "1  weird not get affected compliment coming someo...  0.225  0.529  0.245   \n",
       "2  finally almost never hear bad year ever swear ...  0.259  0.433  0.308   \n",
       "3                            need help help cry hard  0.413  0.092  0.495   \n",
       "4  lost hello name adam struggling year afraid pa...  0.368  0.505  0.127   \n",
       "\n",
       "   compound  \n",
       "0   -0.9655  \n",
       "1    0.0984  \n",
       "2    0.2025  \n",
       "3    0.2263  \n",
       "4   -0.9965  "
      ]
     },
     "execution_count": 9,
     "metadata": {},
     "output_type": "execute_result"
    }
   ],
   "source": [
    "emotion_df_2 = pd.read_csv(\"lexicon_approach2.csv\")\n",
    "emotion_df_2.head()\n"
   ]
  },
  {
   "cell_type": "code",
   "execution_count": 10,
   "id": "503eb016",
   "metadata": {},
   "outputs": [
    {
     "data": {
      "text/html": [
       "<div>\n",
       "<style scoped>\n",
       "    .dataframe tbody tr th:only-of-type {\n",
       "        vertical-align: middle;\n",
       "    }\n",
       "\n",
       "    .dataframe tbody tr th {\n",
       "        vertical-align: top;\n",
       "    }\n",
       "\n",
       "    .dataframe thead th {\n",
       "        text-align: right;\n",
       "    }\n",
       "</style>\n",
       "<table border=\"1\" class=\"dataframe\">\n",
       "  <thead>\n",
       "    <tr style=\"text-align: right;\">\n",
       "      <th></th>\n",
       "      <th>neg</th>\n",
       "      <th>neu</th>\n",
       "      <th>pos</th>\n",
       "      <th>compound</th>\n",
       "    </tr>\n",
       "  </thead>\n",
       "  <tbody>\n",
       "    <tr>\n",
       "      <th>0</th>\n",
       "      <td>0.378</td>\n",
       "      <td>0.437</td>\n",
       "      <td>0.186</td>\n",
       "      <td>-0.9655</td>\n",
       "    </tr>\n",
       "    <tr>\n",
       "      <th>1</th>\n",
       "      <td>0.225</td>\n",
       "      <td>0.529</td>\n",
       "      <td>0.245</td>\n",
       "      <td>0.0984</td>\n",
       "    </tr>\n",
       "    <tr>\n",
       "      <th>2</th>\n",
       "      <td>0.259</td>\n",
       "      <td>0.433</td>\n",
       "      <td>0.308</td>\n",
       "      <td>0.2025</td>\n",
       "    </tr>\n",
       "    <tr>\n",
       "      <th>3</th>\n",
       "      <td>0.413</td>\n",
       "      <td>0.092</td>\n",
       "      <td>0.495</td>\n",
       "      <td>0.2263</td>\n",
       "    </tr>\n",
       "    <tr>\n",
       "      <th>4</th>\n",
       "      <td>0.368</td>\n",
       "      <td>0.505</td>\n",
       "      <td>0.127</td>\n",
       "      <td>-0.9965</td>\n",
       "    </tr>\n",
       "  </tbody>\n",
       "</table>\n",
       "</div>"
      ],
      "text/plain": [
       "     neg    neu    pos  compound\n",
       "0  0.378  0.437  0.186   -0.9655\n",
       "1  0.225  0.529  0.245    0.0984\n",
       "2  0.259  0.433  0.308    0.2025\n",
       "3  0.413  0.092  0.495    0.2263\n",
       "4  0.368  0.505  0.127   -0.9965"
      ]
     },
     "execution_count": 10,
     "metadata": {},
     "output_type": "execute_result"
    }
   ],
   "source": [
    "emotion_df_2.drop(columns = [\"text\",\"lemmatized_processed_text\",\"class\",\"stemmed_processed_text\",\"Unnamed: 0\",\"clean_lemmatized_processed_text\"],axis=1,inplace=True)\n",
    "emotion_df_2.head()"
   ]
  },
  {
   "cell_type": "code",
   "execution_count": null,
   "id": "c287cf59",
   "metadata": {},
   "outputs": [],
   "source": []
  },
  {
   "cell_type": "code",
   "execution_count": 11,
   "id": "fe6a86aa",
   "metadata": {},
   "outputs": [],
   "source": [
    "combined_df = pd.concat([emotion_df, emotion_df_2,pos_df, ], axis=1)\n",
    "combined_df.dropna(inplace=True)"
   ]
  },
  {
   "cell_type": "code",
   "execution_count": 12,
   "id": "1b9e0798",
   "metadata": {},
   "outputs": [
    {
     "data": {
      "text/html": [
       "<div>\n",
       "<style scoped>\n",
       "    .dataframe tbody tr th:only-of-type {\n",
       "        vertical-align: middle;\n",
       "    }\n",
       "\n",
       "    .dataframe tbody tr th {\n",
       "        vertical-align: top;\n",
       "    }\n",
       "\n",
       "    .dataframe thead th {\n",
       "        text-align: right;\n",
       "    }\n",
       "</style>\n",
       "<table border=\"1\" class=\"dataframe\">\n",
       "  <thead>\n",
       "    <tr style=\"text-align: right;\">\n",
       "      <th></th>\n",
       "      <th>clean_lemmatized_processed_text</th>\n",
       "      <th>fear</th>\n",
       "      <th>anger</th>\n",
       "      <th>anticip</th>\n",
       "      <th>trust</th>\n",
       "      <th>surprise</th>\n",
       "      <th>positive</th>\n",
       "      <th>negative</th>\n",
       "      <th>sadness</th>\n",
       "      <th>disgust</th>\n",
       "      <th>joy</th>\n",
       "      <th>anticipation</th>\n",
       "      <th>neg</th>\n",
       "      <th>neu</th>\n",
       "      <th>pos</th>\n",
       "      <th>compound</th>\n",
       "      <th>class</th>\n",
       "      <th>tagged_tokens</th>\n",
       "    </tr>\n",
       "  </thead>\n",
       "  <tbody>\n",
       "    <tr>\n",
       "      <th>0</th>\n",
       "      <td>ex wife threatening suicide recently left wife...</td>\n",
       "      <td>0.125000</td>\n",
       "      <td>0.125000</td>\n",
       "      <td>0.0</td>\n",
       "      <td>0.078125</td>\n",
       "      <td>0.078125</td>\n",
       "      <td>0.078125</td>\n",
       "      <td>0.171875</td>\n",
       "      <td>0.093750</td>\n",
       "      <td>0.062500</td>\n",
       "      <td>0.078125</td>\n",
       "      <td>0.109375</td>\n",
       "      <td>0.378</td>\n",
       "      <td>0.437</td>\n",
       "      <td>0.186</td>\n",
       "      <td>-0.9655</td>\n",
       "      <td>suicide</td>\n",
       "      <td>ex_NN wife_NN threatening_VBG suicide_NN recen...</td>\n",
       "    </tr>\n",
       "    <tr>\n",
       "      <th>1</th>\n",
       "      <td>weird not get affected compliment coming someo...</td>\n",
       "      <td>0.066667</td>\n",
       "      <td>0.000000</td>\n",
       "      <td>0.0</td>\n",
       "      <td>0.133333</td>\n",
       "      <td>0.133333</td>\n",
       "      <td>0.133333</td>\n",
       "      <td>0.133333</td>\n",
       "      <td>0.000000</td>\n",
       "      <td>0.066667</td>\n",
       "      <td>0.133333</td>\n",
       "      <td>0.200000</td>\n",
       "      <td>0.225</td>\n",
       "      <td>0.529</td>\n",
       "      <td>0.245</td>\n",
       "      <td>0.0984</td>\n",
       "      <td>non-suicide</td>\n",
       "      <td>weird_JJ not_RB get_VB affected_VBN compliment...</td>\n",
       "    </tr>\n",
       "    <tr>\n",
       "      <th>2</th>\n",
       "      <td>finally almost never hear bad year ever swear ...</td>\n",
       "      <td>0.100000</td>\n",
       "      <td>0.100000</td>\n",
       "      <td>0.0</td>\n",
       "      <td>0.150000</td>\n",
       "      <td>0.050000</td>\n",
       "      <td>0.150000</td>\n",
       "      <td>0.100000</td>\n",
       "      <td>0.050000</td>\n",
       "      <td>0.100000</td>\n",
       "      <td>0.100000</td>\n",
       "      <td>0.100000</td>\n",
       "      <td>0.259</td>\n",
       "      <td>0.433</td>\n",
       "      <td>0.308</td>\n",
       "      <td>0.2025</td>\n",
       "      <td>non-suicide</td>\n",
       "      <td>finally_RB almost_RB never_RB hear_VB bad_JJ y...</td>\n",
       "    </tr>\n",
       "    <tr>\n",
       "      <th>3</th>\n",
       "      <td>need help help cry hard</td>\n",
       "      <td>0.000000</td>\n",
       "      <td>0.000000</td>\n",
       "      <td>0.0</td>\n",
       "      <td>0.000000</td>\n",
       "      <td>0.000000</td>\n",
       "      <td>0.000000</td>\n",
       "      <td>0.500000</td>\n",
       "      <td>0.500000</td>\n",
       "      <td>0.000000</td>\n",
       "      <td>0.000000</td>\n",
       "      <td>0.000000</td>\n",
       "      <td>0.413</td>\n",
       "      <td>0.092</td>\n",
       "      <td>0.495</td>\n",
       "      <td>0.2263</td>\n",
       "      <td>suicide</td>\n",
       "      <td>need_NN help_NN help_NN cry_NN hard_RB</td>\n",
       "    </tr>\n",
       "    <tr>\n",
       "      <th>4</th>\n",
       "      <td>lost hello name adam struggling year afraid pa...</td>\n",
       "      <td>0.146226</td>\n",
       "      <td>0.103774</td>\n",
       "      <td>0.0</td>\n",
       "      <td>0.066038</td>\n",
       "      <td>0.037736</td>\n",
       "      <td>0.075472</td>\n",
       "      <td>0.198113</td>\n",
       "      <td>0.146226</td>\n",
       "      <td>0.061321</td>\n",
       "      <td>0.042453</td>\n",
       "      <td>0.122642</td>\n",
       "      <td>0.368</td>\n",
       "      <td>0.505</td>\n",
       "      <td>0.127</td>\n",
       "      <td>-0.9965</td>\n",
       "      <td>suicide</td>\n",
       "      <td>lost_VBN hello_UH name_NN adam_NN struggling_V...</td>\n",
       "    </tr>\n",
       "  </tbody>\n",
       "</table>\n",
       "</div>"
      ],
      "text/plain": [
       "                     clean_lemmatized_processed_text      fear     anger  \\\n",
       "0  ex wife threatening suicide recently left wife...  0.125000  0.125000   \n",
       "1  weird not get affected compliment coming someo...  0.066667  0.000000   \n",
       "2  finally almost never hear bad year ever swear ...  0.100000  0.100000   \n",
       "3                            need help help cry hard  0.000000  0.000000   \n",
       "4  lost hello name adam struggling year afraid pa...  0.146226  0.103774   \n",
       "\n",
       "   anticip     trust  surprise  positive  negative   sadness   disgust  \\\n",
       "0      0.0  0.078125  0.078125  0.078125  0.171875  0.093750  0.062500   \n",
       "1      0.0  0.133333  0.133333  0.133333  0.133333  0.000000  0.066667   \n",
       "2      0.0  0.150000  0.050000  0.150000  0.100000  0.050000  0.100000   \n",
       "3      0.0  0.000000  0.000000  0.000000  0.500000  0.500000  0.000000   \n",
       "4      0.0  0.066038  0.037736  0.075472  0.198113  0.146226  0.061321   \n",
       "\n",
       "        joy  anticipation    neg    neu    pos  compound        class  \\\n",
       "0  0.078125      0.109375  0.378  0.437  0.186   -0.9655      suicide   \n",
       "1  0.133333      0.200000  0.225  0.529  0.245    0.0984  non-suicide   \n",
       "2  0.100000      0.100000  0.259  0.433  0.308    0.2025  non-suicide   \n",
       "3  0.000000      0.000000  0.413  0.092  0.495    0.2263      suicide   \n",
       "4  0.042453      0.122642  0.368  0.505  0.127   -0.9965      suicide   \n",
       "\n",
       "                                       tagged_tokens  \n",
       "0  ex_NN wife_NN threatening_VBG suicide_NN recen...  \n",
       "1  weird_JJ not_RB get_VB affected_VBN compliment...  \n",
       "2  finally_RB almost_RB never_RB hear_VB bad_JJ y...  \n",
       "3             need_NN help_NN help_NN cry_NN hard_RB  \n",
       "4  lost_VBN hello_UH name_NN adam_NN struggling_V...  "
      ]
     },
     "execution_count": 12,
     "metadata": {},
     "output_type": "execute_result"
    }
   ],
   "source": [
    "combined_df.head()"
   ]
  },
  {
   "cell_type": "code",
   "execution_count": 13,
   "id": "e64b46f5",
   "metadata": {},
   "outputs": [
    {
     "data": {
      "text/html": [
       "<div>\n",
       "<style scoped>\n",
       "    .dataframe tbody tr th:only-of-type {\n",
       "        vertical-align: middle;\n",
       "    }\n",
       "\n",
       "    .dataframe tbody tr th {\n",
       "        vertical-align: top;\n",
       "    }\n",
       "\n",
       "    .dataframe thead th {\n",
       "        text-align: right;\n",
       "    }\n",
       "</style>\n",
       "<table border=\"1\" class=\"dataframe\">\n",
       "  <thead>\n",
       "    <tr style=\"text-align: right;\">\n",
       "      <th></th>\n",
       "      <th>clean_lemmatized_processed_text</th>\n",
       "      <th>fear</th>\n",
       "      <th>anger</th>\n",
       "      <th>anticip</th>\n",
       "      <th>trust</th>\n",
       "      <th>surprise</th>\n",
       "      <th>positive</th>\n",
       "      <th>negative</th>\n",
       "      <th>sadness</th>\n",
       "      <th>disgust</th>\n",
       "      <th>joy</th>\n",
       "      <th>anticipation</th>\n",
       "      <th>neg</th>\n",
       "      <th>neu</th>\n",
       "      <th>pos</th>\n",
       "      <th>compound</th>\n",
       "      <th>class</th>\n",
       "      <th>tagged_tokens</th>\n",
       "      <th>norm_compound</th>\n",
       "    </tr>\n",
       "  </thead>\n",
       "  <tbody>\n",
       "    <tr>\n",
       "      <th>0</th>\n",
       "      <td>ex wife threatening suicide recently left wife...</td>\n",
       "      <td>0.125000</td>\n",
       "      <td>0.125000</td>\n",
       "      <td>0.0</td>\n",
       "      <td>0.078125</td>\n",
       "      <td>0.078125</td>\n",
       "      <td>0.078125</td>\n",
       "      <td>0.171875</td>\n",
       "      <td>0.093750</td>\n",
       "      <td>0.062500</td>\n",
       "      <td>0.078125</td>\n",
       "      <td>0.109375</td>\n",
       "      <td>0.378</td>\n",
       "      <td>0.437</td>\n",
       "      <td>0.186</td>\n",
       "      <td>-0.9655</td>\n",
       "      <td>suicide</td>\n",
       "      <td>ex_NN wife_NN threatening_VBG suicide_NN recen...</td>\n",
       "      <td>0.01725</td>\n",
       "    </tr>\n",
       "    <tr>\n",
       "      <th>1</th>\n",
       "      <td>weird not get affected compliment coming someo...</td>\n",
       "      <td>0.066667</td>\n",
       "      <td>0.000000</td>\n",
       "      <td>0.0</td>\n",
       "      <td>0.133333</td>\n",
       "      <td>0.133333</td>\n",
       "      <td>0.133333</td>\n",
       "      <td>0.133333</td>\n",
       "      <td>0.000000</td>\n",
       "      <td>0.066667</td>\n",
       "      <td>0.133333</td>\n",
       "      <td>0.200000</td>\n",
       "      <td>0.225</td>\n",
       "      <td>0.529</td>\n",
       "      <td>0.245</td>\n",
       "      <td>0.0984</td>\n",
       "      <td>non-suicide</td>\n",
       "      <td>weird_JJ not_RB get_VB affected_VBN compliment...</td>\n",
       "      <td>0.54920</td>\n",
       "    </tr>\n",
       "    <tr>\n",
       "      <th>2</th>\n",
       "      <td>finally almost never hear bad year ever swear ...</td>\n",
       "      <td>0.100000</td>\n",
       "      <td>0.100000</td>\n",
       "      <td>0.0</td>\n",
       "      <td>0.150000</td>\n",
       "      <td>0.050000</td>\n",
       "      <td>0.150000</td>\n",
       "      <td>0.100000</td>\n",
       "      <td>0.050000</td>\n",
       "      <td>0.100000</td>\n",
       "      <td>0.100000</td>\n",
       "      <td>0.100000</td>\n",
       "      <td>0.259</td>\n",
       "      <td>0.433</td>\n",
       "      <td>0.308</td>\n",
       "      <td>0.2025</td>\n",
       "      <td>non-suicide</td>\n",
       "      <td>finally_RB almost_RB never_RB hear_VB bad_JJ y...</td>\n",
       "      <td>0.60125</td>\n",
       "    </tr>\n",
       "    <tr>\n",
       "      <th>3</th>\n",
       "      <td>need help help cry hard</td>\n",
       "      <td>0.000000</td>\n",
       "      <td>0.000000</td>\n",
       "      <td>0.0</td>\n",
       "      <td>0.000000</td>\n",
       "      <td>0.000000</td>\n",
       "      <td>0.000000</td>\n",
       "      <td>0.500000</td>\n",
       "      <td>0.500000</td>\n",
       "      <td>0.000000</td>\n",
       "      <td>0.000000</td>\n",
       "      <td>0.000000</td>\n",
       "      <td>0.413</td>\n",
       "      <td>0.092</td>\n",
       "      <td>0.495</td>\n",
       "      <td>0.2263</td>\n",
       "      <td>suicide</td>\n",
       "      <td>need_NN help_NN help_NN cry_NN hard_RB</td>\n",
       "      <td>0.61315</td>\n",
       "    </tr>\n",
       "    <tr>\n",
       "      <th>4</th>\n",
       "      <td>lost hello name adam struggling year afraid pa...</td>\n",
       "      <td>0.146226</td>\n",
       "      <td>0.103774</td>\n",
       "      <td>0.0</td>\n",
       "      <td>0.066038</td>\n",
       "      <td>0.037736</td>\n",
       "      <td>0.075472</td>\n",
       "      <td>0.198113</td>\n",
       "      <td>0.146226</td>\n",
       "      <td>0.061321</td>\n",
       "      <td>0.042453</td>\n",
       "      <td>0.122642</td>\n",
       "      <td>0.368</td>\n",
       "      <td>0.505</td>\n",
       "      <td>0.127</td>\n",
       "      <td>-0.9965</td>\n",
       "      <td>suicide</td>\n",
       "      <td>lost_VBN hello_UH name_NN adam_NN struggling_V...</td>\n",
       "      <td>0.00175</td>\n",
       "    </tr>\n",
       "  </tbody>\n",
       "</table>\n",
       "</div>"
      ],
      "text/plain": [
       "                     clean_lemmatized_processed_text      fear     anger  \\\n",
       "0  ex wife threatening suicide recently left wife...  0.125000  0.125000   \n",
       "1  weird not get affected compliment coming someo...  0.066667  0.000000   \n",
       "2  finally almost never hear bad year ever swear ...  0.100000  0.100000   \n",
       "3                            need help help cry hard  0.000000  0.000000   \n",
       "4  lost hello name adam struggling year afraid pa...  0.146226  0.103774   \n",
       "\n",
       "   anticip     trust  surprise  positive  negative   sadness   disgust  \\\n",
       "0      0.0  0.078125  0.078125  0.078125  0.171875  0.093750  0.062500   \n",
       "1      0.0  0.133333  0.133333  0.133333  0.133333  0.000000  0.066667   \n",
       "2      0.0  0.150000  0.050000  0.150000  0.100000  0.050000  0.100000   \n",
       "3      0.0  0.000000  0.000000  0.000000  0.500000  0.500000  0.000000   \n",
       "4      0.0  0.066038  0.037736  0.075472  0.198113  0.146226  0.061321   \n",
       "\n",
       "        joy  anticipation    neg    neu    pos  compound        class  \\\n",
       "0  0.078125      0.109375  0.378  0.437  0.186   -0.9655      suicide   \n",
       "1  0.133333      0.200000  0.225  0.529  0.245    0.0984  non-suicide   \n",
       "2  0.100000      0.100000  0.259  0.433  0.308    0.2025  non-suicide   \n",
       "3  0.000000      0.000000  0.413  0.092  0.495    0.2263      suicide   \n",
       "4  0.042453      0.122642  0.368  0.505  0.127   -0.9965      suicide   \n",
       "\n",
       "                                       tagged_tokens  norm_compound  \n",
       "0  ex_NN wife_NN threatening_VBG suicide_NN recen...        0.01725  \n",
       "1  weird_JJ not_RB get_VB affected_VBN compliment...        0.54920  \n",
       "2  finally_RB almost_RB never_RB hear_VB bad_JJ y...        0.60125  \n",
       "3             need_NN help_NN help_NN cry_NN hard_RB        0.61315  \n",
       "4  lost_VBN hello_UH name_NN adam_NN struggling_V...        0.00175  "
      ]
     },
     "execution_count": 13,
     "metadata": {},
     "output_type": "execute_result"
    }
   ],
   "source": [
    "## Normalizing Data as naive bayes dont accept negative\n",
    "from sklearn.preprocessing import MinMaxScaler\n",
    "\n",
    "scaler = MinMaxScaler(feature_range=(0, 1))\n",
    "combined_df['norm_compound'] = scaler.fit_transform(combined_df[['compound']])\n",
    "combined_df.head()"
   ]
  },
  {
   "cell_type": "markdown",
   "id": "5f5852ad",
   "metadata": {},
   "source": [
    "## Vectorization"
   ]
  },
  {
   "cell_type": "markdown",
   "id": "47ed3429",
   "metadata": {},
   "source": [
    "### POS_TAG + Domain_Dictionary Vectorization"
   ]
  },
  {
   "cell_type": "code",
   "execution_count": 14,
   "id": "9bd91f79",
   "metadata": {},
   "outputs": [],
   "source": [
    "##reading the domain dict from the text file\n",
    "with open(\"domain_dict_postag_lem.txt\", \"r\") as file:\n",
    "    list_of_lem = [line.strip() for line in file]"
   ]
  },
  {
   "cell_type": "code",
   "execution_count": 15,
   "id": "d02fd5e1",
   "metadata": {},
   "outputs": [],
   "source": [
    "train_X_pos, test_X_pos, train_y_pos, test_y_pos = train_test_split(combined_df['tagged_tokens'],combined_df['class'],test_size=0.3, random_state = 42)"
   ]
  },
  {
   "cell_type": "code",
   "execution_count": 16,
   "id": "080a436c",
   "metadata": {
    "scrolled": false
   },
   "outputs": [
    {
     "data": {
      "text/plain": [
       "14499     teacher_NN partnered_VBN crush_NN science_NN c...\n",
       "32425     might_MD get_VB coronavirus_NN pretty_RB sure_...\n",
       "96329     feeling_NN closer_RBR closer_RBR edge_NN strug...\n",
       "173753    wish_NN end_NN dry_JJ cough_NN week_NN since_R...\n",
       "51707     everything_NN got_VBD plan_NN got_VBD goal_NN ...\n",
       "                                ...                        \n",
       "119934    case_NN forgot_VBD look_NN like_UH cutie_NN ng...\n",
       "103741    not_RB verge_NN pretty_RB well_UH hi_UH f_NN c...\n",
       "131989    wish_NN site_NN pro_JJ cut_NN like_UH one_CD d...\n",
       "146932    sm_NN ss_NNS mmm_NN aaa_NN mmm_NN mm_NN mmm_NN...\n",
       "122013    want_VB die_VB nearly_RB killed_VBN two_CD nig...\n",
       "Name: tagged_tokens, Length: 162385, dtype: object"
      ]
     },
     "execution_count": 16,
     "metadata": {},
     "output_type": "execute_result"
    }
   ],
   "source": [
    "train_X_pos"
   ]
  },
  {
   "cell_type": "code",
   "execution_count": 17,
   "id": "ebc6d5fd",
   "metadata": {},
   "outputs": [
    {
     "data": {
      "text/plain": [
       "162385"
      ]
     },
     "execution_count": 17,
     "metadata": {},
     "output_type": "execute_result"
    }
   ],
   "source": [
    "## get all words from the document with pos_tag\n",
    "\n",
    "tagged_tokens_list = []\n",
    "for index, value in train_X_pos.items():\n",
    "    tagged_tokens_list.append(value)\n",
    "len(tagged_tokens_list)"
   ]
  },
  {
   "cell_type": "code",
   "execution_count": 18,
   "id": "c58669b4",
   "metadata": {},
   "outputs": [
    {
     "data": {
      "text/plain": [
       "164661"
      ]
     },
     "execution_count": 18,
     "metadata": {},
     "output_type": "execute_result"
    }
   ],
   "source": [
    "# combining the document and dictionary\n",
    "tagged_tokens_list.extend(list_of_lem)\n",
    "len(tagged_tokens_list)"
   ]
  },
  {
   "cell_type": "code",
   "execution_count": 19,
   "id": "0595cf5a",
   "metadata": {},
   "outputs": [],
   "source": [
    "from sklearn.feature_extraction.text import TfidfVectorizer\n",
    "\n",
    "tf_idf_pos = TfidfVectorizer()\n",
    "tfidf_vector_pos = tf_idf_pos.fit(tagged_tokens_list)"
   ]
  },
  {
   "cell_type": "code",
   "execution_count": 20,
   "id": "86e0014a",
   "metadata": {},
   "outputs": [
    {
     "name": "stdout",
     "output_type": "stream",
     "text": [
      "n_samples: 162385, n_features: 44748\n"
     ]
    }
   ],
   "source": [
    "X_train_tf_pos = tfidf_vector_pos.transform(train_X_pos)\n",
    "#print dimension of data\n",
    "print(\"n_samples: %d, n_features: %d\" % X_train_tf_pos.shape)"
   ]
  },
  {
   "cell_type": "code",
   "execution_count": 21,
   "id": "5d19887d",
   "metadata": {},
   "outputs": [
    {
     "name": "stdout",
     "output_type": "stream",
     "text": [
      "n_samples: 69594, n_features: 44748\n"
     ]
    }
   ],
   "source": [
    "#transforming test data into tf-idf matrix\n",
    "X_test_tf_pos = tfidf_vector_pos.transform(test_X_pos)\n",
    "\n",
    "#print dimension of data\n",
    "print(\"n_samples: %d, n_features: %d\" % X_test_tf_pos.shape)"
   ]
  },
  {
   "cell_type": "code",
   "execution_count": null,
   "id": "14a7bffc",
   "metadata": {},
   "outputs": [],
   "source": []
  },
  {
   "cell_type": "markdown",
   "id": "ffa3a08d",
   "metadata": {},
   "source": [
    "### Sentiment Analysis Vectorization"
   ]
  },
  {
   "cell_type": "markdown",
   "id": "9f5eada0",
   "metadata": {},
   "source": [
    "#### NRCLex"
   ]
  },
  {
   "cell_type": "code",
   "execution_count": 22,
   "id": "1995679e",
   "metadata": {},
   "outputs": [
    {
     "data": {
      "text/plain": [
       "231979"
      ]
     },
     "execution_count": 22,
     "metadata": {},
     "output_type": "execute_result"
    }
   ],
   "source": [
    "## get all words from the document with pos_tag\n",
    "\n",
    "tagged_tokens_list_2 = []\n",
    "for index, value in combined_df[\"tagged_tokens\"].items():\n",
    "    tagged_tokens_list_2.append(value)\n",
    "len(tagged_tokens_list_2)"
   ]
  },
  {
   "cell_type": "code",
   "execution_count": 23,
   "id": "f75fe499",
   "metadata": {},
   "outputs": [
    {
     "data": {
      "text/plain": [
       "234255"
      ]
     },
     "execution_count": 23,
     "metadata": {},
     "output_type": "execute_result"
    }
   ],
   "source": [
    "tagged_tokens_list_2.extend(list_of_lem)\n",
    "len(tagged_tokens_list_2)"
   ]
  },
  {
   "cell_type": "code",
   "execution_count": 24,
   "id": "d9a841c5",
   "metadata": {},
   "outputs": [],
   "source": [
    "import scipy.sparse as sp\n",
    "extra_features_sparse = sp.csr_matrix(combined_df[[\"fear\", \"anger\", \"anticip\", \"trust\", \"surprise\", \"positive\", \"negative\", \"sadness\",\"disgust\", \"joy\", \"anticipation\"]].values)\n",
    "\n",
    "# Fit and transform the TF-IDF matrix\n",
    "tfidf_vectorizer_sa = TfidfVectorizer()\n",
    "tfidf_vector = tfidf_vectorizer_sa.fit(tagged_tokens_list_2)\n",
    "tfidf_sa = tfidf_vector.transform(combined_df[\"tagged_tokens\"])\n",
    "# Combine the two sparse matrices using hstack\n",
    "all_features_sa = sp.hstack([tfidf_sa, extra_features_sparse])"
   ]
  },
  {
   "cell_type": "code",
   "execution_count": 25,
   "id": "010945ce",
   "metadata": {},
   "outputs": [],
   "source": [
    "train_X_sa, test_X_sa, train_y_sa, test_y_sa = train_test_split(all_features_sa,combined_df['class'],test_size=0.3, random_state = 42)"
   ]
  },
  {
   "cell_type": "code",
   "execution_count": 26,
   "id": "3b0034b6",
   "metadata": {},
   "outputs": [
    {
     "name": "stdout",
     "output_type": "stream",
     "text": [
      "n_samples: 162385, n_features: 48357\n",
      "n_samples: 69594, n_features: 48357\n"
     ]
    }
   ],
   "source": [
    "print(\"n_samples: %d, n_features: %d\" % train_X_sa.shape)\n",
    "print(\"n_samples: %d, n_features: %d\" % test_X_sa.shape)"
   ]
  },
  {
   "cell_type": "markdown",
   "id": "e80f4eb3",
   "metadata": {},
   "source": [
    "## Naive Bayes"
   ]
  },
  {
   "cell_type": "markdown",
   "id": "f81196ef",
   "metadata": {},
   "source": [
    "### POS_TAG + Domain_Dictionary"
   ]
  },
  {
   "cell_type": "code",
   "execution_count": 27,
   "id": "77b21f60",
   "metadata": {},
   "outputs": [],
   "source": [
    "#Naive Bayes Classifier\n",
    "naive_bayes_classifier_pos = MultinomialNB()\n",
    "naive_bayes_classifier_pos.fit(X_train_tf_pos, train_y_pos)\n",
    "#predicted y\n",
    "y_pred_nb_pos = naive_bayes_classifier_pos.predict(X_test_tf_pos)"
   ]
  },
  {
   "cell_type": "code",
   "execution_count": 28,
   "id": "6b058420",
   "metadata": {},
   "outputs": [
    {
     "name": "stdout",
     "output_type": "stream",
     "text": [
      "              precision    recall  f1-score   support\n",
      "\n",
      " Non-Suicide     0.9475    0.8279    0.8836     34833\n",
      "     Suicide     0.8469    0.9540    0.8973     34761\n",
      "\n",
      "    accuracy                         0.8909     69594\n",
      "   macro avg     0.8972    0.8909    0.8904     69594\n",
      "weighted avg     0.8972    0.8909    0.8904     69594\n",
      "\n"
     ]
    }
   ],
   "source": [
    "print(metrics.classification_report(test_y_pos, y_pred_nb_pos, target_names=['Non-Suicide', 'Suicide'], digits=4))"
   ]
  },
  {
   "cell_type": "code",
   "execution_count": 29,
   "id": "715ad751",
   "metadata": {
    "scrolled": true
   },
   "outputs": [
    {
     "name": "stdout",
     "output_type": "stream",
     "text": [
      "Naive Bayes Accuracy Score ->  89.08670287668478\n"
     ]
    }
   ],
   "source": [
    "nb_accuracy_pos = accuracy_score(y_pred_nb_pos, test_y_pos)\n",
    "print(\"Naive Bayes Accuracy Score -> \", nb_accuracy_pos * 100)"
   ]
  },
  {
   "cell_type": "code",
   "execution_count": 30,
   "id": "f4bf81b4",
   "metadata": {},
   "outputs": [
    {
     "name": "stdout",
     "output_type": "stream",
     "text": [
      "Naive Bayes Confusion Matrix:\n",
      "[[28837  5996]\n",
      " [ 1599 33162]]\n"
     ]
    }
   ],
   "source": [
    "#Naive Bayes Confusion Matrix\n",
    "print(\"Naive Bayes Confusion Matrix:\")\n",
    "print(metrics.confusion_matrix(test_y_pos, y_pred_nb_pos))"
   ]
  },
  {
   "cell_type": "code",
   "execution_count": 31,
   "id": "1a46fe8e",
   "metadata": {},
   "outputs": [
    {
     "data": {
      "image/png": "[encoded data removed]",
      "text/plain": [
       "<Figure size 640x480 with 2 Axes>"
      ]
     },
     "metadata": {},
     "output_type": "display_data"
    }
   ],
   "source": [
    "nb_confusion_matrix_pos = metrics.confusion_matrix(test_y_pos, y_pred_nb_pos)\n",
    "\n",
    "nb_cm_display_pos = metrics.ConfusionMatrixDisplay(confusion_matrix = nb_confusion_matrix_pos, display_labels = [\"Non-Suicide\", \"Suicide\"])\n",
    "\n",
    "nb_cm_display_pos.plot()\n",
    "plt.show()"
   ]
  },
  {
   "cell_type": "code",
   "execution_count": 32,
   "id": "0052c677",
   "metadata": {},
   "outputs": [
    {
     "data": {
      "image/png": "[encoded data removed]",
      "text/plain": [
       "<Figure size 640x480 with 1 Axes>"
      ]
     },
     "metadata": {},
     "output_type": "display_data"
    }
   ],
   "source": [
    "sns.set(style=\"darkgrid\")\n",
    "ax = sns.countplot(x=test_y_pos)\n",
    "\n",
    "for p in ax.patches:\n",
    "    ax.annotate(format(p.get_height()), (p.get_x() + p.get_width() / 2., p.get_height()), ha = 'center', va = 'center', xytext = (0, 10), textcoords = 'offset points')\n",
    "\n",
    "plt.show()\n"
   ]
  },
  {
   "cell_type": "markdown",
   "id": "c143eb66",
   "metadata": {},
   "source": [
    "### Sentiment Analysis"
   ]
  },
  {
   "cell_type": "code",
   "execution_count": 33,
   "id": "86b2b035",
   "metadata": {},
   "outputs": [],
   "source": [
    "#Naive Bayes Classifier\n",
    "naive_bayes_classifier_sa = MultinomialNB()\n",
    "naive_bayes_classifier_sa.fit(train_X_sa, train_y_sa)\n",
    "#predicted y\n",
    "y_pred_nb_sa = naive_bayes_classifier_sa.predict(test_X_sa)"
   ]
  },
  {
   "cell_type": "code",
   "execution_count": 34,
   "id": "934fd55b",
   "metadata": {},
   "outputs": [
    {
     "name": "stdout",
     "output_type": "stream",
     "text": [
      "              precision    recall  f1-score   support\n",
      "\n",
      " Non-Suicide     0.9451    0.8421    0.8906     34833\n",
      "     Suicide     0.8574    0.9510    0.9017     34761\n",
      "\n",
      "    accuracy                         0.8965     69594\n",
      "   macro avg     0.9012    0.8965    0.8962     69594\n",
      "weighted avg     0.9013    0.8965    0.8962     69594\n",
      "\n"
     ]
    }
   ],
   "source": [
    "print(metrics.classification_report(test_y_sa, y_pred_nb_sa, target_names=['Non-Suicide', 'Suicide'], digits=4))"
   ]
  },
  {
   "cell_type": "code",
   "execution_count": 35,
   "id": "d88f57f3",
   "metadata": {},
   "outputs": [
    {
     "name": "stdout",
     "output_type": "stream",
     "text": [
      "Naive Bayes Accuracy Score ->  89.6470960140242\n"
     ]
    }
   ],
   "source": [
    "nb_accuracy_sa = accuracy_score(y_pred_nb_sa, test_y_sa)\n",
    "print(\"Naive Bayes Accuracy Score -> \", nb_accuracy_sa * 100)"
   ]
  },
  {
   "cell_type": "code",
   "execution_count": 36,
   "id": "e54f23bd",
   "metadata": {},
   "outputs": [
    {
     "name": "stdout",
     "output_type": "stream",
     "text": [
      "Naive Bayes Confusion Matrix:\n",
      "[[29333  5500]\n",
      " [ 1705 33056]]\n"
     ]
    }
   ],
   "source": [
    "#Naive Bayes Confusion Matrix\n",
    "print(\"Naive Bayes Confusion Matrix:\")\n",
    "print(metrics.confusion_matrix(test_y_sa, y_pred_nb_sa))"
   ]
  },
  {
   "cell_type": "code",
   "execution_count": 37,
   "id": "f7b9da2a",
   "metadata": {},
   "outputs": [
    {
     "data": {
      "image/png": "[encoded data removed]",
      "text/plain": [
       "<Figure size 640x480 with 2 Axes>"
      ]
     },
     "metadata": {},
     "output_type": "display_data"
    }
   ],
   "source": [
    "nb_confusion_matrix_sa = metrics.confusion_matrix(test_y_sa, y_pred_nb_sa)\n",
    "\n",
    "nb_cm_display_sa = metrics.ConfusionMatrixDisplay(confusion_matrix = nb_confusion_matrix_sa, display_labels = [\"Non-Suicide\", \"Suicide\"])\n",
    "\n",
    "nb_cm_display_sa.plot()\n",
    "plt.show()"
   ]
  },
  {
   "cell_type": "code",
   "execution_count": 38,
   "id": "4470f0ec",
   "metadata": {},
   "outputs": [
    {
     "name": "stdout",
     "output_type": "stream",
     "text": [
      "7205\n"
     ]
    }
   ],
   "source": [
    "# convert test_y and y_pred_logreg to numpy arrays\n",
    "test_y_sa = test_y_sa.to_numpy()\n",
    "y_pred_nb_sa = np.array(y_pred_nb_sa)\n",
    "\n",
    "# find misclassified samples\n",
    "nb_misclassified_indices = [i for i in range(len(test_y_sa)) if test_y_sa[i] != y_pred_nb_sa[i]]\n",
    "print(len(nb_misclassified_indices))\n",
    "\n",
    "# create a dataframe with test_X and their true and predicted labels\n",
    "df_test_nb = pd.DataFrame({'text': test_X_sa, 'true_label': test_y_sa, 'predicted_label': y_pred_nb_sa})\n",
    "\n",
    "nb_misclassified_df = df_test_nb.iloc[nb_misclassified_indices]\n",
    "\n",
    "nb_misclassified_df.head()\n",
    "\n",
    "# merge misclassified_df with data based on the index\n",
    "nb_misclassified_merged = pd.merge(nb_misclassified_df, data_text, left_index=True, right_index=True)\n",
    "\n",
    "# print the misclassified texts, true labels, and predicted labels\n",
    "nb_misclassified_merged_df = pd.DataFrame(nb_misclassified_merged[['text_y', 'true_label', 'predicted_label']])\n",
    "\n",
    "nb_misclassified_merged_df.to_csv(\"misclassified_naive_bayes_sa.csv\")"
   ]
  },
  {
   "cell_type": "markdown",
   "id": "2caf1d87",
   "metadata": {},
   "source": [
    "## Logistic Regression"
   ]
  },
  {
   "cell_type": "markdown",
   "id": "bd7885a0",
   "metadata": {},
   "source": [
    "### POS_TAG + Domain_Dictionary"
   ]
  },
  {
   "cell_type": "code",
   "execution_count": 39,
   "id": "3e0b457a",
   "metadata": {},
   "outputs": [],
   "source": [
    "# fit the training dataset on the Logistic Regression classifier\n",
    "logreg_pos = LogisticRegression(max_iter=200)\n",
    "logreg_pos.fit(X_train_tf_pos,train_y_pos)\n",
    "# predict the labels on validation dataset\n",
    "y_pred_logreg_pos = logreg_pos.predict(X_test_tf_pos)"
   ]
  },
  {
   "cell_type": "code",
   "execution_count": 40,
   "id": "79881593",
   "metadata": {},
   "outputs": [
    {
     "name": "stdout",
     "output_type": "stream",
     "text": [
      "              precision    recall  f1-score   support\n",
      "\n",
      " Non-Suicide     0.9274    0.9457    0.9365     34833\n",
      "     Suicide     0.9445    0.9259    0.9351     34761\n",
      "\n",
      "    accuracy                         0.9358     69594\n",
      "   macro avg     0.9360    0.9358    0.9358     69594\n",
      "weighted avg     0.9360    0.9358    0.9358     69594\n",
      "\n"
     ]
    }
   ],
   "source": [
    "print(metrics.classification_report(test_y_pos, y_pred_logreg_pos, target_names=['Non-Suicide', 'Suicide'], digits=4))"
   ]
  },
  {
   "cell_type": "code",
   "execution_count": 41,
   "id": "c5992fc4",
   "metadata": {},
   "outputs": [
    {
     "name": "stdout",
     "output_type": "stream",
     "text": [
      "Logistic Regression Accuracy Score ->  93.57846940828233\n"
     ]
    }
   ],
   "source": [
    "logreg_accuracy_pos = accuracy_score(y_pred_logreg_pos, test_y_pos)\n",
    "print(\"Logistic Regression Accuracy Score -> \", logreg_accuracy_pos * 100)"
   ]
  },
  {
   "cell_type": "code",
   "execution_count": 42,
   "id": "1b5bb9a0",
   "metadata": {},
   "outputs": [
    {
     "name": "stdout",
     "output_type": "stream",
     "text": [
      "Logistic Regression Confusion Matrix:\n",
      "[[32941  1892]\n",
      " [ 2577 32184]]\n"
     ]
    }
   ],
   "source": [
    "#Log Reg Confusion Matrix\n",
    "print(\"Logistic Regression Confusion Matrix:\")\n",
    "print(metrics.confusion_matrix(test_y_pos, y_pred_logreg_pos))"
   ]
  },
  {
   "cell_type": "code",
   "execution_count": 43,
   "id": "dcadb43c",
   "metadata": {
    "scrolled": true
   },
   "outputs": [
    {
     "data": {
      "image/png": "[encoded data removed]",
      "text/plain": [
       "<Figure size 640x480 with 2 Axes>"
      ]
     },
     "metadata": {},
     "output_type": "display_data"
    }
   ],
   "source": [
    "logreg_confusion_matrix_pos = metrics.confusion_matrix(test_y_pos, y_pred_logreg_pos)\n",
    "\n",
    "logreg_cm_display_pos = metrics.ConfusionMatrixDisplay(confusion_matrix = logreg_confusion_matrix_pos, display_labels = [\"Non-Suicide\", \"Suicide\"])\n",
    "\n",
    "logreg_cm_display_pos.plot()\n",
    "plt.show()"
   ]
  },
  {
   "cell_type": "code",
   "execution_count": 44,
   "id": "9db15200",
   "metadata": {},
   "outputs": [],
   "source": [
    "# #### Hyperparameter tuning\n",
    "\n",
    "# # Create a logistic regression object\n",
    "# lr = LogisticRegression(max_iter=10000)\n",
    "\n",
    "# # Define the parameter distributions to search over\n",
    "# param_distributions = {\n",
    "#     'penalty': ['l1', 'l2'],\n",
    "#     'C': loguniform(0.01, 100),\n",
    "#     'solver': ['liblinear', 'saga','newton-cg','lbfgs']\n",
    "# }\n",
    "\n",
    "# # Create a randomized search object\n",
    "# random_search_pos = RandomizedSearchCV(estimator=lr, param_distributions=param_distributions, n_iter=20, cv=5, scoring='accuracy')\n",
    "\n",
    "# # Fit the randomized search to the data\n",
    "# random_search_pos.fit(X_train_tf_pos, train_y_pos)\n",
    "\n",
    "# # Print the best hyperparameters and the best score\n",
    "# print(\"Best hyperparameters: \", random_search.best_params_)\n",
    "# print(\"Best score: \", random_search.best_score_)"
   ]
  },
  {
   "cell_type": "code",
   "execution_count": null,
   "id": "96f61b32",
   "metadata": {},
   "outputs": [],
   "source": []
  },
  {
   "cell_type": "markdown",
   "id": "08963129",
   "metadata": {},
   "source": [
    "### Sentiment Analysis"
   ]
  },
  {
   "cell_type": "code",
   "execution_count": 45,
   "id": "b71e6b96",
   "metadata": {},
   "outputs": [],
   "source": [
    "# fit the training dataset on the Logistic Regression classifier\n",
    "logreg_sa = LogisticRegression(max_iter=1000)\n",
    "logreg_sa.fit(train_X_sa,train_y_sa)\n",
    "# predict the labels on validation dataset\n",
    "y_pred_logreg_sa = logreg_sa.predict(test_X_sa)"
   ]
  },
  {
   "cell_type": "code",
   "execution_count": 46,
   "id": "113c83ae",
   "metadata": {},
   "outputs": [
    {
     "name": "stdout",
     "output_type": "stream",
     "text": [
      "              precision    recall  f1-score   support\n",
      "\n",
      " Non-Suicide     0.9277    0.9452    0.9363     34833\n",
      "     Suicide     0.9440    0.9262    0.9350     34761\n",
      "\n",
      "    accuracy                         0.9357     69594\n",
      "   macro avg     0.9358    0.9357    0.9357     69594\n",
      "weighted avg     0.9358    0.9357    0.9357     69594\n",
      "\n"
     ]
    }
   ],
   "source": [
    "print(metrics.classification_report(test_y_sa, y_pred_logreg_sa, target_names=['Non-Suicide', 'Suicide'], digits=4))"
   ]
  },
  {
   "cell_type": "code",
   "execution_count": 47,
   "id": "cc24eca6",
   "metadata": {},
   "outputs": [
    {
     "name": "stdout",
     "output_type": "stream",
     "text": [
      "Logistic Regression Accuracy Score ->  93.56841106991982\n"
     ]
    }
   ],
   "source": [
    "logreg_accuracy_sa = accuracy_score(y_pred_logreg_sa, test_y_sa)\n",
    "print(\"Logistic Regression Accuracy Score -> \", logreg_accuracy_sa * 100)"
   ]
  },
  {
   "cell_type": "code",
   "execution_count": 48,
   "id": "e44320a9",
   "metadata": {},
   "outputs": [
    {
     "name": "stdout",
     "output_type": "stream",
     "text": [
      "Logistic Regression Confusion Matrix:\n",
      "[[32923  1910]\n",
      " [ 2566 32195]]\n"
     ]
    }
   ],
   "source": [
    "#Log Reg Confusion Matrix\n",
    "print(\"Logistic Regression Confusion Matrix:\")\n",
    "print(metrics.confusion_matrix(test_y_sa, y_pred_logreg_sa))"
   ]
  },
  {
   "cell_type": "code",
   "execution_count": 49,
   "id": "b3485556",
   "metadata": {},
   "outputs": [
    {
     "data": {
      "image/png": "[encoded data removed]",
      "text/plain": [
       "<Figure size 640x480 with 2 Axes>"
      ]
     },
     "metadata": {},
     "output_type": "display_data"
    }
   ],
   "source": [
    "lr_confusion_matrix_sa = metrics.confusion_matrix(test_y_sa, y_pred_logreg_sa)\n",
    "\n",
    "lr_cm_display_sa = metrics.ConfusionMatrixDisplay(confusion_matrix = lr_confusion_matrix_sa, display_labels = [\"Non-Suicide\", \"Suicide\"])\n",
    "\n",
    "lr_cm_display_sa.plot()\n",
    "plt.show()"
   ]
  },
  {
   "cell_type": "code",
   "execution_count": 50,
   "id": "5b27305c",
   "metadata": {},
   "outputs": [
    {
     "name": "stdout",
     "output_type": "stream",
     "text": [
      "4476\n"
     ]
    }
   ],
   "source": [
    "# convert test_y and y_pred_logreg to numpy arrays\n",
    "y_pred_logreg_sa = np.array(y_pred_logreg_sa)\n",
    "\n",
    "# find misclassified samples\n",
    "logreg_misclassified_indices = [i for i in range(len(test_y_sa)) if test_y_sa[i] != y_pred_logreg_sa[i]]\n",
    "print(len(logreg_misclassified_indices))\n",
    "\n",
    "# create a dataframe with test_X and their true and predicted labels\n",
    "df_test_logreg = pd.DataFrame({'text': test_X_sa, 'true_label': test_y_sa, 'predicted_label': y_pred_logreg_sa})\n",
    "\n",
    "logreg_misclassified_df = df_test_logreg.iloc[logreg_misclassified_indices]\n",
    "\n",
    "logreg_misclassified_df.head()\n",
    "\n",
    "# merge misclassified_df with data based on the index\n",
    "logreg_misclassified_merged = pd.merge(logreg_misclassified_df, data_text, left_index=True, right_index=True)\n",
    "\n",
    "# print the misclassified texts, true labels, and predicted labels\n",
    "logreg_misclassified_merged_df = pd.DataFrame(logreg_misclassified_merged[['text_y', 'true_label', 'predicted_label']])\n",
    "\n",
    "logreg_misclassified_merged_df.to_csv(\"misclassified_logistic_regression_sa.csv\")"
   ]
  },
  {
   "cell_type": "code",
   "execution_count": 51,
   "id": "b21b83a2",
   "metadata": {},
   "outputs": [],
   "source": [
    "# #### Hyperparameter tuning\n",
    "\n",
    "\n",
    "# # Create a logistic regression object\n",
    "# lr = LogisticRegression(max_iter=10000)\n",
    "\n",
    "# # Define the parameter distributions to search over\n",
    "# param_distributions = {\n",
    "#     'penalty': ['l1', 'l2'],\n",
    "#     'C': loguniform(0.01, 100),\n",
    "#     'solver': ['liblinear', 'saga','newton-cg','lbfgs']\n",
    "# }\n",
    "\n",
    "# # Create a randomized search object\n",
    "# random_search_sa = RandomizedSearchCV(estimator=lr, param_distributions=param_distributions, n_iter=20, cv=5, scoring='accuracy')\n",
    "\n",
    "# # Fit the randomized search to the data\n",
    "# random_search_sa.fit(train_X_sa, train_y_sa)\n",
    "\n",
    "# # Print the best hyperparameters and the best score\n",
    "# print(\"Best hyperparameters: \", random_search.best_params_)\n",
    "# print(\"Best score: \", random_search.best_score_)"
   ]
  },
  {
   "cell_type": "markdown",
   "id": "102c3085",
   "metadata": {},
   "source": [
    "## SVM"
   ]
  },
  {
   "cell_type": "markdown",
   "id": "c27953b4",
   "metadata": {},
   "source": [
    "### POS_TAG + Domain_Dictionary"
   ]
  },
  {
   "cell_type": "code",
   "execution_count": 52,
   "id": "c21efbfd",
   "metadata": {},
   "outputs": [],
   "source": [
    "# fit the training dataset on the SVM classifier\n",
    "linearSVC_pos = LinearSVC()\n",
    "linearSVC_pos.fit(X_train_tf_pos,train_y_pos)\n",
    "# predict the labels on validation dataset\n",
    "y_pred_SVC_pos = linearSVC_pos.predict(X_test_tf_pos)\n"
   ]
  },
  {
   "cell_type": "code",
   "execution_count": 53,
   "id": "1e8d3952",
   "metadata": {},
   "outputs": [
    {
     "name": "stdout",
     "output_type": "stream",
     "text": [
      "              precision    recall  f1-score   support\n",
      "\n",
      " Non-Suicide     0.9287    0.9432    0.9359     34833\n",
      "     Suicide     0.9422    0.9274    0.9347     34761\n",
      "\n",
      "    accuracy                         0.9353     69594\n",
      "   macro avg     0.9354    0.9353    0.9353     69594\n",
      "weighted avg     0.9354    0.9353    0.9353     69594\n",
      "\n"
     ]
    }
   ],
   "source": [
    "print(metrics.classification_report(test_y_pos, y_pred_SVC_pos, target_names=['Non-Suicide', 'Suicide'], digits=4))"
   ]
  },
  {
   "cell_type": "code",
   "execution_count": 54,
   "id": "e30722d3",
   "metadata": {},
   "outputs": [
    {
     "name": "stdout",
     "output_type": "stream",
     "text": [
      "SVM Accuracy Score ->  93.52961462195016\n"
     ]
    }
   ],
   "source": [
    "svc_accuracy_pos = accuracy_score(y_pred_SVC_pos, test_y_pos)\n",
    "print(\"SVM Accuracy Score -> \",svc_accuracy_pos*100)"
   ]
  },
  {
   "cell_type": "code",
   "execution_count": 55,
   "id": "2826e918",
   "metadata": {},
   "outputs": [
    {
     "name": "stdout",
     "output_type": "stream",
     "text": [
      "SVM Confusion Matrix:\n",
      "[[32854  1979]\n",
      " [ 2524 32237]]\n"
     ]
    }
   ],
   "source": [
    "#SVM Confusion Matrix\n",
    "print(\"SVM Confusion Matrix:\")\n",
    "print(metrics.confusion_matrix(test_y_pos, y_pred_SVC_pos))"
   ]
  },
  {
   "cell_type": "code",
   "execution_count": 56,
   "id": "eaaa687d",
   "metadata": {
    "scrolled": true
   },
   "outputs": [
    {
     "data": {
      "image/png": "[encoded data removed]",
      "text/plain": [
       "<Figure size 640x480 with 2 Axes>"
      ]
     },
     "metadata": {},
     "output_type": "display_data"
    }
   ],
   "source": [
    "svc_confusion_matrix_pos = metrics.confusion_matrix(test_y_pos, y_pred_SVC_pos)\n",
    "\n",
    "svc_cm_display_pos = metrics.ConfusionMatrixDisplay(confusion_matrix = svc_confusion_matrix_pos, display_labels = [\"Non-Suicide\", \"Suicide\"])\n",
    "\n",
    "svc_cm_display_pos.plot()\n",
    "plt.show()"
   ]
  },
  {
   "cell_type": "code",
   "execution_count": null,
   "id": "eba53be0",
   "metadata": {},
   "outputs": [],
   "source": []
  },
  {
   "cell_type": "markdown",
   "id": "2acafbdb",
   "metadata": {},
   "source": [
    "### Sentiment Analysis"
   ]
  },
  {
   "cell_type": "code",
   "execution_count": 57,
   "id": "242e91df",
   "metadata": {},
   "outputs": [],
   "source": [
    "# fit the training dataset on the SVM classifier\n",
    "linearSVC_sa = LinearSVC()\n",
    "linearSVC_sa.fit(train_X_sa,train_y_sa)\n",
    "# predict the labels on validation dataset\n",
    "y_pred_SVC_sa = linearSVC_sa.predict(test_X_sa)\n"
   ]
  },
  {
   "cell_type": "code",
   "execution_count": 58,
   "id": "1764d8f6",
   "metadata": {},
   "outputs": [
    {
     "name": "stdout",
     "output_type": "stream",
     "text": [
      "              precision    recall  f1-score   support\n",
      "\n",
      " Non-Suicide     0.9286    0.9429    0.9357     34833\n",
      "     Suicide     0.9419    0.9274    0.9346     34761\n",
      "\n",
      "    accuracy                         0.9351     69594\n",
      "   macro avg     0.9352    0.9351    0.9351     69594\n",
      "weighted avg     0.9352    0.9351    0.9351     69594\n",
      "\n"
     ]
    }
   ],
   "source": [
    "print(metrics.classification_report(test_y_sa, y_pred_SVC_sa, target_names=['Non-Suicide', 'Suicide'], digits=4))"
   ]
  },
  {
   "cell_type": "code",
   "execution_count": 59,
   "id": "c4733e37",
   "metadata": {},
   "outputs": [
    {
     "name": "stdout",
     "output_type": "stream",
     "text": [
      "SVM Accuracy Score ->  93.51237175618587\n"
     ]
    }
   ],
   "source": [
    "svc_accuracy_sa = accuracy_score(y_pred_SVC_sa, test_y_sa)\n",
    "print(\"SVM Accuracy Score -> \",svc_accuracy_sa*100)"
   ]
  },
  {
   "cell_type": "code",
   "execution_count": 60,
   "id": "fdfaf1d5",
   "metadata": {},
   "outputs": [
    {
     "name": "stdout",
     "output_type": "stream",
     "text": [
      "SVM Confusion Matrix:\n",
      "[[32843  1990]\n",
      " [ 2525 32236]]\n"
     ]
    }
   ],
   "source": [
    "#SVM Confusion Matrix\n",
    "print(\"SVM Confusion Matrix:\")\n",
    "print(metrics.confusion_matrix(test_y_sa, y_pred_SVC_sa))"
   ]
  },
  {
   "cell_type": "code",
   "execution_count": 61,
   "id": "1f696601",
   "metadata": {},
   "outputs": [
    {
     "data": {
      "image/png": "[encoded data removed]",
      "text/plain": [
       "<Figure size 640x480 with 2 Axes>"
      ]
     },
     "metadata": {},
     "output_type": "display_data"
    }
   ],
   "source": [
    "svc_confusion_matrix_sa = metrics.confusion_matrix(test_y_sa, y_pred_SVC_sa)\n",
    "\n",
    "svc_cm_display_sa = metrics.ConfusionMatrixDisplay(confusion_matrix = svc_confusion_matrix_sa, display_labels = [\"Non-Suicide\", \"Suicide\"])\n",
    "\n",
    "svc_cm_display_sa.plot()\n",
    "plt.show()"
   ]
  },
  {
   "cell_type": "code",
   "execution_count": 62,
   "id": "d4debab1",
   "metadata": {},
   "outputs": [
    {
     "name": "stdout",
     "output_type": "stream",
     "text": [
      "4515\n"
     ]
    }
   ],
   "source": [
    "# convert test_y and y_pred_logreg to numpy arrays\n",
    "y_pred_SVC_sa = np.array(y_pred_SVC_sa)\n",
    "\n",
    "# find misclassified samples\n",
    "svc_misclassified_indices = [i for i in range(len(test_y_sa)) if test_y_sa[i] != y_pred_SVC_sa[i]]\n",
    "print(len(svc_misclassified_indices))\n",
    "\n",
    "# create a dataframe with test_X and their true and predicted labels\n",
    "df_test_SVC = pd.DataFrame({'text': test_X_sa, 'true_label': test_y_sa, 'predicted_label': y_pred_SVC_sa})\n",
    "\n",
    "SVC_misclassified_df = df_test_SVC.iloc[svc_misclassified_indices]\n",
    "\n",
    "SVC_misclassified_df.head()\n",
    "\n",
    "# merge misclassified_df with data based on the index\n",
    "SVC_misclassified_merged = pd.merge(SVC_misclassified_df, data_text, left_index=True, right_index=True)\n",
    "\n",
    "# print the misclassified texts, true labels, and predicted labels\n",
    "SVC_misclassified_merged_df = pd.DataFrame(SVC_misclassified_merged[['text_y', 'true_label', 'predicted_label']])\n",
    "\n",
    "SVC_misclassified_merged_df.to_csv(\"misclassified_SVM_sa.csv\")"
   ]
  },
  {
   "cell_type": "code",
   "execution_count": 63,
   "id": "a7a75775",
   "metadata": {},
   "outputs": [],
   "source": [
    "### saving models\n",
    "import pickle\n",
    "pickle.dump(naive_bayes_classifier_pos, open(\"models/naive_bayes_classifier_pos.sav\", 'wb'))\n",
    "pickle.dump(logreg_pos, open(\"models/logreg_pos.sav\", 'wb'))\n",
    "pickle.dump(linearSVC_pos, open(\"models/linearSVC_pos.sav\", 'wb'))\n",
    "pickle.dump(naive_bayes_classifier_sa, open(\"models/naive_bayes_classifier_sa.sav\", 'wb'))\n",
    "pickle.dump(logreg_sa, open(\"models/logreg_sa.sav\", 'wb'))\n",
    "pickle.dump(linearSVC_sa, open(\"models/linearSVC_sa.sav\", 'wb'))\n"
   ]
  },
  {
   "cell_type": "code",
   "execution_count": 64,
   "id": "4c02cf1d",
   "metadata": {},
   "outputs": [],
   "source": [
    "#### saving vectorizer\n",
    "with open('models/tf_idf_pos.pkl', 'wb') as f:\n",
    "    pickle.dump(tf_idf_pos, f)\n",
    "with open('models/tfidf_vectorizer_sa.pkl', 'wb') as f:\n",
    "    pickle.dump(tfidf_vectorizer_sa, f)"
   ]
  },
  {
   "cell_type": "markdown",
   "id": "e9c73e43",
   "metadata": {},
   "source": [
    "### Test Sample Prediction"
   ]
  },
  {
   "cell_type": "code",
   "execution_count": 65,
   "id": "7838c25d",
   "metadata": {},
   "outputs": [],
   "source": [
    "#load all models\n",
    "import pickle\n",
    "naive_bayes_classifier_pos = pickle.load(open(\"models/naive_bayes_classifier_pos.sav\", 'rb'))\n",
    "logreg_pos =  pickle.load(open(\"models/logreg_pos.sav\", 'rb'))\n",
    "linearSVC_pos =  pickle.load(open(\"models/linearSVC_pos.sav\", 'rb'))\n",
    "naive_bayes_classifier_sa = pickle.load(open(\"models/naive_bayes_classifier_sa.sav\", 'rb'))\n",
    "logreg_sa =  pickle.load(open(\"models/logreg_sa.sav\", 'rb'))\n",
    "linearSVC_sa =  pickle.load(open(\"models/linearSVC_sa.sav\", 'rb'))"
   ]
  },
  {
   "cell_type": "code",
   "execution_count": 66,
   "id": "057a376b",
   "metadata": {},
   "outputs": [],
   "source": [
    "#load all vectorizer\n",
    "with open('models/tf_idf_pos.pkl', 'rb') as f:\n",
    "    tf_idf_pos = pickle.load(f)\n",
    "    \n",
    "with open('models/tfidf_vectorizer_sa.pkl', 'rb') as f:\n",
    "    tfidf_vectorizer_sa = pickle.load(f)"
   ]
  },
  {
   "cell_type": "code",
   "execution_count": 67,
   "id": "294d13a1",
   "metadata": {},
   "outputs": [],
   "source": [
    "#sample prediction\n",
    "test = ['i want to die. cannot live any longer. help']"
   ]
  },
  {
   "cell_type": "code",
   "execution_count": 68,
   "id": "c13f1a2b",
   "metadata": {},
   "outputs": [],
   "source": [
    "### loading stanford core nlp pos tagger\n",
    "import os\n",
    "os.environ['JAVAHOME'] = 'C:/Program Files/Java/jdk-17.0.1/bin'\n",
    "os.environ['STANFORD_PARSER'] = 'C:/stanford-corenlp-4.5.3'\n",
    "os.environ['STANFORD_MODELS'] = 'C:/stanford-corenlp-4.5.3'\n",
    "\n",
    "from nltk.parse import CoreNLPParser\n",
    "\n",
    "pos_tagger = CoreNLPParser(url='http://localhost:9000', tagtype='pos')"
   ]
  },
  {
   "cell_type": "code",
   "execution_count": 69,
   "id": "5157599f",
   "metadata": {},
   "outputs": [
    {
     "name": "stdout",
     "output_type": "stream",
     "text": [
      "['want', 'die', 'cannot', 'live', 'longer', 'help']\n"
     ]
    }
   ],
   "source": [
    "#preprocess\n",
    "review = re.sub(\"(\\\\t|\\\\n)\", \" \", test[0])\n",
    "review = re.sub(\"[^a-zA-Z']\", \" \", review)\n",
    "review = re.sub(\"(?:_|[^a-z0-9_:])[;:=]+[\\)\\(\\-\\[\\]\\/|DPO]\", \"\", review)\n",
    "review = re.sub(\"[0-9]+\", \"\", review)\n",
    "review = review.strip()\n",
    "# expanding the contractions\n",
    "review = ' '.join([contractions.fix(x) for x in review.split(\" \")])\n",
    "# split joint words\n",
    "review = ' '.join(wordninja.split(review))\n",
    "#stop words removal\n",
    "stop_list = stopwords.words('english')\n",
    "stop_list.remove('not')\n",
    "lemmatizer = WordNetLemmatizer()\n",
    "review = review.split()\n",
    "review = [lemmatizer.lemmatize(word) for word in review if not word in stop_list]\n",
    "print(review)"
   ]
  },
  {
   "cell_type": "code",
   "execution_count": 70,
   "id": "be6feebf",
   "metadata": {},
   "outputs": [
    {
     "name": "stdout",
     "output_type": "stream",
     "text": [
      "['want_VB', 'die_VB', 'cannot_MD', 'live_RB', 'longer_RB', 'help_NN']\n"
     ]
    }
   ],
   "source": [
    "def add_pos_tags(sentences):\n",
    "    tagged_sentences = []\n",
    "    for sentence in sentences:\n",
    "        #get POS tags for each word\n",
    "        pos_tag = pos_tagger.tag([sentence])[0][1]\n",
    "        #join word and pos tag\n",
    "        tagged_token = f\"{sentence}_{pos_tag}\"\n",
    "        #join tagged words into sentence\n",
    "        tagged_sentence = \"\".join(tagged_token)\n",
    "        # Add tagged sentence to list\n",
    "        tagged_sentences.append(tagged_sentence)\n",
    "    return tagged_sentences     \n",
    "\n",
    "test_tagged = add_pos_tags(review)\n",
    "print(test_tagged)"
   ]
  },
  {
   "cell_type": "code",
   "execution_count": 71,
   "id": "76c8bfac",
   "metadata": {},
   "outputs": [
    {
     "data": {
      "text/plain": [
       "['want_VB die_VB cannot_MD live_RB longer_RB help_NN']"
      ]
     },
     "execution_count": 71,
     "metadata": {},
     "output_type": "execute_result"
    }
   ],
   "source": [
    "test_processed =[ ' '.join(test_tagged)]\n",
    "test_processed"
   ]
  },
  {
   "cell_type": "markdown",
   "id": "70f5fbc2",
   "metadata": {},
   "source": [
    "### POS Tag + Domain Dictionary"
   ]
  },
  {
   "cell_type": "code",
   "execution_count": 72,
   "id": "e7cea873",
   "metadata": {},
   "outputs": [
    {
     "data": {
      "text/plain": [
       "(1, 44748)"
      ]
     },
     "execution_count": 72,
     "metadata": {},
     "output_type": "execute_result"
    }
   ],
   "source": [
    "test_input_pos = tf_idf_pos.transform(test_processed)\n",
    "test_input_pos.shape"
   ]
  },
  {
   "cell_type": "code",
   "execution_count": 73,
   "id": "231bb057",
   "metadata": {
    "scrolled": true
   },
   "outputs": [
    {
     "data": {
      "text/plain": [
       "'suicide'"
      ]
     },
     "execution_count": 73,
     "metadata": {},
     "output_type": "execute_result"
    }
   ],
   "source": [
    "#sklearn Naive Bayes\n",
    "nb_result_pos = naive_bayes_classifier_pos.predict(test_input_pos)[0]\n",
    "nb_result_pos"
   ]
  },
  {
   "cell_type": "code",
   "execution_count": 74,
   "id": "b251d4e6",
   "metadata": {},
   "outputs": [
    {
     "data": {
      "text/plain": [
       "'suicide'"
      ]
     },
     "execution_count": 74,
     "metadata": {},
     "output_type": "execute_result"
    }
   ],
   "source": [
    "#LogReg\n",
    "logreg_result_pos = logreg_pos.predict(test_input_pos)[0]\n",
    "logreg_result_pos"
   ]
  },
  {
   "cell_type": "code",
   "execution_count": 75,
   "id": "9da514a0",
   "metadata": {},
   "outputs": [
    {
     "data": {
      "text/plain": [
       "'suicide'"
      ]
     },
     "execution_count": 75,
     "metadata": {},
     "output_type": "execute_result"
    }
   ],
   "source": [
    "#SVM\n",
    "SVC_result_pos = linearSVC_pos.predict(test_input_pos)[0]\n",
    "SVC_result_pos"
   ]
  },
  {
   "cell_type": "markdown",
   "id": "79597804",
   "metadata": {},
   "source": [
    "### Sentiment Analysis"
   ]
  },
  {
   "cell_type": "code",
   "execution_count": 76,
   "id": "8a107c95",
   "metadata": {},
   "outputs": [
    {
     "data": {
      "text/html": [
       "<div>\n",
       "<style scoped>\n",
       "    .dataframe tbody tr th:only-of-type {\n",
       "        vertical-align: middle;\n",
       "    }\n",
       "\n",
       "    .dataframe tbody tr th {\n",
       "        vertical-align: top;\n",
       "    }\n",
       "\n",
       "    .dataframe thead th {\n",
       "        text-align: right;\n",
       "    }\n",
       "</style>\n",
       "<table border=\"1\" class=\"dataframe\">\n",
       "  <thead>\n",
       "    <tr style=\"text-align: right;\">\n",
       "      <th></th>\n",
       "      <th>fear</th>\n",
       "      <th>anger</th>\n",
       "      <th>anticipation</th>\n",
       "      <th>trust</th>\n",
       "      <th>surprise</th>\n",
       "      <th>positive</th>\n",
       "      <th>negative</th>\n",
       "      <th>sadness</th>\n",
       "      <th>disgust</th>\n",
       "      <th>joy</th>\n",
       "      <th>anticip</th>\n",
       "    </tr>\n",
       "  </thead>\n",
       "  <tbody>\n",
       "    <tr>\n",
       "      <th>0</th>\n",
       "      <td>0.333333</td>\n",
       "      <td>0.0</td>\n",
       "      <td>0.0</td>\n",
       "      <td>0.0</td>\n",
       "      <td>0.0</td>\n",
       "      <td>0.0</td>\n",
       "      <td>0.333333</td>\n",
       "      <td>0.333333</td>\n",
       "      <td>0.0</td>\n",
       "      <td>0.0</td>\n",
       "      <td>0.0</td>\n",
       "    </tr>\n",
       "  </tbody>\n",
       "</table>\n",
       "</div>"
      ],
      "text/plain": [
       "       fear  anger  anticipation  trust  surprise  positive  negative  \\\n",
       "0  0.333333    0.0           0.0    0.0       0.0       0.0  0.333333   \n",
       "\n",
       "    sadness  disgust  joy  anticip  \n",
       "0  0.333333      0.0  0.0      0.0  "
      ]
     },
     "execution_count": 76,
     "metadata": {},
     "output_type": "execute_result"
    }
   ],
   "source": [
    "from nrclex import NRCLex\n",
    "sentence = ' '.join(review)\n",
    "emotion = NRCLex(sentence).affect_frequencies\n",
    "df = pd.DataFrame(emotion, index=[0])\n",
    "df = df.rename(columns={'anticip': 'anticipation'})\n",
    "df['anticip'] = 0.0\n",
    "df "
   ]
  },
  {
   "cell_type": "code",
   "execution_count": 77,
   "id": "4bef0a20",
   "metadata": {},
   "outputs": [
    {
     "data": {
      "text/plain": [
       "(1, 48346)"
      ]
     },
     "execution_count": 77,
     "metadata": {},
     "output_type": "execute_result"
    }
   ],
   "source": [
    "sa_vec = tfidf_vectorizer_sa.transform(test_processed)\n",
    "sa_vec.shape"
   ]
  },
  {
   "cell_type": "code",
   "execution_count": 78,
   "id": "5327b82f",
   "metadata": {},
   "outputs": [],
   "source": [
    "import scipy.sparse as sp\n",
    "extra_features_sparse = sp.csr_matrix( df[[\"fear\", \"anger\", \"anticip\", \"trust\", \"surprise\", \"positive\", \"negative\", \"sadness\",\"disgust\", \"joy\", \"anticipation\"]].values)\n",
    "test_input_sa = sp.hstack([sa_vec, extra_features_sparse])"
   ]
  },
  {
   "cell_type": "code",
   "execution_count": 79,
   "id": "172ac49f",
   "metadata": {
    "scrolled": true
   },
   "outputs": [
    {
     "data": {
      "text/plain": [
       "'suicide'"
      ]
     },
     "execution_count": 79,
     "metadata": {},
     "output_type": "execute_result"
    }
   ],
   "source": [
    "#sklearn Naive Bayes\n",
    "nb_result_sa = naive_bayes_classifier_sa.predict(test_input_sa)[0]\n",
    "nb_result_sa"
   ]
  },
  {
   "cell_type": "code",
   "execution_count": 80,
   "id": "3c9ce864",
   "metadata": {},
   "outputs": [
    {
     "data": {
      "text/plain": [
       "'suicide'"
      ]
     },
     "execution_count": 80,
     "metadata": {},
     "output_type": "execute_result"
    }
   ],
   "source": [
    "#LogReg\n",
    "logreg_result_sa = logreg_sa.predict(test_input_sa)[0]\n",
    "logreg_result_sa"
   ]
  },
  {
   "cell_type": "code",
   "execution_count": 81,
   "id": "aaecaf91",
   "metadata": {},
   "outputs": [
    {
     "data": {
      "text/plain": [
       "'suicide'"
      ]
     },
     "execution_count": 81,
     "metadata": {},
     "output_type": "execute_result"
    }
   ],
   "source": [
    "#SVM\n",
    "SVC_result_sa = linearSVC_sa.predict(test_input_sa)[0]\n",
    "SVC_result_sa"
   ]
  },
  {
   "cell_type": "code",
   "execution_count": null,
   "id": "6268b73b",
   "metadata": {},
   "outputs": [],
   "source": []
  }
 ],
 "metadata": {
  "kernelspec": {
   "display_name": "Python 3 (ipykernel)",
   "language": "python",
   "name": "python3"
  },
  "language_info": {
   "codemirror_mode": {
    "name": "ipython",
    "version": 3
   },
   "file_extension": ".py",
   "mimetype": "text/x-python",
   "name": "python",
   "nbconvert_exporter": "python",
   "pygments_lexer": "ipython3",
   "version": "3.10.9"
  }
 },
 "nbformat": 4,
 "nbformat_minor": 5
}
