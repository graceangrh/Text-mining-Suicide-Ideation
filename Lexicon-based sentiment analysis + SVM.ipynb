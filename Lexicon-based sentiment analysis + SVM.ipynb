{
 "cells": [
  {
   "cell_type": "markdown",
   "metadata": {},
   "source": [
    "### Lexicon based sentiment analysis"
   ]
  },
  {
   "cell_type": "code",
   "execution_count": 1,
   "metadata": {},
   "outputs": [],
   "source": [
    "# pip install NRCLex"
   ]
  },
  {
   "cell_type": "code",
   "execution_count": 2,
   "metadata": {},
   "outputs": [],
   "source": [
    "# Import required modules\n",
    "from nrclex import NRCLex\n",
    "import pandas as pd\n",
    "import re\n",
    "import matplotlib.pyplot as plt"
   ]
  },
  {
   "cell_type": "code",
   "execution_count": 3,
   "metadata": {},
   "outputs": [
    {
     "data": {
      "text/html": [
       "<div>\n",
       "<style scoped>\n",
       "    .dataframe tbody tr th:only-of-type {\n",
       "        vertical-align: middle;\n",
       "    }\n",
       "\n",
       "    .dataframe tbody tr th {\n",
       "        vertical-align: top;\n",
       "    }\n",
       "\n",
       "    .dataframe thead th {\n",
       "        text-align: right;\n",
       "    }\n",
       "</style>\n",
       "<table border=\"1\" class=\"dataframe\">\n",
       "  <thead>\n",
       "    <tr style=\"text-align: right;\">\n",
       "      <th></th>\n",
       "      <th>text</th>\n",
       "      <th>class</th>\n",
       "      <th>stemmed_processed_text</th>\n",
       "      <th>lemmatized_processed_text</th>\n",
       "    </tr>\n",
       "  </thead>\n",
       "  <tbody>\n",
       "    <tr>\n",
       "      <th>0</th>\n",
       "      <td>ex wife threatening suiciderecently i left my ...</td>\n",
       "      <td>suicide</td>\n",
       "      <td>['ex', 'wife', 'threaten', 'suiciderec', 'left...</td>\n",
       "      <td>['ex', 'wife', 'threatening', 'suiciderecently...</td>\n",
       "    </tr>\n",
       "    <tr>\n",
       "      <th>1</th>\n",
       "      <td>am i weird i do not get affected by compliment...</td>\n",
       "      <td>non-suicide</td>\n",
       "      <td>['weird', 'get', 'affect', 'compliment', 'come...</td>\n",
       "      <td>['weird', 'get', 'affected', 'compliment', 'co...</td>\n",
       "    </tr>\n",
       "    <tr>\n",
       "      <th>2</th>\n",
       "      <td>finally      is almost over    so i can never ...</td>\n",
       "      <td>non-suicide</td>\n",
       "      <td>['final', 'almost', 'never', 'hear', 'bad', 'y...</td>\n",
       "      <td>['finally', 'almost', 'never', 'hear', 'bad', ...</td>\n",
       "    </tr>\n",
       "    <tr>\n",
       "      <th>3</th>\n",
       "      <td>i need helpjust help me i am crying so hard</td>\n",
       "      <td>suicide</td>\n",
       "      <td>['need', 'helpjust', 'help', 'cri', 'hard']</td>\n",
       "      <td>['need', 'helpjust', 'help', 'cry', 'hard']</td>\n",
       "    </tr>\n",
       "    <tr>\n",
       "      <th>4</th>\n",
       "      <td>i m so losthello  my name is adam      and i v...</td>\n",
       "      <td>suicide</td>\n",
       "      <td>['losthello', 'name', 'adam', 'struggl', 'year...</td>\n",
       "      <td>['losthello', 'name', 'adam', 'struggling', 'y...</td>\n",
       "    </tr>\n",
       "  </tbody>\n",
       "</table>\n",
       "</div>"
      ],
      "text/plain": [
       "                                                text        class  \\\n",
       "0  ex wife threatening suiciderecently i left my ...      suicide   \n",
       "1  am i weird i do not get affected by compliment...  non-suicide   \n",
       "2  finally      is almost over    so i can never ...  non-suicide   \n",
       "3        i need helpjust help me i am crying so hard      suicide   \n",
       "4  i m so losthello  my name is adam      and i v...      suicide   \n",
       "\n",
       "                              stemmed_processed_text  \\\n",
       "0  ['ex', 'wife', 'threaten', 'suiciderec', 'left...   \n",
       "1  ['weird', 'get', 'affect', 'compliment', 'come...   \n",
       "2  ['final', 'almost', 'never', 'hear', 'bad', 'y...   \n",
       "3        ['need', 'helpjust', 'help', 'cri', 'hard']   \n",
       "4  ['losthello', 'name', 'adam', 'struggl', 'year...   \n",
       "\n",
       "                           lemmatized_processed_text  \n",
       "0  ['ex', 'wife', 'threatening', 'suiciderecently...  \n",
       "1  ['weird', 'get', 'affected', 'compliment', 'co...  \n",
       "2  ['finally', 'almost', 'never', 'hear', 'bad', ...  \n",
       "3        ['need', 'helpjust', 'help', 'cry', 'hard']  \n",
       "4  ['losthello', 'name', 'adam', 'struggling', 'y...  "
      ]
     },
     "execution_count": 3,
     "metadata": {},
     "output_type": "execute_result"
    }
   ],
   "source": [
    "# load preprocessed data\n",
    "df = pd.read_csv('preprocessed_data.csv')\n",
    "df.head(5)"
   ]
  },
  {
   "cell_type": "code",
   "execution_count": 4,
   "metadata": {},
   "outputs": [
    {
     "name": "stdout",
     "output_type": "stream",
     "text": [
      "ex wife threatening suiciderecently left wife good cheated twice lied much decided refuse go back day ago began threatening suicide tirelessly spent paat day talking keep hesitating want believe come back know lot people threaten order get way happens really supposed handle death hand still love wife deal getting cheated constantly feeling insecure worried today may day hope much happen\n"
     ]
    }
   ],
   "source": [
    "# join the words\n",
    "txtlist = []\n",
    "\n",
    "for i in range(len(df)):\n",
    "    cleaned_text = re.sub(r\"[\\[\\],']\", \"\", df['lemmatized_processed_text'][i])\n",
    "    txtlist.append(cleaned_text)\n",
    "\n",
    "# append the clean values to dataframe\n",
    "df['clean_lemmatized_processed_text'] = txtlist\n",
    "print(txtlist[0])\n",
    "str_list = ','.join(txtlist)"
   ]
  },
  {
   "cell_type": "code",
   "execution_count": 5,
   "metadata": {},
   "outputs": [],
   "source": [
    "# Create text object using NRCLex\n",
    "text_object = NRCLex(str_list)"
   ]
  },
  {
   "cell_type": "code",
   "execution_count": 6,
   "metadata": {},
   "outputs": [
    {
     "data": {
      "text/plain": [
       "{'anger': 685046,\n",
       " 'disgust': 524206,\n",
       " 'fear': 873236,\n",
       " 'negative': 1457028,\n",
       " 'anticipation': 804865,\n",
       " 'joy': 667545,\n",
       " 'positive': 1293726,\n",
       " 'surprise': 343091,\n",
       " 'trust': 865375,\n",
       " 'sadness': 952413}"
      ]
     },
     "execution_count": 6,
     "metadata": {},
     "output_type": "execute_result"
    }
   ],
   "source": [
    "data = text_object.raw_emotion_scores\n",
    "data"
   ]
  },
  {
   "cell_type": "code",
   "execution_count": 7,
   "metadata": {},
   "outputs": [
    {
     "data": {
      "image/png": "[encoded data removed]",
      "text/plain": [
       "<Figure size 576x288 with 1 Axes>"
      ]
     },
     "metadata": {
      "needs_background": "light"
     },
     "output_type": "display_data"
    }
   ],
   "source": [
    "emotion_df = pd.DataFrame.from_dict(data, orient='index')\n",
    "emotion_df = emotion_df.reset_index()\n",
    "emotion_df = emotion_df.rename(columns={'index' : 'Emotion Classification' , 0: 'Emotion Count'})\n",
    "emotion_df = emotion_df.sort_values(by=['Emotion Count'], ascending=False)\n",
    "fig, ax = plt.subplots(figsize=(8, 4))\n",
    "colors = ['purple', 'green', 'red', 'orange', 'blue']\n",
    "for i, (emotion, count) in enumerate(zip(emotion_df['Emotion Classification'], emotion_df['Emotion Count'])):\n",
    "    ax.barh(emotion, count, color=colors[i % len(colors)])\n",
    "\n",
    "# set plot parameters\n",
    "ax.set_title('Emotion Classification Counts')\n",
    "ax.set_xlabel('Count')\n",
    "ax.set_ylabel('Emotion Classification')\n",
    "\n",
    "# display plot\n",
    "plt.show()"
   ]
  },
  {
   "cell_type": "code",
   "execution_count": 8,
   "metadata": {},
   "outputs": [
    {
     "data": {
      "text/plain": [
       "{'anger': 564562,\n",
       " 'disgust': 419728,\n",
       " 'fear': 737964,\n",
       " 'negative': 1201747,\n",
       " 'anticipation': 634369,\n",
       " 'joy': 502007,\n",
       " 'positive': 978255,\n",
       " 'surprise': 258690,\n",
       " 'trust': 650103,\n",
       " 'sadness': 820438}"
      ]
     },
     "execution_count": 8,
     "metadata": {},
     "output_type": "execute_result"
    }
   ],
   "source": [
    "# get for text classed as suicide\n",
    "suicidelist = []\n",
    "suicide_df = df[df['class']=='suicide']['lemmatized_processed_text'].reset_index(drop=True)\n",
    "for i in range(len(suicide_df)):\n",
    "    cleaned_text = re.sub(r\"[\\[\\],']\", \"\", suicide_df[i])\n",
    "    suicidelist.append(cleaned_text)\n",
    "\n",
    "str_list = ','.join(suicidelist)\n",
    "\n",
    "# Create text object using NRCLex\n",
    "text_object = NRCLex(str_list)\n",
    "suicidedata = text_object.raw_emotion_scores\n",
    "suicidedata"
   ]
  },
  {
   "cell_type": "code",
   "execution_count": 9,
   "metadata": {},
   "outputs": [
    {
     "data": {
      "image/png": "[encoded data removed]",
      "text/plain": [
       "<Figure size 576x288 with 1 Axes>"
      ]
     },
     "metadata": {
      "needs_background": "light"
     },
     "output_type": "display_data"
    }
   ],
   "source": [
    "emotion_df = pd.DataFrame.from_dict(suicidedata, orient='index')\n",
    "emotion_df = emotion_df.reset_index()\n",
    "emotion_df = emotion_df.rename(columns={'index' : 'Emotion Classification' , 0: 'Emotion Count'})\n",
    "emotion_df = emotion_df.sort_values(by=['Emotion Count'], ascending=False)\n",
    "fig, ax = plt.subplots(figsize=(8, 4))\n",
    "colors = ['purple', 'green', 'red', 'orange', 'blue']\n",
    "for i, (emotion, count) in enumerate(zip(emotion_df['Emotion Classification'], emotion_df['Emotion Count'])):\n",
    "    ax.barh(emotion, count, color=colors[i % len(colors)])\n",
    "\n",
    "# set plot parameters\n",
    "ax.set_title('Emotion Classification Counts')\n",
    "ax.set_xlabel('Count')\n",
    "ax.set_ylabel('Emotion Classification')\n",
    "\n",
    "# display plot\n",
    "plt.show()"
   ]
  },
  {
   "cell_type": "code",
   "execution_count": 10,
   "metadata": {},
   "outputs": [
    {
     "data": {
      "text/plain": [
       "{'disgust': 104478,\n",
       " 'negative': 255281,\n",
       " 'anticipation': 170496,\n",
       " 'joy': 165538,\n",
       " 'positive': 315471,\n",
       " 'surprise': 84401,\n",
       " 'trust': 215272,\n",
       " 'fear': 135272,\n",
       " 'anger': 120484,\n",
       " 'sadness': 131975}"
      ]
     },
     "execution_count": 10,
     "metadata": {},
     "output_type": "execute_result"
    }
   ],
   "source": [
    "# get for text classed as non-suicide\n",
    "nonsuicidelist = []\n",
    "nonsuicide_df = df[df['class']=='non-suicide']['lemmatized_processed_text'].reset_index(drop=True)\n",
    "for i in range(len(nonsuicide_df)):\n",
    "    cleaned_text = re.sub(r\"[\\[\\],']\", \"\", nonsuicide_df[i])\n",
    "    nonsuicidelist.append(cleaned_text)\n",
    "\n",
    "str_list = ','.join(nonsuicidelist)\n",
    "\n",
    "# Create text object using NRCLex\n",
    "text_object = NRCLex(str_list)\n",
    "nonsuicidedata = text_object.raw_emotion_scores\n",
    "nonsuicidedata"
   ]
  },
  {
   "cell_type": "code",
   "execution_count": 11,
   "metadata": {},
   "outputs": [
    {
     "data": {
      "image/png": "[encoded data removed]",
      "text/plain": [
       "<Figure size 576x288 with 1 Axes>"
      ]
     },
     "metadata": {
      "needs_background": "light"
     },
     "output_type": "display_data"
    }
   ],
   "source": [
    "emotion_df = pd.DataFrame.from_dict(nonsuicidedata, orient='index')\n",
    "emotion_df = emotion_df.reset_index()\n",
    "emotion_df = emotion_df.rename(columns={'index' : 'Emotion Classification' , 0: 'Emotion Count'})\n",
    "emotion_df = emotion_df.sort_values(by=['Emotion Count'], ascending=False)\n",
    "fig, ax = plt.subplots(figsize=(8, 4))\n",
    "colors = ['purple', 'green', 'red', 'orange', 'blue']\n",
    "for i, (emotion, count) in enumerate(zip(emotion_df['Emotion Classification'], emotion_df['Emotion Count'])):\n",
    "    ax.barh(emotion, count, color=colors[i % len(colors)])\n",
    "\n",
    "# set plot parameters\n",
    "ax.set_title('Emotion Classification Counts')\n",
    "ax.set_xlabel('Count')\n",
    "ax.set_ylabel('Emotion Classification')\n",
    "\n",
    "# display plot\n",
    "plt.show()"
   ]
  },
  {
   "cell_type": "markdown",
   "metadata": {},
   "source": [
    "### Support Vector Machine (without FE)"
   ]
  },
  {
   "cell_type": "code",
   "execution_count": 12,
   "metadata": {},
   "outputs": [],
   "source": [
    "# import relevant libraries\n",
    "# Data processing\n",
    "import pandas as pd\n",
    "import numpy as np\n",
    "# Encoding the data\n",
    "from sklearn.preprocessing import LabelEncoder\n",
    "from sklearn.feature_extraction.text import TfidfVectorizer\n",
    "# Modeling \n",
    "from sklearn.model_selection import train_test_split\n",
    "from sklearn import svm \n",
    "# Hyperparameter tuning\n",
    "# from sklearn.model_selection import StratifiedKFold, GridSearchCV, RandomizedSearchCV, cross_val_score\n",
    "# from hyperopt import tpe, STATUS_OK, Trials, hp, fmin, STATUS_OK, space_eval\n",
    "# Evaluation\n",
    "from sklearn.metrics import confusion_matrix, accuracy_score\n",
    "from matplotlib.colors import ListedColormap"
   ]
  },
  {
   "cell_type": "code",
   "execution_count": 13,
   "metadata": {},
   "outputs": [],
   "source": [
    "# Split the X and Y Dataset into the Training set and Test set\n",
    "X = df['clean_lemmatized_processed_text'].values\n",
    "y = df['class'].values\n",
    "X_train, X_test, y_train, y_test = train_test_split(X, y, test_size = 0.25, random_state = 0)"
   ]
  },
  {
   "cell_type": "code",
   "execution_count": 14,
   "metadata": {},
   "outputs": [],
   "source": [
    "# Encoding variables for SVM to understand\n",
    "Encoder = LabelEncoder()\n",
    "y_train = Encoder.fit_transform(y_train)\n",
    "y_test = Encoder.fit_transform(y_test)"
   ]
  },
  {
   "cell_type": "code",
   "execution_count": 15,
   "metadata": {},
   "outputs": [
    {
     "name": "stdout",
     "output_type": "stream",
     "text": [
      "{'wife': 477, 'left': 246, 'good': 185, 'twice': 452, 'much': 297, 'go': 181, 'back': 30, 'day': 90, 'ago': 9, 'began': 38, 'suicide': 419, 'talking': 428, 'keep': 231, 'want': 464, 'believe': 39, 'come': 71, 'know': 237, 'lot': 265, 'people': 326, 'get': 175, 'way': 468, 'happens': 200, 'really': 357, 'death': 94, 'still': 410, 'love': 266, 'deal': 92, 'getting': 176, 'feeling': 147, 'today': 441, 'may': 279, 'hope': 214, 'happen': 197, 'weird': 472, 'coming': 72, 'someone': 396, 'feel': 146, 'finally': 151, 'almost': 12, 'never': 301, 'hear': 206, 'bad': 31, 'year': 496, 'ever': 129, 'fucking': 166, 'need': 299, 'help': 208, 'cry': 82, 'hard': 202, 'afraid': 7, 'past': 324, 'thought': 437, 'fear': 145, 'anxiety': 19, 'close': 69, 'long': 259, 'scared': 369, 'family': 141, 'everyday': 131, 'lost': 264, 'thing': 433, 'done': 107, 'life': 250, 'like': 251, 'little': 255, 'time': 438, 'broke': 49, 'cut': 83, 'watching': 467, 'something': 397, 'made': 269, 'absolutely': 2, 'later': 242, 'found': 159, 'attempt': 28, 'pill': 328, 'happened': 198, 'went': 474, 'first': 153, 'therapy': 432, 'depression': 100, 'social': 394, 'reason': 358, 'eventually': 128, 'last': 240, 'session': 383, 'mom': 290, 'dad': 85, 'find': 152, 'putting': 347, 'seen': 378, 'helped': 209, 'put': 346, 'anti': 18, 'sorry': 400, 'right': 363, 'type': 454, 'wanted': 465, 'took': 446, 'week': 471, 'taking': 425, 'worse': 488, 'worry': 487, 'caused': 60, 'even': 126, 'everything': 133, 'going': 182, 'cutting': 84, 'bed': 37, 'ask': 26, 'nearly': 298, 'every': 130, 'night': 305, 'please': 334, 'anyone': 21, 'might': 287, 'anymore': 20, 'nothing': 309, 'either': 117, 'sad': 366, 'friend': 162, 'girlfriend': 178, 'hurt': 220, 'everyone': 132, 'talk': 426, 'anything': 22, 'alone': 13, 'dream': 108, 'care': 56, 'would': 491, 'end': 119, 'brave': 48, 'enough': 122, 'make': 271, 'away': 29, 'used': 457, 'normal': 308, 'understand': 456, 'got': 187, 'die': 103, 'probably': 343, 'posting': 339, 'ill': 224, 'think': 434, 'place': 329, 'gun': 193, 'head': 204, 'see': 373, 'instead': 227, 'future': 169, 'could': 77, 'excuse': 135, 'self': 379, 'father': 143, 'together': 442, 'worst': 489, 'always': 16, 'thinking': 435, 'one': 315, 'work': 484, 'car': 55, 'without': 480, 'moment': 291, 'say': 368, 'kind': 235, 'deep': 96, 'working': 485, 'maybe': 280, 'fix': 154, 'able': 0, 'tonight': 445, 'quit': 350, 'conscious': 76, 'stand': 402, 'play': 332, 'honestly': 213, 'stuck': 415, 'seeing': 374, 'others': 318, 'another': 17, 'kid': 232, 'many': 273, 'look': 261, 'hate': 203, 'old': 314, 'matter': 278, 'room': 365, 'stop': 411, 'try': 450, 'pain': 319, 'bit': 42, 'relationship': 360, 'passed': 322, 'dark': 86, 'mental': 284, 'yet': 498, 'brother': 50, 'dead': 91, 'point': 335, 'alive': 10, 'guy': 194, 'wait': 460, 'ending': 120, 'imagine': 225, 'health': 205, 'issue': 229, 'new': 302, 'world': 486, 'shit': 385, 'take': 423, 'already': 14, 'happy': 201, 'though': 436, 'asked': 27, 'obviously': 311, 'least': 244, 'desire': 101, 'nice': 304, 'fuck': 164, 'watch': 466, 'seems': 377, 'young': 499, 'sure': 422, 'tell': 429, 'actually': 5, 'wish': 478, 'yesterday': 497, 'money': 292, 'become': 35, 'happening': 199, 'longer': 260, 'girl': 177, 'well': 473, 'school': 370, 'edit': 116, 'lived': 257, 'story': 412, 'fucked': 165, 'tomorrow': 444, 'started': 407, 'knife': 236, 'give': 179, 'free': 161, 'fun': 168, 'sister': 392, 'goodbye': 186, 'living': 258, 'tired': 440, 'single': 391, 'taken': 424, 'inside': 226, 'darkness': 87, 'read': 353, 'house': 217, 'best': 40, 'etc': 125, 'stay': 408, 'home': 212, 'fall': 140, 'void': 459, 'forward': 158, 'whatsoever': 475, 'felt': 148, 'accepted': 3, 'maren': 274, 'sound': 401, 'sleep': 393, 'worth': 490, 'okay': 313, 'loved': 267, 'completely': 75, 'told': 443, 'else': 118, 'cared': 57, 'talked': 427, 'apart': 24, 'problem': 344, 'starr': 405, 'whenever': 476, 'better': 41, 'star': 403, 'none': 307, 'realise': 356, 'blame': 43, 'said': 367, 'around': 25, 'four': 160, 'month': 293, 'thanks': 430, 'stress': 413, 'looking': 262, 'becoming': 36, 'far': 142, 'share': 384, 'lie': 249, 'leave': 245, 'detail': 102, 'person': 327, 'seemed': 376, 'genuinely': 174, 'tried': 448, 'start': 406, 'high': 211, 'sometimes': 398, 'case': 59, 'morning': 295, 'lose': 263, 'also': 15, 'two': 453, 'eat': 115, 'staring': 404, 'trying': 451, 'gone': 184, 'wrong': 494, 'luck': 268, 'idea': 222, 'online': 316, 'absolute': 1, 'sent': 381, 'message': 285, 'wonderful': 482, 'remember': 361, 'changed': 64, 'especially': 124, 'fact': 138, 'actual': 4, 'friendship': 163, 'fighting': 149, 'hang': 196, 'game': 170, 'fault': 144, 'stem': 409, 'growing': 190, 'badly': 32, 'bother': 46, 'depressed': 99, 'hoping': 215, 'plan': 330, 'writing': 493, 'entire': 123, 'notice': 310, 'earth': 113, 'han': 195, 'live': 256, 'great': 189, 'ring': 364, 'given': 180, 'men': 283, 'power': 340, 'within': 479, 'master': 276, 'middle': 286, 'isildur': 228, 'chance': 62, 'heart': 207, 'became': 34, 'came': 54, 'gollum': 183, 'gave': 171, 'mind': 288, 'soon': 399, 'sock': 395, 'prevent': 342, 'woman': 481, 'wearing': 469, 'body': 44, 'usually': 458, 'killing': 234, 'post': 338, 'literally': 254, 'series': 382, 'hour': 216, 'pretty': 341, 'miserable': 289, 'certain': 61, 'call': 53, 'dying': 112, 'chest': 66, 'follow': 155, 'letting': 248, 'listen': 253, 'man': 272, 'drunk': 111, 'easy': 114, 'next': 303, 'coward': 80, 'since': 390, 'moved': 296, 'job': 230, 'food': 156, 'part': 321, 'pay': 325, 'crush': 81, 'experience': 136, 'ugly': 455, 'real': 355, 'college': 70, 'career': 58, 'planning': 331, 'kill': 233, 'eye': 137, 'guess': 191, 'hurting': 221, 'medication': 282, 'second': 372, 'hey': 210, 'change': 63, 'quite': 351, 'truly': 449, 'died': 104, 'suicidal': 418, 'seem': 375, 'business': 51, 'figure': 150, 'decision': 95, 'book': 45, 'guilt': 192, 'math': 277, 'class': 68, 'struggle': 414, 'nobody': 306, 'mask': 275, 'sibling': 389, 'council': 78, 'wondering': 483, 'le': 243, 'supportive': 421, 'dealing': 93, 'degree': 98, 'event': 127, 'force': 157, 'comment': 73, 'mood': 294, 'therapist': 431, 'fake': 139, 'full': 167, 'buy': 52, 'opinion': 317, 'drink': 109, 'age': 8, 'drinking': 110, 'reaction': 352, 'shopping': 387, 'basically': 33, 'direction': 106, 'sense': 380, 'super': 420, 'advice': 6, 'generally': 173, 'parent': 320, 'walking': 463, 'city': 67, 'quarantine': 348, 'date': 88, 'stuff': 417, 'exam': 134, 'ok': 312, 'website': 470, 'tip': 439, 'different': 105, 'ready': 354, 'lack': 238, 'queer': 349, 'major': 270, 'resource': 362, 'student': 416, 'medical': 281, 'definitely': 97, 'psychologist': 345, 'committing': 74, 'however': 218, 'likely': 252, 'walk': 462, 'shop': 386, 'course': 79, 'script': 371, 'character': 65, 'lately': 241, 'wrote': 495, 'write': 492, 'let': 247, 'larger': 239, 'show': 388, 'brain': 47, 'human': 219, 'gay': 172, 'possibly': 337, 'tree': 447, 'recently': 359, 'wake': 461, 'gotten': 188, 'ideation': 223, 'passion': 323, 'positive': 336, 'enjoy': 121, 'dating': 89, 'played': 333, 'anyways': 23, 'negative': 300, 'allowed': 11}\n"
     ]
    }
   ],
   "source": [
    "# Word vectorisation\n",
    "tfidf_vect = TfidfVectorizer(max_features=500)\n",
    "tfidf_vect.fit(df['clean_lemmatized_processed_text'][:101])\n",
    "X_train_tfidf = tfidf_vect.transform(X_train)\n",
    "X_test_tfidf = tfidf_vect.transform(X_test)\n",
    "print(tfidf_vect.vocabulary_)"
   ]
  },
  {
   "cell_type": "code",
   "execution_count": 16,
   "metadata": {},
   "outputs": [
    {
     "name": "stdout",
     "output_type": "stream",
     "text": [
      "  (0, 478)\t0.32023050096986816\n",
      "  (0, 464)\t0.3790910941465745\n",
      "  (0, 396)\t0.23747160882524282\n",
      "  (0, 326)\t0.22100442266972095\n",
      "  (0, 325)\t0.3828351860996422\n",
      "  (0, 181)\t0.2173174018103915\n",
      "  (0, 162)\t0.23306490711610542\n",
      "  (0, 141)\t0.23747160882524282\n",
      "  (0, 77)\t0.5269098015692872\n",
      "  (0, 20)\t0.25762581584009414\n",
      "  (1, 439)\t0.3986118475812536\n",
      "  (1, 399)\t0.33757016148795094\n",
      "  (1, 397)\t0.26947955133797247\n",
      "  (1, 354)\t0.37327725883332513\n",
      "  (1, 297)\t0.21548678930134554\n",
      "  (1, 260)\t0.37327725883332513\n",
      "  (1, 255)\t0.27652847539464825\n",
      "  (1, 251)\t0.16832662332548884\n",
      "  (1, 240)\t0.2511938866467197\n",
      "  (1, 214)\t0.28419109209382654\n",
      "  (1, 103)\t0.28419109209382654\n",
      "  (2, 497)\t0.47174784912050804\n",
      "  (2, 448)\t0.39460335815631875\n",
      "  (2, 281)\t0.47174784912050804\n",
      "  (2, 237)\t0.2182971673337621\n",
      "  :\t:\n",
      "  (174052, 21)\t0.10188058285935991\n",
      "  (174052, 5)\t0.22431184633119203\n",
      "  (174053, 496)\t0.12414147808093903\n",
      "  (174053, 471)\t0.1692586046616407\n",
      "  (174053, 433)\t0.14059266033092832\n",
      "  (174053, 424)\t0.20105012471675732\n",
      "  (174053, 315)\t0.24050910393572178\n",
      "  (174053, 293)\t0.16049670138588065\n",
      "  (174053, 281)\t0.22231656705549205\n",
      "  (174053, 250)\t0.33491081705389314\n",
      "  (174053, 216)\t0.2106127992777275\n",
      "  (174053, 191)\t0.1929649985777441\n",
      "  (174053, 187)\t0.3293898028236314\n",
      "  (174053, 185)\t0.2758047053356886\n",
      "  (174053, 159)\t0.1929649985777441\n",
      "  (174053, 154)\t0.20105012471675732\n",
      "  (174053, 141)\t0.1379023526678443\n",
      "  (174053, 117)\t0.2106127992777275\n",
      "  (174053, 107)\t0.1742575759727859\n",
      "  (174053, 40)\t0.1859613437505504\n",
      "  (174053, 35)\t0.20105012471675732\n",
      "  (174053, 13)\t0.15299113363405123\n",
      "  (174053, 9)\t0.3385172093232814\n",
      "  (174054, 315)\t0.5896987493190273\n",
      "  (174054, 129)\t0.8076232940248659\n"
     ]
    }
   ],
   "source": [
    "print(X_train_tfidf)"
   ]
  },
  {
   "cell_type": "code",
   "execution_count": null,
   "metadata": {},
   "outputs": [],
   "source": [
    "# Classifier - Algorithm - SVM\n",
    "# fit the training dataset on the classifier\n",
    "SVM = svm.SVC(C=1.0, kernel='linear', degree=3, gamma='auto')\n",
    "SVM.fit(X_train_tfidf,y_train)\n",
    "# predict the labels on validation dataset\n",
    "y_pred = SVM.predict(X_test_tfidf)"
   ]
  },
  {
   "cell_type": "code",
   "execution_count": null,
   "metadata": {},
   "outputs": [],
   "source": [
    "# Evaluation: Confusion Matrix\n",
    "print(\"SVM Confusion Matrix -> \",confusion_matrix(y_test, y_pred))\n",
    "# Evaluation: Accuracy Score\n",
    "print(\"SVM Accuracy Score -> \",accuracy_score(y_pred, y_test)*100)"
   ]
  }
 ],
 "metadata": {
  "kernelspec": {
   "display_name": "Python 3",
   "language": "python",
   "name": "python3"
  },
  "language_info": {
   "codemirror_mode": {
    "name": "ipython",
    "version": 3
   },
   "file_extension": ".py",
   "mimetype": "text/x-python",
   "name": "python",
   "nbconvert_exporter": "python",
   "pygments_lexer": "ipython3",
   "version": "3.8.3"
  }
 },
 "nbformat": 4,
 "nbformat_minor": 4
}
