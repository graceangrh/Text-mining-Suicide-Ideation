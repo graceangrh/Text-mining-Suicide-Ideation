{
  "cells": [
    {
      "cell_type": "code",
      "execution_count": null,
      "metadata": {
        "id": "Y1JjIwJo5l_7"
      },
      "outputs": [],
      "source": [
        "#Import packages\n",
        "import pandas as pd\n",
        "import numpy as np\n",
        "import nltk"
      ]
    },
    {
      "cell_type": "code",
      "execution_count": null,
      "metadata": {
        "id": "8XSwj0qDBjmF"
      },
      "outputs": [],
      "source": [
        "# Import libraries required for WordCloud\n",
        "from os import path\n",
        "from PIL import Image\n",
        "from wordcloud import WordCloud, STOPWORDS, ImageColorGenerator\n",
        "import matplotlib.pyplot as plt"
      ]
    },
    {
      "cell_type": "code",
      "execution_count": null,
      "metadata": {
        "id": "0XpK7PcGNAfW"
      },
      "outputs": [],
      "source": [
        "df=pd.read_csv('preprocessed_text.csv')"
      ]
    },
    {
      "cell_type": "code",
      "execution_count": null,
      "metadata": {
        "id": "SknwW-X5NAfX",
        "outputId": "8f85f329-3481-48c3-c2fe-af7e4add9ab0",
        "colab": {
          "base_uri": "https://localhost:8080/",
          "height": 295
        }
      },
      "outputs": [
        {
          "output_type": "display_data",
          "data": {
            "text/plain": [
              "<Figure size 432x288 with 1 Axes>"
            ],
            "image/png": "[encoded data removed]"
          },
          "metadata": {
            "needs_background": "light"
          }
        }
      ],
      "source": [
        "from collections import Counter\n",
        "import matplotlib.pyplot as plt\n",
        "import pandas as pd\n",
        "\n",
        "df = df[df[\"class\"] == 'suicide']\n",
        "\n",
        "description_list = df['preprocessed_text'].values.tolist()\n",
        "\n",
        "# Assign the Counter instance `most_common` call to a variable:\n",
        "word_frequency = Counter(\" \".join(description_list).split()).most_common(10)\n",
        "\n",
        "# `most_common` returns a list of (word, count) tuples\n",
        "words = [word for word, _ in word_frequency]\n",
        "counts = [counts for _, counts in word_frequency]\n",
        "\n",
        "plt.bar(words, counts)\n",
        "plt.title(\"10 most frequent tokens in suicide texts\")\n",
        "plt.ylabel(\"Frequency\")\n",
        "plt.xlabel(\"Words\")\n",
        "plt.show()"
      ]
    }
  ],
  "metadata": {
    "colab": {
      "provenance": []
    },
    "kernelspec": {
      "display_name": "Python 3",
      "language": "python",
      "name": "python3"
    },
    "language_info": {
      "codemirror_mode": {
        "name": "ipython",
        "version": 3
      },
      "file_extension": ".py",
      "mimetype": "text/x-python",
      "name": "python",
      "nbconvert_exporter": "python",
      "pygments_lexer": "ipython3",
      "version": "3.8.3"
    }
  },
  "nbformat": 4,
  "nbformat_minor": 0
}