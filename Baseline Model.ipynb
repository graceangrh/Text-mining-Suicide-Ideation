{
 "cells": [
  {
   "cell_type": "code",
   "execution_count": 11,
   "id": "0f951449-b0b4-4638-a574-b153f4743367",
   "metadata": {
    "execution": {
     "iopub.execute_input": "2023-04-05T04:47:44.162776Z",
     "iopub.status.busy": "2023-04-05T04:47:44.162302Z",
     "iopub.status.idle": "2023-04-05T04:47:44.168816Z",
     "shell.execute_reply": "2023-04-05T04:47:44.168018Z",
     "shell.execute_reply.started": "2023-04-05T04:47:44.162750Z"
    },
    "tags": []
   },
   "outputs": [],
   "source": [
    "import pandas as pd\n",
    "import numpy as np\n",
    "import nltk\n",
    "import gensim\n",
    "from gensim import corpora\n",
    "from sklearn import metrics\n",
    "from sklearn.model_selection import train_test_split\n",
    "from sklearn.preprocessing import LabelEncoder\n",
    "from sklearn.feature_extraction.text import TfidfVectorizer\n",
    "from sklearn import naive_bayes\n",
    "from sklearn.linear_model import LogisticRegression\n",
    "from sklearn.svm import LinearSVC\n",
    "from sklearn.metrics import accuracy_score, confusion_matrix, recall_score, precision_score, f1_score, fbeta_score"
   ]
  },
  {
   "cell_type": "code",
   "execution_count": 3,
   "id": "570919f9-f31c-4cee-9c9a-bf246be9f4a6",
   "metadata": {
    "execution": {
     "iopub.execute_input": "2023-04-05T04:46:50.232693Z",
     "iopub.status.busy": "2023-04-05T04:46:50.232557Z",
     "iopub.status.idle": "2023-04-05T04:46:55.384209Z",
     "shell.execute_reply": "2023-04-05T04:46:55.383698Z",
     "shell.execute_reply.started": "2023-04-05T04:46:50.232680Z"
    },
    "tags": []
   },
   "outputs": [],
   "source": [
    "# read cleaned and processed data\n",
    "# docs = pd.read_csv(\"preprocessed_data.csv\", converters={'lemmatized_processed_text': pd.eval})\n",
    "docs = pd.read_csv(\"preprocessed_data_new_negation.csv\")"
   ]
  },
  {
   "cell_type": "code",
   "execution_count": 4,
   "id": "1d5724ca-8808-4bab-816a-f4ffb2ae1c4d",
   "metadata": {
    "execution": {
     "iopub.execute_input": "2023-04-05T04:46:55.385098Z",
     "iopub.status.busy": "2023-04-05T04:46:55.384951Z",
     "iopub.status.idle": "2023-04-05T04:46:55.395261Z",
     "shell.execute_reply": "2023-04-05T04:46:55.394918Z",
     "shell.execute_reply.started": "2023-04-05T04:46:55.385085Z"
    },
    "tags": []
   },
   "outputs": [
    {
     "data": {
      "text/html": [
       "<div>\n",
       "<style scoped>\n",
       "    .dataframe tbody tr th:only-of-type {\n",
       "        vertical-align: middle;\n",
       "    }\n",
       "\n",
       "    .dataframe tbody tr th {\n",
       "        vertical-align: top;\n",
       "    }\n",
       "\n",
       "    .dataframe thead th {\n",
       "        text-align: right;\n",
       "    }\n",
       "</style>\n",
       "<table border=\"1\" class=\"dataframe\">\n",
       "  <thead>\n",
       "    <tr style=\"text-align: right;\">\n",
       "      <th></th>\n",
       "      <th>text</th>\n",
       "      <th>class</th>\n",
       "      <th>stemmed_processed_text</th>\n",
       "      <th>lemmatized_processed_text</th>\n",
       "    </tr>\n",
       "  </thead>\n",
       "  <tbody>\n",
       "    <tr>\n",
       "      <th>0</th>\n",
       "      <td>ex wife threatening suicide recently i left my...</td>\n",
       "      <td>suicide</td>\n",
       "      <td>['ex', 'wife', 'threaten', 'suicid', 'recent',...</td>\n",
       "      <td>['ex', 'wife', 'threatening', 'suicide', 'rece...</td>\n",
       "    </tr>\n",
       "    <tr>\n",
       "      <th>1</th>\n",
       "      <td>am i weird i do not get affected by compliment...</td>\n",
       "      <td>non-suicide</td>\n",
       "      <td>['weird', 'not', 'get', 'affect', 'compliment'...</td>\n",
       "      <td>['weird', 'not', 'get', 'affected', 'complimen...</td>\n",
       "    </tr>\n",
       "    <tr>\n",
       "      <th>2</th>\n",
       "      <td>finally is almost over so i can never hear has...</td>\n",
       "      <td>non-suicide</td>\n",
       "      <td>['final', 'almost', 'never', 'hear', 'bad', 'y...</td>\n",
       "      <td>['finally', 'almost', 'never', 'hear', 'bad', ...</td>\n",
       "    </tr>\n",
       "  </tbody>\n",
       "</table>\n",
       "</div>"
      ],
      "text/plain": [
       "                                                text        class  \\\n",
       "0  ex wife threatening suicide recently i left my...      suicide   \n",
       "1  am i weird i do not get affected by compliment...  non-suicide   \n",
       "2  finally is almost over so i can never hear has...  non-suicide   \n",
       "\n",
       "                              stemmed_processed_text  \\\n",
       "0  ['ex', 'wife', 'threaten', 'suicid', 'recent',...   \n",
       "1  ['weird', 'not', 'get', 'affect', 'compliment'...   \n",
       "2  ['final', 'almost', 'never', 'hear', 'bad', 'y...   \n",
       "\n",
       "                           lemmatized_processed_text  \n",
       "0  ['ex', 'wife', 'threatening', 'suicide', 'rece...  \n",
       "1  ['weird', 'not', 'get', 'affected', 'complimen...  \n",
       "2  ['finally', 'almost', 'never', 'hear', 'bad', ...  "
      ]
     },
     "execution_count": 4,
     "metadata": {},
     "output_type": "execute_result"
    }
   ],
   "source": [
    "docs.head(3)"
   ]
  },
  {
   "cell_type": "code",
   "execution_count": 5,
   "id": "42547d1f-6450-492e-b17c-39a35c9a994f",
   "metadata": {
    "execution": {
     "iopub.execute_input": "2023-04-05T04:46:55.398820Z",
     "iopub.status.busy": "2023-04-05T04:46:55.398159Z",
     "iopub.status.idle": "2023-04-05T04:46:55.463004Z",
     "shell.execute_reply": "2023-04-05T04:46:55.462629Z",
     "shell.execute_reply.started": "2023-04-05T04:46:55.398801Z"
    },
    "tags": []
   },
   "outputs": [],
   "source": [
    "# encode suicide as 1 and non-suicide as 0\n",
    "docs['class_encoded'] = docs['class'].apply(lambda x:1 if x == 'suicide' else 0)"
   ]
  },
  {
   "cell_type": "code",
   "execution_count": 6,
   "id": "503b2531-b632-4438-b170-6dce81e5100b",
   "metadata": {
    "execution": {
     "iopub.execute_input": "2023-04-05T04:46:55.463876Z",
     "iopub.status.busy": "2023-04-05T04:46:55.463684Z",
     "iopub.status.idle": "2023-04-05T04:46:55.485461Z",
     "shell.execute_reply": "2023-04-05T04:46:55.485033Z",
     "shell.execute_reply.started": "2023-04-05T04:46:55.463863Z"
    },
    "tags": []
   },
   "outputs": [],
   "source": [
    "X_train, X_test, y_train, y_test = train_test_split(docs['lemmatized_processed_text'],docs['class_encoded'],test_size=0.3, random_state=101)"
   ]
  },
  {
   "cell_type": "code",
   "execution_count": 7,
   "id": "24e135de-69a7-4f27-813c-a0c1189b664c",
   "metadata": {
    "execution": {
     "iopub.execute_input": "2023-04-05T04:46:55.486370Z",
     "iopub.status.busy": "2023-04-05T04:46:55.486206Z",
     "iopub.status.idle": "2023-04-05T04:47:13.655447Z",
     "shell.execute_reply": "2023-04-05T04:47:13.654946Z",
     "shell.execute_reply.started": "2023-04-05T04:46:55.486356Z"
    },
    "tags": []
   },
   "outputs": [],
   "source": [
    "Tfidf_vect = TfidfVectorizer()\n",
    "Tfidf_vect.fit(docs['lemmatized_processed_text'])\n",
    "X_train_Tfidf = Tfidf_vect.transform(X_train)\n",
    "X_test_Tfidf = Tfidf_vect.transform(X_test)"
   ]
  },
  {
   "cell_type": "markdown",
   "id": "8183d8af-862e-4221-b66c-b35d471ccf6e",
   "metadata": {},
   "source": [
    "### Get Metrics"
   ]
  },
  {
   "cell_type": "code",
   "execution_count": 8,
   "id": "548baa2e-0666-4916-afac-30d609cdb8cf",
   "metadata": {
    "execution": {
     "iopub.execute_input": "2023-04-05T04:47:13.656200Z",
     "iopub.status.busy": "2023-04-05T04:47:13.656065Z",
     "iopub.status.idle": "2023-04-05T04:47:13.660764Z",
     "shell.execute_reply": "2023-04-05T04:47:13.660404Z",
     "shell.execute_reply.started": "2023-04-05T04:47:13.656188Z"
    },
    "tags": []
   },
   "outputs": [],
   "source": [
    "def get_metrics(y_test, y_pred):\n",
    "    \n",
    "    conf_matrix = confusion_matrix(y_test, y_pred)\n",
    "    print(conf_matrix)\n",
    "    TP = conf_matrix[0][0]\n",
    "    FN = conf_matrix[1][0]\n",
    "    FP = conf_matrix[0][1]\n",
    "    TN = conf_matrix[1][1]\n",
    "\n",
    "    accuracy = accuracy_score(y_test, y_pred)*100\n",
    "    precision = precision_score(y_test, y_pred)*100\n",
    "    recall = recall_score(y_test, y_pred)*100\n",
    "\n",
    "    print('TP:',TP); print('FN:',FN); print('FP:',FP) ;print('TN:',TN)\n",
    "    print(\"Accuracy: \", accuracy)\n",
    "    print('Precision:', precision)\n",
    "    print('Recall:', recall)\n",
    "\n",
    "    f1_score = 2*((precision * recall) / ((precision + recall)))\n",
    "    print('F1 Score:', f1_score)\n",
    "\n",
    "    f2score = ((1 + 2**2) * precision * recall) / (2**2 * precision + recall)\n",
    "    print('F2 Score:', f2score)"
   ]
  },
  {
   "cell_type": "markdown",
   "id": "55287dce-8abc-41ff-8ccb-ff9f9c5e3c89",
   "metadata": {},
   "source": [
    "### sklearn Naive Bayes"
   ]
  },
  {
   "cell_type": "code",
   "execution_count": 12,
   "id": "9e4aa0e9-e642-44eb-b6e2-607b9ec8376e",
   "metadata": {
    "execution": {
     "iopub.execute_input": "2023-04-05T04:48:00.491255Z",
     "iopub.status.busy": "2023-04-05T04:48:00.490853Z",
     "iopub.status.idle": "2023-04-05T04:48:00.648572Z",
     "shell.execute_reply": "2023-04-05T04:48:00.648120Z",
     "shell.execute_reply.started": "2023-04-05T04:48:00.491231Z"
    },
    "tags": []
   },
   "outputs": [
    {
     "name": "stdout",
     "output_type": "stream",
     "text": [
      "[[28664  6046]\n",
      " [ 1549 33364]]\n",
      "TP: 28664\n",
      "FN: 1549\n",
      "FP: 6046\n",
      "TN: 33364\n",
      "Accuracy:  89.09124858164687\n",
      "Precision: 84.65871606191322\n",
      "Recall: 95.56325723942372\n",
      "F1 Score: 89.78109064488785\n",
      "F2 Score: 93.16326188694418\n"
     ]
    }
   ],
   "source": [
    "# fit the training dataset on the NB classifier\n",
    "nb = naive_bayes.MultinomialNB()\n",
    "nb.fit(X_train_Tfidf,y_train)\n",
    "# predict the labels on validation dataset\n",
    "predictions_NB = nb.predict(X_test_Tfidf)\n",
    "\n",
    "get_metrics(y_test, predictions_NB)"
   ]
  },
  {
   "cell_type": "code",
   "execution_count": 22,
   "id": "96b3d545-27fc-4345-b953-4a38e6fc244a",
   "metadata": {
    "execution": {
     "iopub.execute_input": "2023-04-05T05:52:39.560911Z",
     "iopub.status.busy": "2023-04-05T05:52:39.560215Z",
     "iopub.status.idle": "2023-04-05T05:52:39.670355Z",
     "shell.execute_reply": "2023-04-05T05:52:39.669922Z",
     "shell.execute_reply.started": "2023-04-05T05:52:39.560865Z"
    },
    "tags": []
   },
   "outputs": [
    {
     "name": "stdout",
     "output_type": "stream",
     "text": [
      "              precision    recall  f1-score   support\n",
      "\n",
      " Non-Suicide     0.9487    0.8258    0.8830     34710\n",
      "     Suicide     0.8466    0.9556    0.8978     34913\n",
      "\n",
      "    accuracy                         0.8909     69623\n",
      "   macro avg     0.8977    0.8907    0.8904     69623\n",
      "weighted avg     0.8975    0.8909    0.8904     69623\n",
      "\n"
     ]
    }
   ],
   "source": [
    "print(metrics.classification_report(y_test, predictions_NB, target_names=['Non-Suicide', 'Suicide'], digits=4))"
   ]
  },
  {
   "cell_type": "markdown",
   "id": "3d574ce1-0e8f-44f7-bf8f-6442999dec8a",
   "metadata": {
    "tags": []
   },
   "source": [
    "### Logistic Regression"
   ]
  },
  {
   "cell_type": "code",
   "execution_count": 18,
   "id": "4c9d838b-1ade-4b47-af17-e26d2061a0e1",
   "metadata": {
    "execution": {
     "iopub.execute_input": "2023-04-05T04:55:22.932140Z",
     "iopub.status.busy": "2023-04-05T04:55:22.931025Z",
     "iopub.status.idle": "2023-04-05T04:55:27.126642Z",
     "shell.execute_reply": "2023-04-05T04:55:27.126139Z",
     "shell.execute_reply.started": "2023-04-05T04:55:22.932096Z"
    },
    "tags": []
   },
   "outputs": [
    {
     "name": "stdout",
     "output_type": "stream",
     "text": [
      "[[32794  1916]\n",
      " [ 2645 32268]]\n",
      "TP: 32794\n",
      "FN: 2645\n",
      "FP: 1916\n",
      "TN: 32268\n",
      "Accuracy:  93.44900392111802\n",
      "Precision: 94.39503861455651\n",
      "Recall: 92.42402543465185\n",
      "F1 Score: 93.39913454998047\n",
      "F2 Score: 92.81161554568673\n"
     ]
    }
   ],
   "source": [
    "# fit the training dataset on the Logistic Regression classifier\n",
    "logreg = LogisticRegression(max_iter=300)\n",
    "logreg.fit(X_train_Tfidf,y_train)\n",
    "# predict the labels on validation dataset\n",
    "predictions_logreg = logreg.predict(X_test_Tfidf)\n",
    "\n",
    "get_metrics(y_test, predictions_logreg)"
   ]
  },
  {
   "cell_type": "code",
   "execution_count": 21,
   "id": "2207ce70-6330-4502-9f45-217bc5578240",
   "metadata": {
    "execution": {
     "iopub.execute_input": "2023-04-05T05:52:36.697079Z",
     "iopub.status.busy": "2023-04-05T05:52:36.696513Z",
     "iopub.status.idle": "2023-04-05T05:52:36.815769Z",
     "shell.execute_reply": "2023-04-05T05:52:36.815360Z",
     "shell.execute_reply.started": "2023-04-05T05:52:36.697044Z"
    },
    "tags": []
   },
   "outputs": [
    {
     "name": "stdout",
     "output_type": "stream",
     "text": [
      "              precision    recall  f1-score   support\n",
      "\n",
      " Non-Suicide     0.9254    0.9448    0.9350     34710\n",
      "     Suicide     0.9440    0.9242    0.9340     34913\n",
      "\n",
      "    accuracy                         0.9345     69623\n",
      "   macro avg     0.9347    0.9345    0.9345     69623\n",
      "weighted avg     0.9347    0.9345    0.9345     69623\n",
      "\n"
     ]
    }
   ],
   "source": [
    "print(metrics.classification_report(y_test, predictions_logreg, target_names=['Non-Suicide', 'Suicide'], digits=4))"
   ]
  },
  {
   "cell_type": "markdown",
   "id": "a195e6cb-1779-4e40-916d-41683ad2b5b6",
   "metadata": {},
   "source": [
    "### sklearn SVM"
   ]
  },
  {
   "cell_type": "code",
   "execution_count": 16,
   "id": "1ef14d62-320b-4d8a-9111-e37ae53976a9",
   "metadata": {
    "execution": {
     "iopub.execute_input": "2023-04-05T04:51:46.088640Z",
     "iopub.status.busy": "2023-04-05T04:51:46.088145Z",
     "iopub.status.idle": "2023-04-05T04:51:47.891414Z",
     "shell.execute_reply": "2023-04-05T04:51:47.891025Z",
     "shell.execute_reply.started": "2023-04-05T04:51:46.088615Z"
    },
    "tags": []
   },
   "outputs": [
    {
     "name": "stdout",
     "output_type": "stream",
     "text": [
      "[[32699  2011]\n",
      " [ 2554 32359]]\n",
      "TP: 32699\n",
      "FN: 2554\n",
      "FP: 2011\n",
      "TN: 32359\n",
      "Accuracy:  93.44325869324793\n",
      "Precision: 94.14896712249055\n",
      "Recall: 92.68467333085097\n",
      "F1 Score: 93.41108208362803\n",
      "F2 Score: 92.97387686614336\n"
     ]
    }
   ],
   "source": [
    "# fit the training dataset on the SVM classifier\n",
    "# SVM = svm.SVC(C=1.0, kernel='linear', degree=3, gamma='auto')\n",
    "linearSVC = LinearSVC()\n",
    "linearSVC.fit(X_train_Tfidf,y_train)\n",
    "# predict the labels on validation dataset\n",
    "predictions_SVC = linearSVC.predict(X_test_Tfidf)\n",
    "\n",
    "get_metrics(y_test, predictions_SVC)"
   ]
  },
  {
   "cell_type": "code",
   "execution_count": 20,
   "id": "ce8998eb-54e7-457d-8e53-e06c1bdfc5c6",
   "metadata": {
    "execution": {
     "iopub.execute_input": "2023-04-05T05:52:34.823102Z",
     "iopub.status.busy": "2023-04-05T05:52:34.822610Z",
     "iopub.status.idle": "2023-04-05T05:52:34.951315Z",
     "shell.execute_reply": "2023-04-05T05:52:34.950552Z",
     "shell.execute_reply.started": "2023-04-05T05:52:34.823066Z"
    },
    "tags": []
   },
   "outputs": [
    {
     "name": "stdout",
     "output_type": "stream",
     "text": [
      "              precision    recall  f1-score   support\n",
      "\n",
      " Non-Suicide     0.9276    0.9421    0.9348     34710\n",
      "     Suicide     0.9415    0.9268    0.9341     34913\n",
      "\n",
      "    accuracy                         0.9344     69623\n",
      "   macro avg     0.9345    0.9345    0.9344     69623\n",
      "weighted avg     0.9345    0.9344    0.9344     69623\n",
      "\n"
     ]
    }
   ],
   "source": [
    "print(metrics.classification_report(y_test, predictions_SVC, target_names=['Non-Suicide', 'Suicide'], digits=4))"
   ]
  },
  {
   "cell_type": "markdown",
   "id": "7f1640b4-06f8-4227-a848-ef42cdcf186a",
   "metadata": {},
   "source": [
    "### IGNORE BELOW"
   ]
  },
  {
   "cell_type": "markdown",
   "id": "05d157ec-80cf-4616-9fa1-9415883bc7ab",
   "metadata": {},
   "source": [
    "### NLTK Naive Bayes"
   ]
  },
  {
   "cell_type": "code",
   "execution_count": 20,
   "id": "48781656-3483-43c0-bf4b-9e144865fcc2",
   "metadata": {
    "execution": {
     "iopub.execute_input": "2023-03-13T13:10:54.769522Z",
     "iopub.status.busy": "2023-03-13T13:10:54.769114Z",
     "iopub.status.idle": "2023-03-13T13:10:54.839217Z",
     "shell.execute_reply": "2023-03-13T13:10:54.838869Z",
     "shell.execute_reply.started": "2023-03-13T13:10:54.769509Z"
    },
    "tags": []
   },
   "outputs": [
    {
     "name": "stdout",
     "output_type": "stream",
     "text": [
      "Number of suicide observations: 116037. Number of non-suicide observations: 116037\n"
     ]
    }
   ],
   "source": [
    "suicide_rows = docs[docs[\"class\"] == \"suicide\"]\n",
    "non_suicide_rows = docs[docs[\"class\"] == \"non-suicide\"]\n",
    "print(f\"Number of suicide observations: {len(suicide_data)}.\", f\"Number of non-suicide observations: {len(non_suicide_data)}\")"
   ]
  },
  {
   "cell_type": "code",
   "execution_count": 26,
   "id": "fd2db236-da92-4798-9860-3bc871969da7",
   "metadata": {
    "execution": {
     "iopub.execute_input": "2023-03-13T13:20:09.148671Z",
     "iopub.status.busy": "2023-03-13T13:20:09.147431Z",
     "iopub.status.idle": "2023-03-13T13:20:23.323484Z",
     "shell.execute_reply": "2023-03-13T13:20:23.323030Z",
     "shell.execute_reply.started": "2023-03-13T13:20:09.148624Z"
    },
    "tags": []
   },
   "outputs": [],
   "source": [
    "# use gensim to convert these documents into raw term frequency-based vectors\n",
    "dictionary = corpora.Dictionary(doc_text)\n",
    "\n",
    "train_test_split(X, y, test_size=0.33, random_state=42)\n",
    "\n",
    "suicide_rows = docs[docs[\"class\"] == \"suicide\"]['lemmatized_processed_text'].tolist()\n",
    "non_suicide_rows = docs[docs[\"class\"] == \"non-suicide\"]['lemmatized_processed_text'].tolist()\n",
    "\n",
    "\n",
    "suicide_tf_vectors = [dictionary.doc2bow(doc) for doc in suicide_rows]\n",
    "non_suicide_tf_vectors = [dictionary.doc2bow(doc) for doc in non_suicide_rows]"
   ]
  },
  {
   "cell_type": "code",
   "execution_count": 31,
   "id": "a709b852-0228-494c-8271-16ae0da321f6",
   "metadata": {
    "execution": {
     "iopub.execute_input": "2023-03-13T13:23:36.930339Z",
     "iopub.status.busy": "2023-03-13T13:23:36.929523Z",
     "iopub.status.idle": "2023-03-13T13:23:39.375320Z",
     "shell.execute_reply": "2023-03-13T13:23:39.374854Z",
     "shell.execute_reply.started": "2023-03-13T13:23:36.930310Z"
    },
    "tags": []
   },
   "outputs": [],
   "source": [
    "suicide_data_dict = [{id:1 for (id, tf_value) in vec} for vec in suicide_tf_vectors]\n",
    "suicide_data = [(d, 'suicide') for d in suicide_data_dict]\n",
    "\n",
    "non_suicide_data_dict = [{id:1 for (id, tf_value) in vec} for vec in non_suicide_tf_vectors]\n",
    "non_suicide_data = [(d, 'non-suicide') for d in non_suicide_data_dict]\n",
    "\n",
    "all_data = suicide_data + non_suicide_data"
   ]
  },
  {
   "cell_type": "markdown",
   "id": "9c9bee68-d49d-42b2-a3a5-4aa3b6dcfebd",
   "metadata": {},
   "source": [
    "#### train classifer"
   ]
  },
  {
   "cell_type": "code",
   "execution_count": 33,
   "id": "a3065f79-a0a9-4e0a-93aa-cfc58159b3ad",
   "metadata": {
    "execution": {
     "iopub.execute_input": "2023-03-13T13:24:38.963723Z",
     "iopub.status.busy": "2023-03-13T13:24:38.963171Z",
     "iopub.status.idle": "2023-03-13T13:24:48.860270Z",
     "shell.execute_reply": "2023-03-13T13:24:48.859896Z",
     "shell.execute_reply.started": "2023-03-13T13:24:38.963674Z"
    },
    "tags": []
   },
   "outputs": [],
   "source": [
    "classifier = nltk.NaiveBayesClassifier.train(all_data)"
   ]
  },
  {
   "cell_type": "code",
   "execution_count": 39,
   "id": "65493eb8-4bd8-40de-9163-2e6c42352d86",
   "metadata": {
    "execution": {
     "iopub.execute_input": "2023-03-13T13:30:45.952690Z",
     "iopub.status.busy": "2023-03-13T13:30:45.952239Z",
     "iopub.status.idle": "2023-03-13T13:30:59.333725Z",
     "shell.execute_reply": "2023-03-13T13:30:59.333405Z",
     "shell.execute_reply.started": "2023-03-13T13:30:45.952654Z"
    },
    "tags": []
   },
   "outputs": [
    {
     "name": "stdout",
     "output_type": "stream",
     "text": [
      "0.5749114506579798\n"
     ]
    }
   ],
   "source": [
    "print(nltk.classify.accuracy(classifier, all_data))"
   ]
  }
 ],
 "metadata": {
  "kernelspec": {
   "display_name": "Python 3 (ipykernel)",
   "language": "python",
   "name": "python3"
  },
  "language_info": {
   "codemirror_mode": {
    "name": "ipython",
    "version": 3
   },
   "file_extension": ".py",
   "mimetype": "text/x-python",
   "name": "python",
   "nbconvert_exporter": "python",
   "pygments_lexer": "ipython3",
   "version": "3.9.13"
  }
 },
 "nbformat": 4,
 "nbformat_minor": 5
}
