{
 "cells": [
  {
   "cell_type": "code",
   "execution_count": 1,
   "id": "0f951449-b0b4-4638-a574-b153f4743367",
   "metadata": {
    "execution": {
     "iopub.execute_input": "2023-03-13T12:35:13.796536Z",
     "iopub.status.busy": "2023-03-13T12:35:13.796135Z",
     "iopub.status.idle": "2023-03-13T12:35:15.032257Z",
     "shell.execute_reply": "2023-03-13T12:35:15.031825Z",
     "shell.execute_reply.started": "2023-03-13T12:35:13.796511Z"
    },
    "tags": []
   },
   "outputs": [],
   "source": [
    "import pandas as pd\n",
    "import nltk\n",
    "from nltk.corpus import PlaintextCorpusReader\n",
    "import gensim\n",
    "from gensim import corpora"
   ]
  },
  {
   "cell_type": "code",
   "execution_count": 2,
   "id": "570919f9-f31c-4cee-9c9a-bf246be9f4a6",
   "metadata": {
    "execution": {
     "iopub.execute_input": "2023-03-13T12:35:15.033556Z",
     "iopub.status.busy": "2023-03-13T12:35:15.033344Z",
     "iopub.status.idle": "2023-03-13T12:39:53.669109Z",
     "shell.execute_reply": "2023-03-13T12:39:53.668621Z",
     "shell.execute_reply.started": "2023-03-13T12:35:15.033538Z"
    },
    "tags": []
   },
   "outputs": [],
   "source": [
    "# read cleaned and processed data\n",
    "docs = pd.read_csv(\"preprocessed_data.csv\", converters={'lemmatized_processed_text': pd.eval})"
   ]
  },
  {
   "cell_type": "code",
   "execution_count": 11,
   "id": "1d5724ca-8808-4bab-816a-f4ffb2ae1c4d",
   "metadata": {
    "execution": {
     "iopub.execute_input": "2023-03-13T13:07:38.108231Z",
     "iopub.status.busy": "2023-03-13T13:07:38.107756Z",
     "iopub.status.idle": "2023-03-13T13:07:38.123032Z",
     "shell.execute_reply": "2023-03-13T13:07:38.122670Z",
     "shell.execute_reply.started": "2023-03-13T13:07:38.108205Z"
    },
    "tags": []
   },
   "outputs": [
    {
     "data": {
      "text/html": [
       "<div>\n",
       "<style scoped>\n",
       "    .dataframe tbody tr th:only-of-type {\n",
       "        vertical-align: middle;\n",
       "    }\n",
       "\n",
       "    .dataframe tbody tr th {\n",
       "        vertical-align: top;\n",
       "    }\n",
       "\n",
       "    .dataframe thead th {\n",
       "        text-align: right;\n",
       "    }\n",
       "</style>\n",
       "<table border=\"1\" class=\"dataframe\">\n",
       "  <thead>\n",
       "    <tr style=\"text-align: right;\">\n",
       "      <th></th>\n",
       "      <th>text</th>\n",
       "      <th>class</th>\n",
       "      <th>stemmed_processed_text</th>\n",
       "      <th>lemmatized_processed_text</th>\n",
       "    </tr>\n",
       "  </thead>\n",
       "  <tbody>\n",
       "    <tr>\n",
       "      <th>0</th>\n",
       "      <td>ex wife threatening suiciderecently i left my ...</td>\n",
       "      <td>suicide</td>\n",
       "      <td>['ex', 'wife', 'threaten', 'suiciderec', 'left...</td>\n",
       "      <td>[ex, wife, threatening, suiciderecently, left,...</td>\n",
       "    </tr>\n",
       "    <tr>\n",
       "      <th>1</th>\n",
       "      <td>am i weird i do not get affected by compliment...</td>\n",
       "      <td>non-suicide</td>\n",
       "      <td>['weird', 'get', 'affect', 'compliment', 'come...</td>\n",
       "      <td>[weird, get, affected, compliment, coming, som...</td>\n",
       "    </tr>\n",
       "    <tr>\n",
       "      <th>2</th>\n",
       "      <td>finally      is almost over    so i can never ...</td>\n",
       "      <td>non-suicide</td>\n",
       "      <td>['final', 'almost', 'never', 'hear', 'bad', 'y...</td>\n",
       "      <td>[finally, almost, never, hear, bad, year, ever...</td>\n",
       "    </tr>\n",
       "  </tbody>\n",
       "</table>\n",
       "</div>"
      ],
      "text/plain": [
       "                                                text        class  \\\n",
       "0  ex wife threatening suiciderecently i left my ...      suicide   \n",
       "1  am i weird i do not get affected by compliment...  non-suicide   \n",
       "2  finally      is almost over    so i can never ...  non-suicide   \n",
       "\n",
       "                              stemmed_processed_text  \\\n",
       "0  ['ex', 'wife', 'threaten', 'suiciderec', 'left...   \n",
       "1  ['weird', 'get', 'affect', 'compliment', 'come...   \n",
       "2  ['final', 'almost', 'never', 'hear', 'bad', 'y...   \n",
       "\n",
       "                           lemmatized_processed_text  \n",
       "0  [ex, wife, threatening, suiciderecently, left,...  \n",
       "1  [weird, get, affected, compliment, coming, som...  \n",
       "2  [finally, almost, never, hear, bad, year, ever...  "
      ]
     },
     "execution_count": 11,
     "metadata": {},
     "output_type": "execute_result"
    }
   ],
   "source": [
    "docs.head(3)"
   ]
  },
  {
   "cell_type": "code",
   "execution_count": 4,
   "id": "9580d903-24ed-4647-a9a2-7c630d95168d",
   "metadata": {
    "execution": {
     "iopub.execute_input": "2023-03-13T12:40:40.713192Z",
     "iopub.status.busy": "2023-03-13T12:40:40.712805Z",
     "iopub.status.idle": "2023-03-13T12:40:40.726060Z",
     "shell.execute_reply": "2023-03-13T12:40:40.725183Z",
     "shell.execute_reply.started": "2023-03-13T12:40:40.713168Z"
    },
    "tags": []
   },
   "outputs": [],
   "source": [
    "doc_text = docs['lemmatized_processed_text'].tolist()"
   ]
  },
  {
   "cell_type": "markdown",
   "id": "05d157ec-80cf-4616-9fa1-9415883bc7ab",
   "metadata": {},
   "source": [
    "### NLTK Naive Bayes"
   ]
  },
  {
   "cell_type": "code",
   "execution_count": 20,
   "id": "48781656-3483-43c0-bf4b-9e144865fcc2",
   "metadata": {
    "execution": {
     "iopub.execute_input": "2023-03-13T13:10:54.769522Z",
     "iopub.status.busy": "2023-03-13T13:10:54.769114Z",
     "iopub.status.idle": "2023-03-13T13:10:54.839217Z",
     "shell.execute_reply": "2023-03-13T13:10:54.838869Z",
     "shell.execute_reply.started": "2023-03-13T13:10:54.769509Z"
    },
    "tags": []
   },
   "outputs": [
    {
     "name": "stdout",
     "output_type": "stream",
     "text": [
      "Number of suicide observations: 116037. Number of non-suicide observations: 116037\n"
     ]
    }
   ],
   "source": [
    "suicide_rows = docs[docs[\"class\"] == \"suicide\"]\n",
    "non_suicide_rows = docs[docs[\"class\"] == \"non-suicide\"]\n",
    "print(f\"Number of suicide observations: {len(suicide_data)}.\", f\"Number of non-suicide observations: {len(non_suicide_data)}\")"
   ]
  },
  {
   "cell_type": "code",
   "execution_count": 26,
   "id": "fd2db236-da92-4798-9860-3bc871969da7",
   "metadata": {
    "execution": {
     "iopub.execute_input": "2023-03-13T13:20:09.148671Z",
     "iopub.status.busy": "2023-03-13T13:20:09.147431Z",
     "iopub.status.idle": "2023-03-13T13:20:23.323484Z",
     "shell.execute_reply": "2023-03-13T13:20:23.323030Z",
     "shell.execute_reply.started": "2023-03-13T13:20:09.148624Z"
    },
    "tags": []
   },
   "outputs": [],
   "source": [
    "# use gensim to convert these documents into raw term frequency-based vectors\n",
    "dictionary = corpora.Dictionary(doc_text)\n",
    "suicide_rows = docs[docs[\"class\"] == \"suicide\"]['lemmatized_processed_text'].tolist()\n",
    "non_suicide_rows = docs[docs[\"class\"] == \"non-suicide\"]['lemmatized_processed_text'].tolist()\n",
    "\n",
    "\n",
    "suicide_tf_vectors = [dictionary.doc2bow(doc) for doc in suicide_rows]\n",
    "non_suicide_tf_vectors = [dictionary.doc2bow(doc) for doc in non_suicide_rows]"
   ]
  },
  {
   "cell_type": "code",
   "execution_count": 31,
   "id": "a709b852-0228-494c-8271-16ae0da321f6",
   "metadata": {
    "execution": {
     "iopub.execute_input": "2023-03-13T13:23:36.930339Z",
     "iopub.status.busy": "2023-03-13T13:23:36.929523Z",
     "iopub.status.idle": "2023-03-13T13:23:39.375320Z",
     "shell.execute_reply": "2023-03-13T13:23:39.374854Z",
     "shell.execute_reply.started": "2023-03-13T13:23:36.930310Z"
    },
    "tags": []
   },
   "outputs": [],
   "source": [
    "suicide_data_dict = [{id:1 for (id, tf_value) in vec} for vec in suicide_tf_vectors]\n",
    "suicide_data = [(d, 'suicide') for d in suicide_data_dict]\n",
    "\n",
    "non_suicide_data_dict = [{id:1 for (id, tf_value) in vec} for vec in non_suicide_tf_vectors]\n",
    "non_suicide_data = [(d, 'non-suicide') for d in non_suicide_data_dict]\n",
    "\n",
    "all_data = suicide_data + non_suicide_data"
   ]
  },
  {
   "cell_type": "markdown",
   "id": "9c9bee68-d49d-42b2-a3a5-4aa3b6dcfebd",
   "metadata": {},
   "source": [
    "#### train classifer"
   ]
  },
  {
   "cell_type": "code",
   "execution_count": 33,
   "id": "a3065f79-a0a9-4e0a-93aa-cfc58159b3ad",
   "metadata": {
    "execution": {
     "iopub.execute_input": "2023-03-13T13:24:38.963723Z",
     "iopub.status.busy": "2023-03-13T13:24:38.963171Z",
     "iopub.status.idle": "2023-03-13T13:24:48.860270Z",
     "shell.execute_reply": "2023-03-13T13:24:48.859896Z",
     "shell.execute_reply.started": "2023-03-13T13:24:38.963674Z"
    },
    "tags": []
   },
   "outputs": [],
   "source": [
    "classifier = nltk.NaiveBayesClassifier.train(all_data)"
   ]
  },
  {
   "cell_type": "code",
   "execution_count": 39,
   "id": "65493eb8-4bd8-40de-9163-2e6c42352d86",
   "metadata": {
    "execution": {
     "iopub.execute_input": "2023-03-13T13:30:45.952690Z",
     "iopub.status.busy": "2023-03-13T13:30:45.952239Z",
     "iopub.status.idle": "2023-03-13T13:30:59.333725Z",
     "shell.execute_reply": "2023-03-13T13:30:59.333405Z",
     "shell.execute_reply.started": "2023-03-13T13:30:45.952654Z"
    },
    "tags": []
   },
   "outputs": [
    {
     "name": "stdout",
     "output_type": "stream",
     "text": [
      "0.5749114506579798\n"
     ]
    }
   ],
   "source": [
    "print(nltk.classify.accuracy(classifier, all_data))"
   ]
  }
 ],
 "metadata": {
  "kernelspec": {
   "display_name": "Python 3 (ipykernel)",
   "language": "python",
   "name": "python3"
  },
  "language_info": {
   "codemirror_mode": {
    "name": "ipython",
    "version": 3
   },
   "file_extension": ".py",
   "mimetype": "text/x-python",
   "name": "python",
   "nbconvert_exporter": "python",
   "pygments_lexer": "ipython3",
   "version": "3.9.13"
  }
 },
 "nbformat": 4,
 "nbformat_minor": 5
}
