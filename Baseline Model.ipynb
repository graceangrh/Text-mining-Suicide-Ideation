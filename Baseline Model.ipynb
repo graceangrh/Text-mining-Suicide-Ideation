{
 "cells": [
  {
   "cell_type": "code",
   "execution_count": 1,
   "id": "0f951449-b0b4-4638-a574-b153f4743367",
   "metadata": {
    "execution": {
     "iopub.execute_input": "2023-03-20T03:09:08.978054Z",
     "iopub.status.busy": "2023-03-20T03:09:08.977641Z",
     "iopub.status.idle": "2023-03-20T03:09:09.921653Z",
     "shell.execute_reply": "2023-03-20T03:09:09.921264Z",
     "shell.execute_reply.started": "2023-03-20T03:09:08.978028Z"
    },
    "tags": []
   },
   "outputs": [],
   "source": [
    "import pandas as pd\n",
    "import numpy as np\n",
    "import nltk\n",
    "import gensim\n",
    "from gensim import corpora\n",
    "from sklearn.model_selection import train_test_split\n",
    "from sklearn.preprocessing import LabelEncoder\n",
    "from sklearn.feature_extraction.text import TfidfVectorizer\n",
    "from sklearn import naive_bayes\n",
    "from sklearn.linear_model import LogisticRegression\n",
    "from sklearn.svm import LinearSVC\n",
    "from sklearn.metrics import accuracy_score, confusion_matrix, recall_score, precision_score, f1_score, fbeta_score"
   ]
  },
  {
   "cell_type": "code",
   "execution_count": 2,
   "id": "aca7511e-f1f1-4dc7-a7fb-d792a8d2e825",
   "metadata": {
    "execution": {
     "iopub.execute_input": "2023-03-20T03:09:19.715746Z",
     "iopub.status.busy": "2023-03-20T03:09:19.715146Z",
     "iopub.status.idle": "2023-03-20T03:09:19.720482Z",
     "shell.execute_reply": "2023-03-20T03:09:19.719565Z",
     "shell.execute_reply.started": "2023-03-20T03:09:19.715717Z"
    },
    "tags": []
   },
   "outputs": [],
   "source": [
    "np.random.seed(500)"
   ]
  },
  {
   "cell_type": "code",
   "execution_count": 3,
   "id": "570919f9-f31c-4cee-9c9a-bf246be9f4a6",
   "metadata": {
    "execution": {
     "iopub.execute_input": "2023-03-20T03:09:20.397981Z",
     "iopub.status.busy": "2023-03-20T03:09:20.397559Z",
     "iopub.status.idle": "2023-03-20T03:09:25.276804Z",
     "shell.execute_reply": "2023-03-20T03:09:25.276270Z",
     "shell.execute_reply.started": "2023-03-20T03:09:20.397955Z"
    },
    "tags": []
   },
   "outputs": [],
   "source": [
    "# read cleaned and processed data\n",
    "# docs = pd.read_csv(\"preprocessed_data.csv\", converters={'lemmatized_processed_text': pd.eval})\n",
    "docs = pd.read_csv(\"preprocessed_data_new.csv\")"
   ]
  },
  {
   "cell_type": "code",
   "execution_count": 4,
   "id": "1d5724ca-8808-4bab-816a-f4ffb2ae1c4d",
   "metadata": {
    "execution": {
     "iopub.execute_input": "2023-03-20T03:09:25.277923Z",
     "iopub.status.busy": "2023-03-20T03:09:25.277788Z",
     "iopub.status.idle": "2023-03-20T03:09:25.287573Z",
     "shell.execute_reply": "2023-03-20T03:09:25.286360Z",
     "shell.execute_reply.started": "2023-03-20T03:09:25.277910Z"
    },
    "tags": []
   },
   "outputs": [
    {
     "data": {
      "text/html": [
       "<div>\n",
       "<style scoped>\n",
       "    .dataframe tbody tr th:only-of-type {\n",
       "        vertical-align: middle;\n",
       "    }\n",
       "\n",
       "    .dataframe tbody tr th {\n",
       "        vertical-align: top;\n",
       "    }\n",
       "\n",
       "    .dataframe thead th {\n",
       "        text-align: right;\n",
       "    }\n",
       "</style>\n",
       "<table border=\"1\" class=\"dataframe\">\n",
       "  <thead>\n",
       "    <tr style=\"text-align: right;\">\n",
       "      <th></th>\n",
       "      <th>text</th>\n",
       "      <th>class</th>\n",
       "      <th>lemmatized_processed_text</th>\n",
       "      <th>stemmed_processed_text</th>\n",
       "    </tr>\n",
       "  </thead>\n",
       "  <tbody>\n",
       "    <tr>\n",
       "      <th>0</th>\n",
       "      <td>ex wife threatening suicide recently i left my...</td>\n",
       "      <td>suicide</td>\n",
       "      <td>['ex', 'wife', 'threatening', 'suicide', 'rece...</td>\n",
       "      <td>['ex', 'wife', 'threaten', 'suicid', 'recent',...</td>\n",
       "    </tr>\n",
       "    <tr>\n",
       "      <th>1</th>\n",
       "      <td>am i weird i do not get affected by compliment...</td>\n",
       "      <td>non-suicide</td>\n",
       "      <td>['weird', 'get', 'affected', 'compliment', 'co...</td>\n",
       "      <td>['weird', 'get', 'affect', 'compliment', 'come...</td>\n",
       "    </tr>\n",
       "    <tr>\n",
       "      <th>2</th>\n",
       "      <td>finally is almost over so i can never hear has...</td>\n",
       "      <td>non-suicide</td>\n",
       "      <td>['finally', 'almost', 'never', 'hear', 'bad', ...</td>\n",
       "      <td>['final', 'almost', 'never', 'hear', 'bad', 'y...</td>\n",
       "    </tr>\n",
       "  </tbody>\n",
       "</table>\n",
       "</div>"
      ],
      "text/plain": [
       "                                                text        class  \\\n",
       "0  ex wife threatening suicide recently i left my...      suicide   \n",
       "1  am i weird i do not get affected by compliment...  non-suicide   \n",
       "2  finally is almost over so i can never hear has...  non-suicide   \n",
       "\n",
       "                           lemmatized_processed_text  \\\n",
       "0  ['ex', 'wife', 'threatening', 'suicide', 'rece...   \n",
       "1  ['weird', 'get', 'affected', 'compliment', 'co...   \n",
       "2  ['finally', 'almost', 'never', 'hear', 'bad', ...   \n",
       "\n",
       "                              stemmed_processed_text  \n",
       "0  ['ex', 'wife', 'threaten', 'suicid', 'recent',...  \n",
       "1  ['weird', 'get', 'affect', 'compliment', 'come...  \n",
       "2  ['final', 'almost', 'never', 'hear', 'bad', 'y...  "
      ]
     },
     "execution_count": 4,
     "metadata": {},
     "output_type": "execute_result"
    }
   ],
   "source": [
    "docs.head(3)"
   ]
  },
  {
   "cell_type": "code",
   "execution_count": 5,
   "id": "42547d1f-6450-492e-b17c-39a35c9a994f",
   "metadata": {
    "execution": {
     "iopub.execute_input": "2023-03-20T03:10:20.478633Z",
     "iopub.status.busy": "2023-03-20T03:10:20.477948Z",
     "iopub.status.idle": "2023-03-20T03:10:20.555308Z",
     "shell.execute_reply": "2023-03-20T03:10:20.554779Z",
     "shell.execute_reply.started": "2023-03-20T03:10:20.478601Z"
    },
    "tags": []
   },
   "outputs": [],
   "source": [
    "# encode suicide as 1 and non-suicide as 0\n",
    "docs['class_encoded'] = docs['class'].apply(lambda x:1 if x == 'suicide' else 0)"
   ]
  },
  {
   "cell_type": "code",
   "execution_count": 6,
   "id": "503b2531-b632-4438-b170-6dce81e5100b",
   "metadata": {
    "execution": {
     "iopub.execute_input": "2023-03-20T03:10:21.288782Z",
     "iopub.status.busy": "2023-03-20T03:10:21.288307Z",
     "iopub.status.idle": "2023-03-20T03:10:21.328810Z",
     "shell.execute_reply": "2023-03-20T03:10:21.327883Z",
     "shell.execute_reply.started": "2023-03-20T03:10:21.288745Z"
    },
    "tags": []
   },
   "outputs": [],
   "source": [
    "X_train, X_test, y_train, y_test = train_test_split(docs['lemmatized_processed_text'],docs['class_encoded'],test_size=0.3)"
   ]
  },
  {
   "cell_type": "code",
   "execution_count": 7,
   "id": "24e135de-69a7-4f27-813c-a0c1189b664c",
   "metadata": {
    "execution": {
     "iopub.execute_input": "2023-03-20T03:10:22.011086Z",
     "iopub.status.busy": "2023-03-20T03:10:22.010691Z",
     "iopub.status.idle": "2023-03-20T03:10:39.600897Z",
     "shell.execute_reply": "2023-03-20T03:10:39.600461Z",
     "shell.execute_reply.started": "2023-03-20T03:10:22.011061Z"
    },
    "tags": []
   },
   "outputs": [],
   "source": [
    "Tfidf_vect = TfidfVectorizer()\n",
    "Tfidf_vect.fit(docs['lemmatized_processed_text'])\n",
    "X_train_Tfidf = Tfidf_vect.transform(X_train)\n",
    "X_test_Tfidf = Tfidf_vect.transform(X_test)"
   ]
  },
  {
   "cell_type": "markdown",
   "id": "8183d8af-862e-4221-b66c-b35d471ccf6e",
   "metadata": {},
   "source": [
    "### Get Metrics"
   ]
  },
  {
   "cell_type": "code",
   "execution_count": 8,
   "id": "548baa2e-0666-4916-afac-30d609cdb8cf",
   "metadata": {
    "execution": {
     "iopub.execute_input": "2023-03-20T03:10:39.602048Z",
     "iopub.status.busy": "2023-03-20T03:10:39.601898Z",
     "iopub.status.idle": "2023-03-20T03:10:39.606750Z",
     "shell.execute_reply": "2023-03-20T03:10:39.606316Z",
     "shell.execute_reply.started": "2023-03-20T03:10:39.602034Z"
    },
    "tags": []
   },
   "outputs": [],
   "source": [
    "def get_metrics(y_test, y_pred):\n",
    "    \n",
    "    conf_matrix = confusion_matrix(y_test, y_pred)\n",
    "    print(conf_matrix)\n",
    "    TP = conf_matrix[0][0]\n",
    "    FN = conf_matrix[1][0]\n",
    "    FP = conf_matrix[0][1]\n",
    "    TN = conf_matrix[1][1]\n",
    "\n",
    "    accuracy = accuracy_score(y_test, y_pred)*100\n",
    "    precision = precision_score(y_test, y_pred)*100\n",
    "    recall = recall_score(y_test, y_pred)*100\n",
    "\n",
    "    print('TP:',TP); print('FN:',FN); print('FP:',FP) ;print('TN:',TN)\n",
    "    print(\"Accuracy: \", accuracy)\n",
    "    print('Precision:', precision)\n",
    "    print('Recall:', recall)\n",
    "\n",
    "    f1_score = 2*((precision * recall) / ((precision + recall)))\n",
    "    print('F1 Score:', f1_score)\n",
    "\n",
    "    f2score = ((1 + 2**2) * precision * recall) / (2**2 * precision + recall)\n",
    "    print('F2 Score:', f2score)"
   ]
  },
  {
   "cell_type": "markdown",
   "id": "55287dce-8abc-41ff-8ccb-ff9f9c5e3c89",
   "metadata": {},
   "source": [
    "### sklearn Naive Bayes"
   ]
  },
  {
   "cell_type": "code",
   "execution_count": 9,
   "id": "9e4aa0e9-e642-44eb-b6e2-607b9ec8376e",
   "metadata": {
    "execution": {
     "iopub.execute_input": "2023-03-20T03:10:39.607577Z",
     "iopub.status.busy": "2023-03-20T03:10:39.607386Z",
     "iopub.status.idle": "2023-03-20T03:10:39.749183Z",
     "shell.execute_reply": "2023-03-20T03:10:39.748710Z",
     "shell.execute_reply.started": "2023-03-20T03:10:39.607564Z"
    },
    "tags": []
   },
   "outputs": [
    {
     "name": "stdout",
     "output_type": "stream",
     "text": [
      "[[28693  6009]\n",
      " [ 1580 33341]]\n",
      "TP: 28693\n",
      "FN: 1580\n",
      "FP: 6009\n",
      "TN: 33341\n",
      "Accuracy:  89.09986642345203\n",
      "Precision: 84.72935196950445\n",
      "Recall: 95.47550184702615\n",
      "F1 Score: 89.78201451441343\n",
      "F2 Score: 93.11359853435661\n"
     ]
    }
   ],
   "source": [
    "# fit the training dataset on the NB classifier\n",
    "Naive = naive_bayes.MultinomialNB()\n",
    "Naive.fit(X_train_Tfidf,y_train)\n",
    "# predict the labels on validation dataset\n",
    "predictions_NB = Naive.predict(X_test_Tfidf)\n",
    "\n",
    "get_metrics(y_test, predictions_NB)"
   ]
  },
  {
   "cell_type": "markdown",
   "id": "a195e6cb-1779-4e40-916d-41683ad2b5b6",
   "metadata": {},
   "source": [
    "### sklearn SVM"
   ]
  },
  {
   "cell_type": "code",
   "execution_count": 10,
   "id": "1ef14d62-320b-4d8a-9111-e37ae53976a9",
   "metadata": {
    "execution": {
     "iopub.execute_input": "2023-03-20T03:10:39.750637Z",
     "iopub.status.busy": "2023-03-20T03:10:39.750498Z",
     "iopub.status.idle": "2023-03-20T03:10:41.440220Z",
     "shell.execute_reply": "2023-03-20T03:10:41.439743Z",
     "shell.execute_reply.started": "2023-03-20T03:10:39.750623Z"
    },
    "tags": []
   },
   "outputs": [
    {
     "name": "stdout",
     "output_type": "stream",
     "text": [
      "[[32677  2025]\n",
      " [ 2554 32367]]\n",
      "TP: 32677\n",
      "FN: 2554\n",
      "FP: 2025\n",
      "TN: 32367\n",
      "Accuracy:  93.42315039570256\n",
      "Precision: 94.11200279134682\n",
      "Recall: 92.68634918816758\n",
      "F1 Score: 93.39373566286268\n",
      "F2 Score: 92.96801397090925\n"
     ]
    }
   ],
   "source": [
    "# fit the training dataset on the SVM classifier\n",
    "# SVM = svm.SVC(C=1.0, kernel='linear', degree=3, gamma='auto')\n",
    "linearSVC = LinearSVC()\n",
    "linearSVC.fit(X_train_Tfidf,y_train)\n",
    "# predict the labels on validation dataset\n",
    "predictions_SVC = linearSVC.predict(X_test_Tfidf)\n",
    "\n",
    "get_metrics(y_test, predictions_SVC)"
   ]
  },
  {
   "cell_type": "markdown",
   "id": "3d574ce1-0e8f-44f7-bf8f-6442999dec8a",
   "metadata": {},
   "source": [
    "### Logistic Regression"
   ]
  },
  {
   "cell_type": "code",
   "execution_count": 11,
   "id": "4c9d838b-1ade-4b47-af17-e26d2061a0e1",
   "metadata": {
    "execution": {
     "iopub.execute_input": "2023-03-20T03:10:41.441122Z",
     "iopub.status.busy": "2023-03-20T03:10:41.440940Z",
     "iopub.status.idle": "2023-03-20T03:10:45.453284Z",
     "shell.execute_reply": "2023-03-20T03:10:45.452893Z",
     "shell.execute_reply.started": "2023-03-20T03:10:41.441108Z"
    },
    "tags": []
   },
   "outputs": [
    {
     "name": "stdout",
     "output_type": "stream",
     "text": [
      "[[32781  1921]\n",
      " [ 2581 32340]]\n",
      "TP: 32781\n",
      "FN: 2581\n",
      "FP: 1921\n",
      "TN: 32340\n",
      "Accuracy:  93.533746032202\n",
      "Precision: 94.39304165085666\n",
      "Recall: 92.6090318146674\n",
      "F1 Score: 93.49252695787922\n",
      "F2 Score: 92.9604185230964\n"
     ]
    }
   ],
   "source": [
    "# fit the training dataset on the Logistic Regression classifier\n",
    "logreg = LogisticRegression(max_iter=300)\n",
    "logreg.fit(X_train_Tfidf,y_train)\n",
    "# predict the labels on validation dataset\n",
    "predictions_logreg = logreg.predict(X_test_Tfidf)\n",
    "\n",
    "get_metrics(y_test, predictions_logreg)"
   ]
  },
  {
   "cell_type": "markdown",
   "id": "7f1640b4-06f8-4227-a848-ef42cdcf186a",
   "metadata": {},
   "source": [
    "### IGNORE BELOW"
   ]
  },
  {
   "cell_type": "markdown",
   "id": "05d157ec-80cf-4616-9fa1-9415883bc7ab",
   "metadata": {},
   "source": [
    "### NLTK Naive Bayes"
   ]
  },
  {
   "cell_type": "code",
   "execution_count": 20,
   "id": "48781656-3483-43c0-bf4b-9e144865fcc2",
   "metadata": {
    "execution": {
     "iopub.execute_input": "2023-03-13T13:10:54.769522Z",
     "iopub.status.busy": "2023-03-13T13:10:54.769114Z",
     "iopub.status.idle": "2023-03-13T13:10:54.839217Z",
     "shell.execute_reply": "2023-03-13T13:10:54.838869Z",
     "shell.execute_reply.started": "2023-03-13T13:10:54.769509Z"
    },
    "tags": []
   },
   "outputs": [
    {
     "name": "stdout",
     "output_type": "stream",
     "text": [
      "Number of suicide observations: 116037. Number of non-suicide observations: 116037\n"
     ]
    }
   ],
   "source": [
    "suicide_rows = docs[docs[\"class\"] == \"suicide\"]\n",
    "non_suicide_rows = docs[docs[\"class\"] == \"non-suicide\"]\n",
    "print(f\"Number of suicide observations: {len(suicide_data)}.\", f\"Number of non-suicide observations: {len(non_suicide_data)}\")"
   ]
  },
  {
   "cell_type": "code",
   "execution_count": 26,
   "id": "fd2db236-da92-4798-9860-3bc871969da7",
   "metadata": {
    "execution": {
     "iopub.execute_input": "2023-03-13T13:20:09.148671Z",
     "iopub.status.busy": "2023-03-13T13:20:09.147431Z",
     "iopub.status.idle": "2023-03-13T13:20:23.323484Z",
     "shell.execute_reply": "2023-03-13T13:20:23.323030Z",
     "shell.execute_reply.started": "2023-03-13T13:20:09.148624Z"
    },
    "tags": []
   },
   "outputs": [],
   "source": [
    "# use gensim to convert these documents into raw term frequency-based vectors\n",
    "dictionary = corpora.Dictionary(doc_text)\n",
    "\n",
    "train_test_split(X, y, test_size=0.33, random_state=42)\n",
    "\n",
    "suicide_rows = docs[docs[\"class\"] == \"suicide\"]['lemmatized_processed_text'].tolist()\n",
    "non_suicide_rows = docs[docs[\"class\"] == \"non-suicide\"]['lemmatized_processed_text'].tolist()\n",
    "\n",
    "\n",
    "suicide_tf_vectors = [dictionary.doc2bow(doc) for doc in suicide_rows]\n",
    "non_suicide_tf_vectors = [dictionary.doc2bow(doc) for doc in non_suicide_rows]"
   ]
  },
  {
   "cell_type": "code",
   "execution_count": 31,
   "id": "a709b852-0228-494c-8271-16ae0da321f6",
   "metadata": {
    "execution": {
     "iopub.execute_input": "2023-03-13T13:23:36.930339Z",
     "iopub.status.busy": "2023-03-13T13:23:36.929523Z",
     "iopub.status.idle": "2023-03-13T13:23:39.375320Z",
     "shell.execute_reply": "2023-03-13T13:23:39.374854Z",
     "shell.execute_reply.started": "2023-03-13T13:23:36.930310Z"
    },
    "tags": []
   },
   "outputs": [],
   "source": [
    "suicide_data_dict = [{id:1 for (id, tf_value) in vec} for vec in suicide_tf_vectors]\n",
    "suicide_data = [(d, 'suicide') for d in suicide_data_dict]\n",
    "\n",
    "non_suicide_data_dict = [{id:1 for (id, tf_value) in vec} for vec in non_suicide_tf_vectors]\n",
    "non_suicide_data = [(d, 'non-suicide') for d in non_suicide_data_dict]\n",
    "\n",
    "all_data = suicide_data + non_suicide_data"
   ]
  },
  {
   "cell_type": "markdown",
   "id": "9c9bee68-d49d-42b2-a3a5-4aa3b6dcfebd",
   "metadata": {},
   "source": [
    "#### train classifer"
   ]
  },
  {
   "cell_type": "code",
   "execution_count": 33,
   "id": "a3065f79-a0a9-4e0a-93aa-cfc58159b3ad",
   "metadata": {
    "execution": {
     "iopub.execute_input": "2023-03-13T13:24:38.963723Z",
     "iopub.status.busy": "2023-03-13T13:24:38.963171Z",
     "iopub.status.idle": "2023-03-13T13:24:48.860270Z",
     "shell.execute_reply": "2023-03-13T13:24:48.859896Z",
     "shell.execute_reply.started": "2023-03-13T13:24:38.963674Z"
    },
    "tags": []
   },
   "outputs": [],
   "source": [
    "classifier = nltk.NaiveBayesClassifier.train(all_data)"
   ]
  },
  {
   "cell_type": "code",
   "execution_count": 39,
   "id": "65493eb8-4bd8-40de-9163-2e6c42352d86",
   "metadata": {
    "execution": {
     "iopub.execute_input": "2023-03-13T13:30:45.952690Z",
     "iopub.status.busy": "2023-03-13T13:30:45.952239Z",
     "iopub.status.idle": "2023-03-13T13:30:59.333725Z",
     "shell.execute_reply": "2023-03-13T13:30:59.333405Z",
     "shell.execute_reply.started": "2023-03-13T13:30:45.952654Z"
    },
    "tags": []
   },
   "outputs": [
    {
     "name": "stdout",
     "output_type": "stream",
     "text": [
      "0.5749114506579798\n"
     ]
    }
   ],
   "source": [
    "print(nltk.classify.accuracy(classifier, all_data))"
   ]
  }
 ],
 "metadata": {
  "kernelspec": {
   "display_name": "Python 3 (ipykernel)",
   "language": "python",
   "name": "python3"
  },
  "language_info": {
   "codemirror_mode": {
    "name": "ipython",
    "version": 3
   },
   "file_extension": ".py",
   "mimetype": "text/x-python",
   "name": "python",
   "nbconvert_exporter": "python",
   "pygments_lexer": "ipython3",
   "version": "3.9.13"
  }
 },
 "nbformat": 4,
 "nbformat_minor": 5
}
