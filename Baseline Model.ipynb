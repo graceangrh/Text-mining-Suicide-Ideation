{
 "cells": [
  {
   "cell_type": "code",
   "execution_count": 11,
   "id": "0f951449-b0b4-4638-a574-b153f4743367",
   "metadata": {
    "execution": {
     "iopub.execute_input": "2023-03-14T03:36:09.186525Z",
     "iopub.status.busy": "2023-03-14T03:36:09.186046Z",
     "iopub.status.idle": "2023-03-14T03:36:09.191809Z",
     "shell.execute_reply": "2023-03-14T03:36:09.191027Z",
     "shell.execute_reply.started": "2023-03-14T03:36:09.186497Z"
    },
    "tags": []
   },
   "outputs": [],
   "source": [
    "import pandas as pd\n",
    "import numpy as np\n",
    "import nltk\n",
    "import gensim\n",
    "from gensim import corpora\n",
    "from sklearn.model_selection import train_test_split\n",
    "from sklearn.preprocessing import LabelEncoder\n",
    "from sklearn.feature_extraction.text import TfidfVectorizer\n",
    "from sklearn import naive_bayes\n",
    "from sklearn.linear_model import LogisticRegression\n",
    "from sklearn.svm import LinearSVC\n",
    "from sklearn.metrics import accuracy_score"
   ]
  },
  {
   "cell_type": "code",
   "execution_count": 2,
   "id": "aca7511e-f1f1-4dc7-a7fb-d792a8d2e825",
   "metadata": {
    "execution": {
     "iopub.execute_input": "2023-03-14T03:32:38.871231Z",
     "iopub.status.busy": "2023-03-14T03:32:38.870554Z",
     "iopub.status.idle": "2023-03-14T03:32:38.876243Z",
     "shell.execute_reply": "2023-03-14T03:32:38.875231Z",
     "shell.execute_reply.started": "2023-03-14T03:32:38.871192Z"
    },
    "tags": []
   },
   "outputs": [],
   "source": [
    "np.random.seed(500)"
   ]
  },
  {
   "cell_type": "code",
   "execution_count": 3,
   "id": "570919f9-f31c-4cee-9c9a-bf246be9f4a6",
   "metadata": {
    "execution": {
     "iopub.execute_input": "2023-03-14T03:33:52.554138Z",
     "iopub.status.busy": "2023-03-14T03:33:52.553715Z",
     "iopub.status.idle": "2023-03-14T03:33:57.503491Z",
     "shell.execute_reply": "2023-03-14T03:33:57.503019Z",
     "shell.execute_reply.started": "2023-03-14T03:33:52.554114Z"
    },
    "tags": []
   },
   "outputs": [],
   "source": [
    "# read cleaned and processed data\n",
    "# docs = pd.read_csv(\"preprocessed_data.csv\", converters={'lemmatized_processed_text': pd.eval})\n",
    "docs = pd.read_csv(\"preprocessed_data.csv\")"
   ]
  },
  {
   "cell_type": "code",
   "execution_count": 4,
   "id": "1d5724ca-8808-4bab-816a-f4ffb2ae1c4d",
   "metadata": {
    "execution": {
     "iopub.execute_input": "2023-03-14T03:33:58.277963Z",
     "iopub.status.busy": "2023-03-14T03:33:58.277386Z",
     "iopub.status.idle": "2023-03-14T03:33:58.295481Z",
     "shell.execute_reply": "2023-03-14T03:33:58.294508Z",
     "shell.execute_reply.started": "2023-03-14T03:33:58.277925Z"
    },
    "tags": []
   },
   "outputs": [
    {
     "data": {
      "text/html": [
       "<div>\n",
       "<style scoped>\n",
       "    .dataframe tbody tr th:only-of-type {\n",
       "        vertical-align: middle;\n",
       "    }\n",
       "\n",
       "    .dataframe tbody tr th {\n",
       "        vertical-align: top;\n",
       "    }\n",
       "\n",
       "    .dataframe thead th {\n",
       "        text-align: right;\n",
       "    }\n",
       "</style>\n",
       "<table border=\"1\" class=\"dataframe\">\n",
       "  <thead>\n",
       "    <tr style=\"text-align: right;\">\n",
       "      <th></th>\n",
       "      <th>text</th>\n",
       "      <th>class</th>\n",
       "      <th>stemmed_processed_text</th>\n",
       "      <th>lemmatized_processed_text</th>\n",
       "    </tr>\n",
       "  </thead>\n",
       "  <tbody>\n",
       "    <tr>\n",
       "      <th>0</th>\n",
       "      <td>ex wife threatening suiciderecently i left my ...</td>\n",
       "      <td>suicide</td>\n",
       "      <td>['ex', 'wife', 'threaten', 'suiciderec', 'left...</td>\n",
       "      <td>['ex', 'wife', 'threatening', 'suiciderecently...</td>\n",
       "    </tr>\n",
       "    <tr>\n",
       "      <th>1</th>\n",
       "      <td>am i weird i do not get affected by compliment...</td>\n",
       "      <td>non-suicide</td>\n",
       "      <td>['weird', 'get', 'affect', 'compliment', 'come...</td>\n",
       "      <td>['weird', 'get', 'affected', 'compliment', 'co...</td>\n",
       "    </tr>\n",
       "    <tr>\n",
       "      <th>2</th>\n",
       "      <td>finally      is almost over    so i can never ...</td>\n",
       "      <td>non-suicide</td>\n",
       "      <td>['final', 'almost', 'never', 'hear', 'bad', 'y...</td>\n",
       "      <td>['finally', 'almost', 'never', 'hear', 'bad', ...</td>\n",
       "    </tr>\n",
       "  </tbody>\n",
       "</table>\n",
       "</div>"
      ],
      "text/plain": [
       "                                                text        class  \\\n",
       "0  ex wife threatening suiciderecently i left my ...      suicide   \n",
       "1  am i weird i do not get affected by compliment...  non-suicide   \n",
       "2  finally      is almost over    so i can never ...  non-suicide   \n",
       "\n",
       "                              stemmed_processed_text  \\\n",
       "0  ['ex', 'wife', 'threaten', 'suiciderec', 'left...   \n",
       "1  ['weird', 'get', 'affect', 'compliment', 'come...   \n",
       "2  ['final', 'almost', 'never', 'hear', 'bad', 'y...   \n",
       "\n",
       "                           lemmatized_processed_text  \n",
       "0  ['ex', 'wife', 'threatening', 'suiciderecently...  \n",
       "1  ['weird', 'get', 'affected', 'compliment', 'co...  \n",
       "2  ['finally', 'almost', 'never', 'hear', 'bad', ...  "
      ]
     },
     "execution_count": 4,
     "metadata": {},
     "output_type": "execute_result"
    }
   ],
   "source": [
    "docs.head(3)"
   ]
  },
  {
   "cell_type": "code",
   "execution_count": 5,
   "id": "503b2531-b632-4438-b170-6dce81e5100b",
   "metadata": {
    "execution": {
     "iopub.execute_input": "2023-03-14T03:33:59.878894Z",
     "iopub.status.busy": "2023-03-14T03:33:59.878314Z",
     "iopub.status.idle": "2023-03-14T03:33:59.913905Z",
     "shell.execute_reply": "2023-03-14T03:33:59.913343Z",
     "shell.execute_reply.started": "2023-03-14T03:33:59.878859Z"
    },
    "tags": []
   },
   "outputs": [],
   "source": [
    "train_X, test_X, train_y, test_y = train_test_split(docs['lemmatized_processed_text'],docs['class'],test_size=0.3)"
   ]
  },
  {
   "cell_type": "code",
   "execution_count": 6,
   "id": "ea705ada-fe74-43af-8605-b9be06d36a61",
   "metadata": {
    "execution": {
     "iopub.execute_input": "2023-03-14T03:34:01.117508Z",
     "iopub.status.busy": "2023-03-14T03:34:01.117093Z",
     "iopub.status.idle": "2023-03-14T03:34:01.173649Z",
     "shell.execute_reply": "2023-03-14T03:34:01.173139Z",
     "shell.execute_reply.started": "2023-03-14T03:34:01.117484Z"
    },
    "tags": []
   },
   "outputs": [],
   "source": [
    "Encoder = LabelEncoder()\n",
    "train_y = Encoder.fit_transform(train_y)\n",
    "test_y = Encoder.fit_transform(test_y)"
   ]
  },
  {
   "cell_type": "code",
   "execution_count": 7,
   "id": "24e135de-69a7-4f27-813c-a0c1189b664c",
   "metadata": {
    "execution": {
     "iopub.execute_input": "2023-03-14T03:34:02.553493Z",
     "iopub.status.busy": "2023-03-14T03:34:02.552785Z",
     "iopub.status.idle": "2023-03-14T03:34:20.320172Z",
     "shell.execute_reply": "2023-03-14T03:34:20.319732Z",
     "shell.execute_reply.started": "2023-03-14T03:34:02.553466Z"
    },
    "tags": []
   },
   "outputs": [],
   "source": [
    "Tfidf_vect = TfidfVectorizer()\n",
    "Tfidf_vect.fit(docs['lemmatized_processed_text'])\n",
    "train_X_Tfidf = Tfidf_vect.transform(train_X)\n",
    "test_X_Tfidf = Tfidf_vect.transform(test_X)"
   ]
  },
  {
   "cell_type": "markdown",
   "id": "55287dce-8abc-41ff-8ccb-ff9f9c5e3c89",
   "metadata": {},
   "source": [
    "### sklearn Naive Bayes"
   ]
  },
  {
   "cell_type": "code",
   "execution_count": 8,
   "id": "9e4aa0e9-e642-44eb-b6e2-607b9ec8376e",
   "metadata": {
    "execution": {
     "iopub.execute_input": "2023-03-14T03:34:20.321277Z",
     "iopub.status.busy": "2023-03-14T03:34:20.321129Z",
     "iopub.status.idle": "2023-03-14T03:34:20.410759Z",
     "shell.execute_reply": "2023-03-14T03:34:20.410367Z",
     "shell.execute_reply.started": "2023-03-14T03:34:20.321263Z"
    },
    "tags": []
   },
   "outputs": [
    {
     "name": "stdout",
     "output_type": "stream",
     "text": [
      "Naive Bayes Accuracy Score ->  87.95082084943195\n"
     ]
    }
   ],
   "source": [
    "# fit the training dataset on the NB classifier\n",
    "Naive = naive_bayes.MultinomialNB()\n",
    "Naive.fit(train_X_Tfidf,train_y)\n",
    "# predict the labels on validation dataset\n",
    "predictions_NB = Naive.predict(test_X_Tfidf)\n",
    "# Use accuracy_score function to get the accuracy\n",
    "print(\"Naive Bayes Accuracy Score -> \",accuracy_score(predictions_NB, test_y)*100)"
   ]
  },
  {
   "cell_type": "markdown",
   "id": "a195e6cb-1779-4e40-916d-41683ad2b5b6",
   "metadata": {},
   "source": [
    "### sklearn SVM"
   ]
  },
  {
   "cell_type": "code",
   "execution_count": 9,
   "id": "1ef14d62-320b-4d8a-9111-e37ae53976a9",
   "metadata": {
    "execution": {
     "iopub.execute_input": "2023-03-14T03:34:20.411422Z",
     "iopub.status.busy": "2023-03-14T03:34:20.411298Z",
     "iopub.status.idle": "2023-03-14T03:34:22.071293Z",
     "shell.execute_reply": "2023-03-14T03:34:22.070888Z",
     "shell.execute_reply.started": "2023-03-14T03:34:20.411410Z"
    },
    "tags": []
   },
   "outputs": [
    {
     "name": "stdout",
     "output_type": "stream",
     "text": [
      "SVC Accuracy Score ->  93.36569811700156\n"
     ]
    }
   ],
   "source": [
    "# fit the training dataset on the SVM classifier\n",
    "# SVM = svm.SVC(C=1.0, kernel='linear', degree=3, gamma='auto')\n",
    "linearSVC = LinearSVC()\n",
    "linearSVC.fit(train_X_Tfidf,train_y)\n",
    "# predict the labels on validation dataset\n",
    "predictions_SVC = linearSVC.predict(test_X_Tfidf)\n",
    "# Use accuracy_score function to get the accuracy\n",
    "print(\"SVC Accuracy Score -> \",accuracy_score(predictions_SVC, test_y)*100)"
   ]
  },
  {
   "cell_type": "markdown",
   "id": "3d574ce1-0e8f-44f7-bf8f-6442999dec8a",
   "metadata": {},
   "source": [
    "### Logistic Regression"
   ]
  },
  {
   "cell_type": "code",
   "execution_count": 14,
   "id": "4c9d838b-1ade-4b47-af17-e26d2061a0e1",
   "metadata": {
    "execution": {
     "iopub.execute_input": "2023-03-14T03:39:12.432541Z",
     "iopub.status.busy": "2023-03-14T03:39:12.432078Z",
     "iopub.status.idle": "2023-03-14T03:39:17.082499Z",
     "shell.execute_reply": "2023-03-14T03:39:17.082096Z",
     "shell.execute_reply.started": "2023-03-14T03:39:12.432508Z"
    },
    "tags": []
   },
   "outputs": [
    {
     "name": "stdout",
     "output_type": "stream",
     "text": [
      "Logistic Regression Accuracy Score ->  93.0870545653017\n"
     ]
    }
   ],
   "source": [
    "# fit the training dataset on the Logistic Regression classifier\n",
    "logreg = LogisticRegression(max_iter=200)\n",
    "logreg.fit(train_X_Tfidf,train_y)\n",
    "# predict the labels on validation dataset\n",
    "predictions_logreg = logreg.predict(test_X_Tfidf)\n",
    "# Use accuracy_score function to get the accuracy\n",
    "print(\"Logistic Regression Accuracy Score -> \",accuracy_score(predictions_logreg, test_y)*100)"
   ]
  },
  {
   "cell_type": "code",
   "execution_count": 4,
   "id": "9580d903-24ed-4647-a9a2-7c630d95168d",
   "metadata": {
    "execution": {
     "iopub.execute_input": "2023-03-13T12:40:40.713192Z",
     "iopub.status.busy": "2023-03-13T12:40:40.712805Z",
     "iopub.status.idle": "2023-03-13T12:40:40.726060Z",
     "shell.execute_reply": "2023-03-13T12:40:40.725183Z",
     "shell.execute_reply.started": "2023-03-13T12:40:40.713168Z"
    },
    "tags": []
   },
   "outputs": [],
   "source": [
    "doc_text = docs['lemmatized_processed_text'].tolist()"
   ]
  },
  {
   "cell_type": "markdown",
   "id": "05d157ec-80cf-4616-9fa1-9415883bc7ab",
   "metadata": {},
   "source": [
    "### NLTK Naive Bayes"
   ]
  },
  {
   "cell_type": "code",
   "execution_count": 20,
   "id": "48781656-3483-43c0-bf4b-9e144865fcc2",
   "metadata": {
    "execution": {
     "iopub.execute_input": "2023-03-13T13:10:54.769522Z",
     "iopub.status.busy": "2023-03-13T13:10:54.769114Z",
     "iopub.status.idle": "2023-03-13T13:10:54.839217Z",
     "shell.execute_reply": "2023-03-13T13:10:54.838869Z",
     "shell.execute_reply.started": "2023-03-13T13:10:54.769509Z"
    },
    "tags": []
   },
   "outputs": [
    {
     "name": "stdout",
     "output_type": "stream",
     "text": [
      "Number of suicide observations: 116037. Number of non-suicide observations: 116037\n"
     ]
    }
   ],
   "source": [
    "suicide_rows = docs[docs[\"class\"] == \"suicide\"]\n",
    "non_suicide_rows = docs[docs[\"class\"] == \"non-suicide\"]\n",
    "print(f\"Number of suicide observations: {len(suicide_data)}.\", f\"Number of non-suicide observations: {len(non_suicide_data)}\")"
   ]
  },
  {
   "cell_type": "code",
   "execution_count": 26,
   "id": "fd2db236-da92-4798-9860-3bc871969da7",
   "metadata": {
    "execution": {
     "iopub.execute_input": "2023-03-13T13:20:09.148671Z",
     "iopub.status.busy": "2023-03-13T13:20:09.147431Z",
     "iopub.status.idle": "2023-03-13T13:20:23.323484Z",
     "shell.execute_reply": "2023-03-13T13:20:23.323030Z",
     "shell.execute_reply.started": "2023-03-13T13:20:09.148624Z"
    },
    "tags": []
   },
   "outputs": [],
   "source": [
    "# use gensim to convert these documents into raw term frequency-based vectors\n",
    "dictionary = corpora.Dictionary(doc_text)\n",
    "\n",
    "train_test_split(X, y, test_size=0.33, random_state=42)\n",
    "\n",
    "suicide_rows = docs[docs[\"class\"] == \"suicide\"]['lemmatized_processed_text'].tolist()\n",
    "non_suicide_rows = docs[docs[\"class\"] == \"non-suicide\"]['lemmatized_processed_text'].tolist()\n",
    "\n",
    "\n",
    "suicide_tf_vectors = [dictionary.doc2bow(doc) for doc in suicide_rows]\n",
    "non_suicide_tf_vectors = [dictionary.doc2bow(doc) for doc in non_suicide_rows]"
   ]
  },
  {
   "cell_type": "code",
   "execution_count": 31,
   "id": "a709b852-0228-494c-8271-16ae0da321f6",
   "metadata": {
    "execution": {
     "iopub.execute_input": "2023-03-13T13:23:36.930339Z",
     "iopub.status.busy": "2023-03-13T13:23:36.929523Z",
     "iopub.status.idle": "2023-03-13T13:23:39.375320Z",
     "shell.execute_reply": "2023-03-13T13:23:39.374854Z",
     "shell.execute_reply.started": "2023-03-13T13:23:36.930310Z"
    },
    "tags": []
   },
   "outputs": [],
   "source": [
    "suicide_data_dict = [{id:1 for (id, tf_value) in vec} for vec in suicide_tf_vectors]\n",
    "suicide_data = [(d, 'suicide') for d in suicide_data_dict]\n",
    "\n",
    "non_suicide_data_dict = [{id:1 for (id, tf_value) in vec} for vec in non_suicide_tf_vectors]\n",
    "non_suicide_data = [(d, 'non-suicide') for d in non_suicide_data_dict]\n",
    "\n",
    "all_data = suicide_data + non_suicide_data"
   ]
  },
  {
   "cell_type": "markdown",
   "id": "9c9bee68-d49d-42b2-a3a5-4aa3b6dcfebd",
   "metadata": {},
   "source": [
    "#### train classifer"
   ]
  },
  {
   "cell_type": "code",
   "execution_count": 33,
   "id": "a3065f79-a0a9-4e0a-93aa-cfc58159b3ad",
   "metadata": {
    "execution": {
     "iopub.execute_input": "2023-03-13T13:24:38.963723Z",
     "iopub.status.busy": "2023-03-13T13:24:38.963171Z",
     "iopub.status.idle": "2023-03-13T13:24:48.860270Z",
     "shell.execute_reply": "2023-03-13T13:24:48.859896Z",
     "shell.execute_reply.started": "2023-03-13T13:24:38.963674Z"
    },
    "tags": []
   },
   "outputs": [],
   "source": [
    "classifier = nltk.NaiveBayesClassifier.train(all_data)"
   ]
  },
  {
   "cell_type": "code",
   "execution_count": 39,
   "id": "65493eb8-4bd8-40de-9163-2e6c42352d86",
   "metadata": {
    "execution": {
     "iopub.execute_input": "2023-03-13T13:30:45.952690Z",
     "iopub.status.busy": "2023-03-13T13:30:45.952239Z",
     "iopub.status.idle": "2023-03-13T13:30:59.333725Z",
     "shell.execute_reply": "2023-03-13T13:30:59.333405Z",
     "shell.execute_reply.started": "2023-03-13T13:30:45.952654Z"
    },
    "tags": []
   },
   "outputs": [
    {
     "name": "stdout",
     "output_type": "stream",
     "text": [
      "0.5749114506579798\n"
     ]
    }
   ],
   "source": [
    "print(nltk.classify.accuracy(classifier, all_data))"
   ]
  }
 ],
 "metadata": {
  "kernelspec": {
   "display_name": "Python 3 (ipykernel)",
   "language": "python",
   "name": "python3"
  },
  "language_info": {
   "codemirror_mode": {
    "name": "ipython",
    "version": 3
   },
   "file_extension": ".py",
   "mimetype": "text/x-python",
   "name": "python",
   "nbconvert_exporter": "python",
   "pygments_lexer": "ipython3",
   "version": "3.9.13"
  }
 },
 "nbformat": 4,
 "nbformat_minor": 5
}
